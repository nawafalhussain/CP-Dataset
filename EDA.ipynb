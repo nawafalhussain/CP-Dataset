{
 "cells": [
  {
   "cell_type": "markdown",
   "metadata": {},
   "source": [
    "# A study for employees in data science in Saudi Arabia"
   ]
  },
  {
   "cell_type": "markdown",
   "metadata": {},
   "source": [
    "The data science job is one of the most important jobs in Saudi Arabia due to the development in technologies for data preservation and processing. <br> \n",
    "\n",
    "In this project, I am trying to study what are the advantages that I am trying to use to <br>\n",
    "1 - determine what degrees they hold ? <br>\n",
    "2 -  what are their scientific specializations ? <br>\n",
    "3 - the skills they possess ? <br>\n",
    "4 -  and finally what university has graduated more data scientists or data analysts in the Saudi market ? <br>"
   ]
  },
  {
   "cell_type": "markdown",
   "metadata": {},
   "source": [
    "  All data was collected from LinkedIn "
   ]
  },
  {
   "cell_type": "code",
   "execution_count": 213,
   "metadata": {},
   "outputs": [],
   "source": [
    "# importing library \n",
    "import pandas as pd \n",
    "import numpy as np\n",
    "import seaborn as sns\n",
    "import matplotlib.pyplot as plt "
   ]
  },
  {
   "cell_type": "code",
   "execution_count": 214,
   "metadata": {},
   "outputs": [],
   "source": [
    "# read data set \n",
    "df =pd.read_csv('df.csv')"
   ]
  },
  {
   "cell_type": "markdown",
   "metadata": {},
   "source": [
    "#### | Meta Data |"
   ]
  },
  {
   "cell_type": "code",
   "execution_count": 215,
   "metadata": {},
   "outputs": [
    {
     "data": {
      "text/html": [
       "<div>\n",
       "<style scoped>\n",
       "    .dataframe tbody tr th:only-of-type {\n",
       "        vertical-align: middle;\n",
       "    }\n",
       "\n",
       "    .dataframe tbody tr th {\n",
       "        vertical-align: top;\n",
       "    }\n",
       "\n",
       "    .dataframe thead th {\n",
       "        text-align: right;\n",
       "    }\n",
       "</style>\n",
       "<table border=\"1\" class=\"dataframe\">\n",
       "  <thead>\n",
       "    <tr style=\"text-align: right;\">\n",
       "      <th></th>\n",
       "      <th>Unnamed: 0</th>\n",
       "      <th>headline</th>\n",
       "      <th>location</th>\n",
       "      <th>connectionDegree</th>\n",
       "      <th>userId</th>\n",
       "      <th>company</th>\n",
       "      <th>companyUrl</th>\n",
       "      <th>jobTitle</th>\n",
       "      <th>jobDateRange</th>\n",
       "      <th>company2</th>\n",
       "      <th>...</th>\n",
       "      <th>skill6</th>\n",
       "      <th>baseUrl</th>\n",
       "      <th>profileId</th>\n",
       "      <th>description</th>\n",
       "      <th>jobLocation2</th>\n",
       "      <th>jobDescription</th>\n",
       "      <th>jobDescription2</th>\n",
       "      <th>jobLocation</th>\n",
       "      <th>schoolDescription2</th>\n",
       "      <th>schoolDescription</th>\n",
       "    </tr>\n",
       "  </thead>\n",
       "  <tbody>\n",
       "    <tr>\n",
       "      <th>0</th>\n",
       "      <td>0</td>\n",
       "      <td>MBA | Senior Data Analysis Expert</td>\n",
       "      <td>السعودية</td>\n",
       "      <td>من الدرجة الثانية</td>\n",
       "      <td>537645229.0</td>\n",
       "      <td>NCGR - National Center for Government Resource...</td>\n",
       "      <td>https://www.linkedin.com/company/75767613/</td>\n",
       "      <td>Senior Data Analyst Expert</td>\n",
       "      <td>سبتمبر ٢٠٢١ - الوقت الحاضر · ٦ لا</td>\n",
       "      <td>NCGR - National Center for Government Resource...</td>\n",
       "      <td>...</td>\n",
       "      <td>Business Development</td>\n",
       "      <td>https://www.linkedin.com/in/mai-alrohaimi/</td>\n",
       "      <td>mai-alrohaimi</td>\n",
       "      <td>NaN</td>\n",
       "      <td>NaN</td>\n",
       "      <td>NaN</td>\n",
       "      <td>NaN</td>\n",
       "      <td>NaN</td>\n",
       "      <td>NaN</td>\n",
       "      <td>NaN</td>\n",
       "    </tr>\n",
       "    <tr>\n",
       "      <th>1</th>\n",
       "      <td>1</td>\n",
       "      <td>Business Intelligence Specialist at Public Hea...</td>\n",
       "      <td>الرياض السعودية</td>\n",
       "      <td>من الدرجة الثانية</td>\n",
       "      <td>398812136.0</td>\n",
       "      <td>Public Health Authority of Saudi Arabia</td>\n",
       "      <td>https://www.linkedin.com/company/13048750/</td>\n",
       "      <td>Business Intelligence and Reporting Specialist</td>\n",
       "      <td>فبراير ٢٠٢١ - الوقت الحاضر · ١ شهريا ١</td>\n",
       "      <td>Public Health Authority of Saudi Arabia</td>\n",
       "      <td>...</td>\n",
       "      <td>Marketing</td>\n",
       "      <td>https://www.linkedin.com/in/ali-alsaeed-08868ab1/</td>\n",
       "      <td>ali-alsaeed-08868ab1</td>\n",
       "      <td>Motivate software engineer with skills and pas...</td>\n",
       "      <td>Riyadh</td>\n",
       "      <td>NaN</td>\n",
       "      <td>NaN</td>\n",
       "      <td>NaN</td>\n",
       "      <td>NaN</td>\n",
       "      <td>NaN</td>\n",
       "    </tr>\n",
       "    <tr>\n",
       "      <th>2</th>\n",
       "      <td>2</td>\n",
       "      <td>Data and Report Analyst at BAE Systems SDT</td>\n",
       "      <td>السعودية</td>\n",
       "      <td>من الدرجة الثانية</td>\n",
       "      <td>230117062.0</td>\n",
       "      <td>BAE Systems SDT</td>\n",
       "      <td>https://www.linkedin.com/company/10261637/</td>\n",
       "      <td>Data and Report Analyst</td>\n",
       "      <td>نوفمبر ٢٠١٩ - الوقت الحاضر · ٢ شهر سنة ٤</td>\n",
       "      <td>BAE Systems SDT</td>\n",
       "      <td>...</td>\n",
       "      <td>Social Media</td>\n",
       "      <td>https://www.linkedin.com/in/muhammed-almarjood...</td>\n",
       "      <td>muhammed-almarjood-cipd-71a09565</td>\n",
       "      <td>Highly motivated Corporate data and report ana...</td>\n",
       "      <td>NaN</td>\n",
       "      <td>Main responsibilities :\\n \\nProviding evidence...</td>\n",
       "      <td>Roles and Responsibilities • \\n\\nDirect and le...</td>\n",
       "      <td>NaN</td>\n",
       "      <td>NaN</td>\n",
       "      <td>NaN</td>\n",
       "    </tr>\n",
       "    <tr>\n",
       "      <th>3</th>\n",
       "      <td>3</td>\n",
       "      <td>Business Analysis | Data Science | NLP</td>\n",
       "      <td>القصيم السعودية</td>\n",
       "      <td>من الدرجة الثانية</td>\n",
       "      <td>513096312.0</td>\n",
       "      <td>شركة عالم النظم والبرامج</td>\n",
       "      <td>https://www.linkedin.com/company/13282777/</td>\n",
       "      <td>Business System Analyst</td>\n",
       "      <td>أكتوبر ٢٠٢١ - الوقت الحاضر · ٥ لا</td>\n",
       "      <td>عمل مستقل</td>\n",
       "      <td>...</td>\n",
       "      <td>Data Science</td>\n",
       "      <td>https://www.linkedin.com/in/alaa-alosili/</td>\n",
       "      <td>alaa-alosili</td>\n",
       "      <td>Enthusiastic about exploring and learning new ...</td>\n",
       "      <td>NaN</td>\n",
       "      <td>NaN</td>\n",
       "      <td>Working on multiple projects that are data gat...</td>\n",
       "      <td>Al Qasim, Saudi Arabia</td>\n",
       "      <td>NaN</td>\n",
       "      <td>NaN</td>\n",
       "    </tr>\n",
       "    <tr>\n",
       "      <th>4</th>\n",
       "      <td>4</td>\n",
       "      <td>Data architect At basserah</td>\n",
       "      <td>الرياض الرياض السعودية</td>\n",
       "      <td>من الدرجة الثالثة</td>\n",
       "      <td>796862246.0</td>\n",
       "      <td>Basserah</td>\n",
       "      <td>https://www.linkedin.com/company/2811988/</td>\n",
       "      <td>Data Architect</td>\n",
       "      <td>سبتمبر ٢٠٢١ - الوقت الحاضر · ٦ لا</td>\n",
       "      <td>Comptechco</td>\n",
       "      <td>...</td>\n",
       "      <td>Information Technology</td>\n",
       "      <td>https://www.linkedin.com/in/muhannad-alnassar-...</td>\n",
       "      <td>muhannad-alnassar-172a4b1a2</td>\n",
       "      <td>Business and Data analyst</td>\n",
       "      <td>NaN</td>\n",
       "      <td>NaN</td>\n",
       "      <td>NaN</td>\n",
       "      <td>NaN</td>\n",
       "      <td>NaN</td>\n",
       "      <td>NaN</td>\n",
       "    </tr>\n",
       "  </tbody>\n",
       "</table>\n",
       "<p>5 rows × 38 columns</p>\n",
       "</div>"
      ],
      "text/plain": [
       "   Unnamed: 0                                           headline  \\\n",
       "0           0                  MBA | Senior Data Analysis Expert   \n",
       "1           1  Business Intelligence Specialist at Public Hea...   \n",
       "2           2         Data and Report Analyst at BAE Systems SDT   \n",
       "3           3             Business Analysis | Data Science | NLP   \n",
       "4           4                        Data architect At basserah    \n",
       "\n",
       "                 location   connectionDegree       userId  \\\n",
       "0                السعودية  من الدرجة الثانية  537645229.0   \n",
       "1         الرياض السعودية  من الدرجة الثانية  398812136.0   \n",
       "2                السعودية  من الدرجة الثانية  230117062.0   \n",
       "3         القصيم السعودية  من الدرجة الثانية  513096312.0   \n",
       "4  الرياض الرياض السعودية  من الدرجة الثالثة  796862246.0   \n",
       "\n",
       "                                             company  \\\n",
       "0  NCGR - National Center for Government Resource...   \n",
       "1            Public Health Authority of Saudi Arabia   \n",
       "2                                    BAE Systems SDT   \n",
       "3                           شركة عالم النظم والبرامج   \n",
       "4                                           Basserah   \n",
       "\n",
       "                                   companyUrl  \\\n",
       "0  https://www.linkedin.com/company/75767613/   \n",
       "1  https://www.linkedin.com/company/13048750/   \n",
       "2  https://www.linkedin.com/company/10261637/   \n",
       "3  https://www.linkedin.com/company/13282777/   \n",
       "4   https://www.linkedin.com/company/2811988/   \n",
       "\n",
       "                                         jobTitle  \\\n",
       "0                      Senior Data Analyst Expert   \n",
       "1  Business Intelligence and Reporting Specialist   \n",
       "2                         Data and Report Analyst   \n",
       "3                         Business System Analyst   \n",
       "4                                  Data Architect   \n",
       "\n",
       "                               jobDateRange  \\\n",
       "0         سبتمبر ٢٠٢١ - الوقت الحاضر · ٦ لا   \n",
       "1    فبراير ٢٠٢١ - الوقت الحاضر · ١ شهريا ١   \n",
       "2  نوفمبر ٢٠١٩ - الوقت الحاضر · ٢ شهر سنة ٤   \n",
       "3         أكتوبر ٢٠٢١ - الوقت الحاضر · ٥ لا   \n",
       "4         سبتمبر ٢٠٢١ - الوقت الحاضر · ٦ لا   \n",
       "\n",
       "                                            company2  ...  \\\n",
       "0  NCGR - National Center for Government Resource...  ...   \n",
       "1            Public Health Authority of Saudi Arabia  ...   \n",
       "2                                    BAE Systems SDT  ...   \n",
       "3                                          عمل مستقل  ...   \n",
       "4                                         Comptechco  ...   \n",
       "\n",
       "                   skill6                                            baseUrl  \\\n",
       "0    Business Development         https://www.linkedin.com/in/mai-alrohaimi/   \n",
       "1               Marketing  https://www.linkedin.com/in/ali-alsaeed-08868ab1/   \n",
       "2            Social Media  https://www.linkedin.com/in/muhammed-almarjood...   \n",
       "3            Data Science          https://www.linkedin.com/in/alaa-alosili/   \n",
       "4  Information Technology  https://www.linkedin.com/in/muhannad-alnassar-...   \n",
       "\n",
       "                          profileId  \\\n",
       "0                     mai-alrohaimi   \n",
       "1              ali-alsaeed-08868ab1   \n",
       "2  muhammed-almarjood-cipd-71a09565   \n",
       "3                      alaa-alosili   \n",
       "4       muhannad-alnassar-172a4b1a2   \n",
       "\n",
       "                                         description jobLocation2  \\\n",
       "0                                                NaN          NaN   \n",
       "1  Motivate software engineer with skills and pas...       Riyadh   \n",
       "2  Highly motivated Corporate data and report ana...          NaN   \n",
       "3  Enthusiastic about exploring and learning new ...          NaN   \n",
       "4                         Business and Data analyst           NaN   \n",
       "\n",
       "                                      jobDescription  \\\n",
       "0                                                NaN   \n",
       "1                                                NaN   \n",
       "2  Main responsibilities :\\n \\nProviding evidence...   \n",
       "3                                                NaN   \n",
       "4                                                NaN   \n",
       "\n",
       "                                     jobDescription2             jobLocation  \\\n",
       "0                                                NaN                     NaN   \n",
       "1                                                NaN                     NaN   \n",
       "2  Roles and Responsibilities • \\n\\nDirect and le...                     NaN   \n",
       "3  Working on multiple projects that are data gat...  Al Qasim, Saudi Arabia   \n",
       "4                                                NaN                     NaN   \n",
       "\n",
       "  schoolDescription2 schoolDescription  \n",
       "0                NaN               NaN  \n",
       "1                NaN               NaN  \n",
       "2                NaN               NaN  \n",
       "3                NaN               NaN  \n",
       "4                NaN               NaN  \n",
       "\n",
       "[5 rows x 38 columns]"
      ]
     },
     "execution_count": 215,
     "metadata": {},
     "output_type": "execute_result"
    }
   ],
   "source": [
    "# head of dataset \n",
    "df.head() "
   ]
  },
  {
   "cell_type": "code",
   "execution_count": 216,
   "metadata": {},
   "outputs": [
    {
     "data": {
      "text/plain": [
       "(5981, 38)"
      ]
     },
     "execution_count": 216,
     "metadata": {},
     "output_type": "execute_result"
    }
   ],
   "source": [
    "df.shape"
   ]
  },
  {
   "cell_type": "code",
   "execution_count": 217,
   "metadata": {},
   "outputs": [
    {
     "name": "stdout",
     "output_type": "stream",
     "text": [
      "<class 'pandas.core.frame.DataFrame'>\n",
      "RangeIndex: 5981 entries, 0 to 5980\n",
      "Data columns (total 38 columns):\n",
      " #   Column              Non-Null Count  Dtype  \n",
      "---  ------              --------------  -----  \n",
      " 0   Unnamed: 0          5981 non-null   int64  \n",
      " 1   headline            5958 non-null   object \n",
      " 2   location            5961 non-null   object \n",
      " 3   connectionDegree    5949 non-null   object \n",
      " 4   userId              5959 non-null   float64\n",
      " 5   company             5807 non-null   object \n",
      " 6   companyUrl          5051 non-null   object \n",
      " 7   jobTitle            5807 non-null   object \n",
      " 8   jobDateRange        5784 non-null   object \n",
      " 9   company2            5236 non-null   object \n",
      " 10  companyUrl2         4581 non-null   object \n",
      " 11  jobTitle2           5236 non-null   object \n",
      " 12  jobDateRange2       5223 non-null   object \n",
      " 13  school              5852 non-null   object \n",
      " 14  schoolUrl           5338 non-null   object \n",
      " 15  schoolDegree        5784 non-null   object \n",
      " 16  schoolDateRange     5621 non-null   object \n",
      " 17  school2             3330 non-null   object \n",
      " 18  schoolUrl2          2695 non-null   object \n",
      " 19  schoolDegree2       3252 non-null   object \n",
      " 20  schoolDateRange2    3092 non-null   object \n",
      " 21  companyWebsite      4742 non-null   object \n",
      " 22  allSkills           5744 non-null   object \n",
      " 23  skill1              5744 non-null   object \n",
      " 24  skill2              5744 non-null   object \n",
      " 25  skill3              5744 non-null   object \n",
      " 26  skill4              5744 non-null   object \n",
      " 27  skill5              5710 non-null   object \n",
      " 28  skill6              5545 non-null   object \n",
      " 29  baseUrl             5978 non-null   object \n",
      " 30  profileId           5967 non-null   object \n",
      " 31  description         4464 non-null   object \n",
      " 32  jobLocation2        2190 non-null   object \n",
      " 33  jobDescription      1556 non-null   object \n",
      " 34  jobDescription2     2217 non-null   object \n",
      " 35  jobLocation         2830 non-null   object \n",
      " 36  schoolDescription2  915 non-null    object \n",
      " 37  schoolDescription   1623 non-null   object \n",
      "dtypes: float64(1), int64(1), object(36)\n",
      "memory usage: 1.7+ MB\n"
     ]
    }
   ],
   "source": [
    "df.info()"
   ]
  },
  {
   "cell_type": "code",
   "execution_count": 218,
   "metadata": {},
   "outputs": [],
   "source": [
    "nrows = 5981\n",
    "ncols = 38 \n",
    "n_num_cols = 2\n",
    "n_obj_cols = 36"
   ]
  },
  {
   "cell_type": "code",
   "execution_count": 219,
   "metadata": {},
   "outputs": [
    {
     "name": "stdout",
     "output_type": "stream",
     "text": [
      "There are 5981 rows and 38 columns in this dataset.\n",
      "Of those columns, there are 2 numerical columns and 36 categorical columns.\n"
     ]
    }
   ],
   "source": [
    "print('There are {0} rows and {1} columns in this dataset.'.format(nrows, ncols))\n",
    "print('Of those columns, there are {0} numerical columns and {1} categorical columns.'.format(n_num_cols, n_obj_cols))"
   ]
  },
  {
   "cell_type": "code",
   "execution_count": 220,
   "metadata": {},
   "outputs": [
    {
     "data": {
      "text/plain": [
       "3935"
      ]
     },
     "execution_count": 220,
     "metadata": {},
     "output_type": "execute_result"
    }
   ],
   "source": [
    "# Detecting duplicate data based on a unique value\n",
    "(df['userId'].duplicated()).sum()"
   ]
  },
  {
   "cell_type": "code",
   "execution_count": 221,
   "metadata": {},
   "outputs": [
    {
     "data": {
      "text/plain": [
       "Index(['Unnamed: 0', 'headline', 'location', 'connectionDegree', 'userId',\n",
       "       'company', 'companyUrl', 'jobTitle', 'jobDateRange', 'company2',\n",
       "       'companyUrl2', 'jobTitle2', 'jobDateRange2', 'school', 'schoolUrl',\n",
       "       'schoolDegree', 'schoolDateRange', 'school2', 'schoolUrl2',\n",
       "       'schoolDegree2', 'schoolDateRange2', 'companyWebsite', 'allSkills',\n",
       "       'skill1', 'skill2', 'skill3', 'skill4', 'skill5', 'skill6', 'baseUrl',\n",
       "       'profileId', 'description', 'jobLocation2', 'jobDescription',\n",
       "       'jobDescription2', 'jobLocation', 'schoolDescription2',\n",
       "       'schoolDescription'],\n",
       "      dtype='object')"
      ]
     },
     "execution_count": 221,
     "metadata": {},
     "output_type": "execute_result"
    }
   ],
   "source": [
    "# show all columns \n",
    "df.columns"
   ]
  },
  {
   "cell_type": "markdown",
   "metadata": {},
   "source": [
    "#### | Data Cleaning |"
   ]
  },
  {
   "cell_type": "code",
   "execution_count": 222,
   "metadata": {},
   "outputs": [],
   "source": [
    "# drop some columns we don't need it \n",
    "df.drop(columns=['Unnamed: 0','allSkills','schoolUrl2','companyUrl','baseUrl','profileId','location','headline','connectionDegree','companyUrl2','schoolUrl','schoolDateRange','schoolDateRange2',\n",
    "                 'jobDateRange','jobDateRange2','companyWebsite','jobDescription2','jobDescription','description','jobLocation','schoolDescription2','schoolDescription','school2'],inplace=True)"
   ]
  },
  {
   "cell_type": "code",
   "execution_count": 223,
   "metadata": {},
   "outputs": [],
   "source": [
    "# drop duplicates \n",
    "df.drop_duplicates(subset=['userId'],inplace=True)"
   ]
  },
  {
   "cell_type": "code",
   "execution_count": 224,
   "metadata": {},
   "outputs": [
    {
     "data": {
      "text/plain": [
       "(2046, 15)"
      ]
     },
     "execution_count": 224,
     "metadata": {},
     "output_type": "execute_result"
    }
   ],
   "source": [
    "df.shape "
   ]
  },
  {
   "cell_type": "code",
   "execution_count": 225,
   "metadata": {},
   "outputs": [
    {
     "data": {
      "text/plain": [
       "Index(['userId', 'company', 'jobTitle', 'company2', 'jobTitle2', 'school',\n",
       "       'schoolDegree', 'schoolDegree2', 'skill1', 'skill2', 'skill3', 'skill4',\n",
       "       'skill5', 'skill6', 'jobLocation2'],\n",
       "      dtype='object')"
      ]
     },
     "execution_count": 225,
     "metadata": {},
     "output_type": "execute_result"
    }
   ],
   "source": [
    "df.columns "
   ]
  },
  {
   "cell_type": "code",
   "execution_count": 226,
   "metadata": {},
   "outputs": [
    {
     "data": {
      "text/html": [
       "<div>\n",
       "<style scoped>\n",
       "    .dataframe tbody tr th:only-of-type {\n",
       "        vertical-align: middle;\n",
       "    }\n",
       "\n",
       "    .dataframe tbody tr th {\n",
       "        vertical-align: top;\n",
       "    }\n",
       "\n",
       "    .dataframe thead th {\n",
       "        text-align: right;\n",
       "    }\n",
       "</style>\n",
       "<table border=\"1\" class=\"dataframe\">\n",
       "  <thead>\n",
       "    <tr style=\"text-align: right;\">\n",
       "      <th></th>\n",
       "      <th>userId</th>\n",
       "      <th>company</th>\n",
       "      <th>jobTitle</th>\n",
       "      <th>company2</th>\n",
       "      <th>jobTitle2</th>\n",
       "      <th>school</th>\n",
       "      <th>schoolDegree</th>\n",
       "      <th>schoolDegree2</th>\n",
       "      <th>skill1</th>\n",
       "      <th>skill2</th>\n",
       "      <th>skill3</th>\n",
       "      <th>skill4</th>\n",
       "      <th>skill5</th>\n",
       "      <th>skill6</th>\n",
       "      <th>jobLocation2</th>\n",
       "    </tr>\n",
       "  </thead>\n",
       "  <tbody>\n",
       "    <tr>\n",
       "      <th>0</th>\n",
       "      <td>537645229.0</td>\n",
       "      <td>NCGR - National Center for Government Resource...</td>\n",
       "      <td>Senior Data Analyst Expert</td>\n",
       "      <td>NCGR - National Center for Government Resource...</td>\n",
       "      <td>Data Analyst - Data mangment and Business inte...</td>\n",
       "      <td>King Saud University</td>\n",
       "      <td>Bachelor Degree ، Information Technology</td>\n",
       "      <td>Master's degree، Business Administration and M...</td>\n",
       "      <td>Project Management</td>\n",
       "      <td>Business Administration</td>\n",
       "      <td>Business Analysis</td>\n",
       "      <td>Quality Management</td>\n",
       "      <td>Data Analysis</td>\n",
       "      <td>Business Development</td>\n",
       "      <td>NaN</td>\n",
       "    </tr>\n",
       "    <tr>\n",
       "      <th>1</th>\n",
       "      <td>398812136.0</td>\n",
       "      <td>Public Health Authority of Saudi Arabia</td>\n",
       "      <td>Business Intelligence and Reporting Specialist</td>\n",
       "      <td>Public Health Authority of Saudi Arabia</td>\n",
       "      <td>Business Intelligence Specialist</td>\n",
       "      <td>Thompson Rivers University</td>\n",
       "      <td>Computer Science ، Software Engineering</td>\n",
       "      <td>Data Science</td>\n",
       "      <td>Data Analysis</td>\n",
       "      <td>Python</td>\n",
       "      <td>Teamwork</td>\n",
       "      <td>Statistical Data Analysis</td>\n",
       "      <td>Strategic Planning</td>\n",
       "      <td>Marketing</td>\n",
       "      <td>Riyadh</td>\n",
       "    </tr>\n",
       "    <tr>\n",
       "      <th>2</th>\n",
       "      <td>230117062.0</td>\n",
       "      <td>BAE Systems SDT</td>\n",
       "      <td>Data and Report Analyst</td>\n",
       "      <td>BAE Systems SDT</td>\n",
       "      <td>Senior ELI</td>\n",
       "      <td>جامعة الطائف</td>\n",
       "      <td>English language with a minor degree in educat...</td>\n",
       "      <td>English Language Course، English Language and ...</td>\n",
       "      <td>Microsoft Office</td>\n",
       "      <td>Microsoft Excel</td>\n",
       "      <td>PowerPoint</td>\n",
       "      <td>Microsoft Word</td>\n",
       "      <td>English</td>\n",
       "      <td>Social Media</td>\n",
       "      <td>NaN</td>\n",
       "    </tr>\n",
       "    <tr>\n",
       "      <th>3</th>\n",
       "      <td>513096312.0</td>\n",
       "      <td>شركة عالم النظم والبرامج</td>\n",
       "      <td>Business System Analyst</td>\n",
       "      <td>عمل مستقل</td>\n",
       "      <td>Data Analyst</td>\n",
       "      <td>جامعة القصيم</td>\n",
       "      <td>Bachelor's degree، Management Information Systems</td>\n",
       "      <td>NaN</td>\n",
       "      <td>Data Analysis</td>\n",
       "      <td>Business Analysis</td>\n",
       "      <td>Management Information Systems (MIS)</td>\n",
       "      <td>Agile Project Management</td>\n",
       "      <td>Database Administration</td>\n",
       "      <td>Data Science</td>\n",
       "      <td>NaN</td>\n",
       "    </tr>\n",
       "    <tr>\n",
       "      <th>4</th>\n",
       "      <td>796862246.0</td>\n",
       "      <td>Basserah</td>\n",
       "      <td>Data Architect</td>\n",
       "      <td>Comptechco</td>\n",
       "      <td>Data Analyst</td>\n",
       "      <td>جامعة المجمعة | Majmaah University</td>\n",
       "      <td>Bachelor's degree، Computer Software Engineering</td>\n",
       "      <td>NaN</td>\n",
       "      <td>SQL</td>\n",
       "      <td>Data Visualization</td>\n",
       "      <td>Data Analysis</td>\n",
       "      <td>Mathematics</td>\n",
       "      <td>Project Management</td>\n",
       "      <td>Information Technology</td>\n",
       "      <td>NaN</td>\n",
       "    </tr>\n",
       "  </tbody>\n",
       "</table>\n",
       "</div>"
      ],
      "text/plain": [
       "        userId                                            company  \\\n",
       "0  537645229.0  NCGR - National Center for Government Resource...   \n",
       "1  398812136.0            Public Health Authority of Saudi Arabia   \n",
       "2  230117062.0                                    BAE Systems SDT   \n",
       "3  513096312.0                           شركة عالم النظم والبرامج   \n",
       "4  796862246.0                                           Basserah   \n",
       "\n",
       "                                         jobTitle  \\\n",
       "0                      Senior Data Analyst Expert   \n",
       "1  Business Intelligence and Reporting Specialist   \n",
       "2                         Data and Report Analyst   \n",
       "3                         Business System Analyst   \n",
       "4                                  Data Architect   \n",
       "\n",
       "                                            company2  \\\n",
       "0  NCGR - National Center for Government Resource...   \n",
       "1            Public Health Authority of Saudi Arabia   \n",
       "2                                    BAE Systems SDT   \n",
       "3                                          عمل مستقل   \n",
       "4                                         Comptechco   \n",
       "\n",
       "                                           jobTitle2  \\\n",
       "0  Data Analyst - Data mangment and Business inte...   \n",
       "1                   Business Intelligence Specialist   \n",
       "2                                         Senior ELI   \n",
       "3                                       Data Analyst   \n",
       "4                                       Data Analyst   \n",
       "\n",
       "                               school  \\\n",
       "0                King Saud University   \n",
       "1          Thompson Rivers University   \n",
       "2                        جامعة الطائف   \n",
       "3                        جامعة القصيم   \n",
       "4  جامعة المجمعة | Majmaah University   \n",
       "\n",
       "                                        schoolDegree  \\\n",
       "0           Bachelor Degree ، Information Technology   \n",
       "1            Computer Science ، Software Engineering   \n",
       "2  English language with a minor degree in educat...   \n",
       "3  Bachelor's degree، Management Information Systems   \n",
       "4   Bachelor's degree، Computer Software Engineering   \n",
       "\n",
       "                                       schoolDegree2              skill1  \\\n",
       "0  Master's degree، Business Administration and M...  Project Management   \n",
       "1                                       Data Science       Data Analysis   \n",
       "2  English Language Course، English Language and ...    Microsoft Office   \n",
       "3                                                NaN       Data Analysis   \n",
       "4                                                NaN                 SQL   \n",
       "\n",
       "                    skill2                                skill3  \\\n",
       "0  Business Administration                     Business Analysis   \n",
       "1                   Python                              Teamwork   \n",
       "2          Microsoft Excel                            PowerPoint   \n",
       "3        Business Analysis  Management Information Systems (MIS)   \n",
       "4       Data Visualization                         Data Analysis   \n",
       "\n",
       "                      skill4                   skill5                  skill6  \\\n",
       "0         Quality Management            Data Analysis    Business Development   \n",
       "1  Statistical Data Analysis       Strategic Planning               Marketing   \n",
       "2             Microsoft Word                  English            Social Media   \n",
       "3   Agile Project Management  Database Administration            Data Science   \n",
       "4                Mathematics       Project Management  Information Technology   \n",
       "\n",
       "  jobLocation2  \n",
       "0          NaN  \n",
       "1       Riyadh  \n",
       "2          NaN  \n",
       "3          NaN  \n",
       "4          NaN  "
      ]
     },
     "execution_count": 226,
     "metadata": {},
     "output_type": "execute_result"
    }
   ],
   "source": [
    "df.head()"
   ]
  },
  {
   "cell_type": "code",
   "execution_count": 227,
   "metadata": {},
   "outputs": [],
   "source": [
    "missing_data = df.isnull()"
   ]
  },
  {
   "cell_type": "code",
   "execution_count": 228,
   "metadata": {},
   "outputs": [
    {
     "name": "stdout",
     "output_type": "stream",
     "text": [
      "userId\n",
      "False    2045\n",
      "True        1\n",
      "Name: userId, dtype: int64\n",
      "\n",
      "company\n",
      "False    1982\n",
      "True       64\n",
      "Name: company, dtype: int64\n",
      "\n",
      "jobTitle\n",
      "False    1982\n",
      "True       64\n",
      "Name: jobTitle, dtype: int64\n",
      "\n",
      "company2\n",
      "False    1789\n",
      "True      257\n",
      "Name: company2, dtype: int64\n",
      "\n",
      "jobTitle2\n",
      "False    1789\n",
      "True      257\n",
      "Name: jobTitle2, dtype: int64\n",
      "\n",
      "school\n",
      "False    2007\n",
      "True       39\n",
      "Name: school, dtype: int64\n",
      "\n",
      "schoolDegree\n",
      "False    1981\n",
      "True       65\n",
      "Name: schoolDegree, dtype: int64\n",
      "\n",
      "schoolDegree2\n",
      "False    1075\n",
      "True      971\n",
      "Name: schoolDegree2, dtype: int64\n",
      "\n",
      "skill1\n",
      "False    1962\n",
      "True       84\n",
      "Name: skill1, dtype: int64\n",
      "\n",
      "skill2\n",
      "False    1962\n",
      "True       84\n",
      "Name: skill2, dtype: int64\n",
      "\n",
      "skill3\n",
      "False    1962\n",
      "True       84\n",
      "Name: skill3, dtype: int64\n",
      "\n",
      "skill4\n",
      "False    1962\n",
      "True       84\n",
      "Name: skill4, dtype: int64\n",
      "\n",
      "skill5\n",
      "False    1953\n",
      "True       93\n",
      "Name: skill5, dtype: int64\n",
      "\n",
      "skill6\n",
      "False    1888\n",
      "True      158\n",
      "Name: skill6, dtype: int64\n",
      "\n",
      "jobLocation2\n",
      "True     1314\n",
      "False     732\n",
      "Name: jobLocation2, dtype: int64\n",
      "\n"
     ]
    }
   ],
   "source": [
    "# for to show how many null value for all columns \n",
    "for column in missing_data.columns.values.tolist():\n",
    "    print(column)\n",
    "    print (missing_data[column].value_counts())\n",
    "    print(\"\")    "
   ]
  },
  {
   "cell_type": "markdown",
   "metadata": {},
   "source": [
    "There are a lot of missing values in some columns and this is normal, because some people may not have them or not add all the information related to it"
   ]
  },
  {
   "cell_type": "markdown",
   "metadata": {},
   "source": [
    "#### |EDA|"
   ]
  },
  {
   "cell_type": "markdown",
   "metadata": {},
   "source": [
    "What are the most frequent universities?"
   ]
  },
  {
   "cell_type": "code",
   "execution_count": 229,
   "metadata": {},
   "outputs": [
    {
     "name": "stderr",
     "output_type": "stream",
     "text": [
      "/var/folders/q9/r2j6s5gj6vqbgwbptm3ztjsc0000gn/T/ipykernel_1814/1969909828.py:15: FutureWarning: The default value of regex will change from True to False in a future version.\n",
      "  df['school']= df['school'].str.replace('جامعة المجمعة | Majmaah University','Majmaah University')\n"
     ]
    }
   ],
   "source": [
    "# ٍReplace some university names\n",
    "df['school']= df['school'].str.replace('جامعة الأميرة نورة بنت عبد الرحمن','Princess Nourah bint Abdulrahman University')\n",
    "df['school']= df['school'].str.replace('جامعة الملك فهد للبترول والمعادن','King Fahd University of Petroleum and Minerals')\n",
    "df['school']= df['school'].str.replace('جامعة طيبة','Taibah University')\n",
    "df['school']= df['school'].str.replace('جامعة الملك عبد العزيز','King Abdulaziz University')\n",
    "df['school']= df['school'].str.replace('كلية الجبيل الجامعية','Jubail University College')\n",
    "df['school']= df['school'].str.replace('الجامعة الإسلامية','Islamic University')\n",
    "df['school']= df['school'].str.replace('جامعة الأعمال والتكنولوجيا','University of Business and Technology')\n",
    "df['school']= df['school'].str.replace('جامعة القصيم','Al Qussaim university')\n",
    "df['school']= df['school'].str.replace('جامعة الأمير سطّام بن عبدالعزيز','Prince Sattam bin Abdulaziz University')\n",
    "df['school']= df['school'].str.replace('جامعة شقراء','Shaqra University')\n",
    "df['school']= df['school'].str.replace('جامعة شقراء','Shaqra University')\n",
    "df['school']= df['school'].str.replace('جامعة الإمام محمد بن سعود الإسلامية','Imam Muhammad Bin Saud Islamic University')\n",
    "df['school']= df['school'].str.replace('جامعة تبوك','Tabouk university')\n",
    "df['school']= df['school'].str.replace('جامعة المجمعة | Majmaah University','Majmaah University')\n",
    "df['school']= df['school'].str.replace('جامعة الإمام عبدالرحمن بن فيصل','Imam Abdulrahman bin Faisal University')\n",
    "df['school']= df['school'].str.replace('جامعة الطائف','Taif University')\n",
    "df['school']= df['school'].str.replace('الجامعة السعودية الالكترونية','the Saudi electronic university')\n",
    "df['school']= df['school'].str.replace('الجامعة العربية المفتوحة - السعودية','Arab Open University - Saudi Arabia')\n",
    "df['school']= df['school'].str.replace('جامعة الأمير سلطان','Prince sultan university')\n",
    "df['school']= df['school'].str.replace('جامعة الباحة','Al Baha university')\n",
    "df['school']= df['school'].str.replace('جامعة الملك سعود','King Saud University')\n",
    "df['school']= df['school'].str.replace('جامعة الملك سعود بن عبد العزيز للعلوم الصحية','King Saud bin Abdulaziz University for Health Sciences')\n",
    "df['school']= df['school'].str.replace('جامعه الملك خالد','King Khalid University')\n",
    "df['school']= df['school'].str.replace('جامعة الشارقة','Al Sharekah University')\n",
    "df['school']= df['school'].str.replace('اكاديمية ينبع الصناعية','Yanbu Industrial Academy')\n",
    "df['school']= df['school'].str.replace('وزارة الاتصالات وتقنية المعلومات','Ministry of Communications and Information Technology')\n",
    "df['school']= df['school'].str.replace('جامعة عفت','Effat University')\n",
    "df['school']= df['school'].str.replace('جامعة نجران','Najran university')\n",
    "df['school']= df['school'].str.replace('المؤسسة العامة للتدريب التقني والمهني','General Organization for Technical and Vocational Training')\n",
    "df['school']= df['school'].str.replace('جامعه الملك عبد العزيز','King Abdulaziz University')\n",
    "df['school']= df['school'].str.replace('جامعة الملك فيصل','King Faisal University')\n",
    "df['school']= df['school'].str.replace('كلية الدراسات العليا للبحوث الاحصائية','Graduate School of Statistical Research')\n",
    "df['school']= df['school'].str.replace('الكلية التقنية بالمدينة المنورة','Madinah Technical College')\n",
    "df['school']= df['school'].str.replace('جامعة الأميرة سمية للتكنولوجيا','Princess Sumaya University for Technology')\n",
    "df['school']= df['school'].str.replace('al-imam muhammad ibn saud islamic university','Imam Muhammad Bin Saud Islamic University') \n",
    "df['school']= df['school'].str.replace('imam muhammad bin saud university','Imam Muhammad Bin Saud Islamic University') \n",
    "df['school']= df['school'].str.replace('imam muhammad ibn saud islamic university','Imam Muhammad Bin Saud Islamic University') \n",
    "df['school']= df['school'].str.replace('king fahd university of petroleum & minerals - kfupm','King Fahd University of Petroleum and Minerals') \n",
    "df['school']= df['school'].str.replace('princess nora bint abdul rahman university','Princess Nourah bint Abdulrahman University') \n",
    "df['school']= df['school'].str.replace('king fahd university of petroleum & minerals','King Fahd University of Petroleum and Minerals') \n",
    "df['school']= df['school'].str.replace('king fahd university of petroleum & minerals - kfupm ','King Fahd University of Petroleum and Minerals') \n",
    "\n",
    "\n"
   ]
  },
  {
   "cell_type": "code",
   "execution_count": 230,
   "metadata": {},
   "outputs": [],
   "source": [
    "# Convert letters to lowercase\n",
    "df['school']= df['school'].str.lower()"
   ]
  },
  {
   "cell_type": "code",
   "execution_count": 231,
   "metadata": {},
   "outputs": [],
   "source": [
    "# Create a variable that saves the most repeated universities\n",
    "top_University = (df['school'].value_counts(normalize=True)*100).head(6)\n"
   ]
  },
  {
   "cell_type": "code",
   "execution_count": 232,
   "metadata": {},
   "outputs": [],
   "source": [
    "#Variable type conversion\n",
    "top_University = top_University.to_frame()\n"
   ]
  },
  {
   "cell_type": "code",
   "execution_count": 233,
   "metadata": {},
   "outputs": [],
   "source": [
    "#Add a column in the dataframe and delete Udacity\n",
    "#top_University['per']= top_University \n",
    "result = top_University.drop(labels = ['udacity']) "
   ]
  },
  {
   "cell_type": "code",
   "execution_count": 234,
   "metadata": {},
   "outputs": [],
   "source": [
    "result['index']=result.index"
   ]
  },
  {
   "cell_type": "code",
   "execution_count": 235,
   "metadata": {},
   "outputs": [
    {
     "data": {
      "image/png": "[encoded data removed]",
      "text/plain": [
       "<Figure size 864x360 with 1 Axes>"
      ]
     },
     "metadata": {},
     "output_type": "display_data"
    }
   ],
   "source": [
    "# plot1 real \n",
    "\n",
    "fig, ax= plt.subplots(figsize =(12,5))\n",
    "#ns.set_style('whitegrid')\n",
    "sns.set_context('notebook')\n",
    "sns.set(font_scale=1)\n",
    "plt.fontsize =(16)\n",
    "# Determine the columns of the axes\n",
    "ax=sns.barplot(palette=\"Blues_r\",ax=ax,\n",
    "\n",
    "            x=result['school'],y=result['index'])\n",
    "total=len(result['index'])\n",
    "#Show the percentage for each column\n",
    "for p in ax.patches:\n",
    "    percentage ='{:,.0f}%'.format(p.get_width())\n",
    "    width, height =p.get_width(),p.get_height()\n",
    "    x=p.get_x()+width+0.02\n",
    "    y=p.get_y()+height/2\n",
    "    ax.annotate(percentage,(x,y))\n",
    "\n",
    "plt.xticks(rotation =0,fontsize =10)\n",
    "plt.yticks(rotation =0,fontsize =13)\n",
    "\n",
    "plt.title('Most frequent universities',\n",
    "         fontsize =16\n",
    "         )\n",
    "plt.xlabel ('',fontsize =16)\n",
    "plt.ylabel ('universities',fontsize =16)\n",
    "\n",
    "plt.show ()"
   ]
  },
  {
   "cell_type": "code",
   "execution_count": null,
   "metadata": {},
   "outputs": [],
   "source": []
  },
  {
   "cell_type": "code",
   "execution_count": null,
   "metadata": {},
   "outputs": [],
   "source": []
  },
  {
   "cell_type": "markdown",
   "metadata": {},
   "source": [
    "How many people are in each degree ?"
   ]
  },
  {
   "cell_type": "code",
   "execution_count": 236,
   "metadata": {},
   "outputs": [],
   "source": [
    "# Function to return school degree \n",
    "def schoolDegree(schoolDegree,schoolDegree2):\n",
    "    schoolDegree =  str(schoolDegree)\n",
    "    schoolDegree2 =  str(schoolDegree2)\n",
    "    #schoolDegree2 =  str(schoolDegree2)\n",
    "    rent = \"Unkown\" \n",
    "    if( schoolDegree.find('Doctor') != -1 or schoolDegree.find('Phd') != -1 or schoolDegree.find('Phd') != -1 or schoolDegree.find('PhD') != -1 or schoolDegree.find('Ph.D.') != -1 \n",
    "    or schoolDegree.find('Ph.D') != -1 or schoolDegree2.find('Ph.D') != -1 or schoolDegree2.find('Doctor') != -1 or schoolDegree2.find('Phd') != -1 or schoolDegree2.find('Phd') != -1\n",
    "     or schoolDegree2.find('PhD') != -1): \n",
    "     rent = 'Phd'\n",
    "    elif( schoolDegree.find('Master') != -1 or schoolDegree2.find('Master') != -1):\n",
    "        rent = 'Master' \n",
    "    elif( schoolDegree.find('Bachelor') != -1 or schoolDegree.find('البكالوريوس') != -1 or schoolDegree.find('B.S.')!= -1 or schoolDegree.find('B.E')!= -1 or schoolDegree.find('BCS') != -1 or \n",
    "          schoolDegree.find('BS') != -1 or schoolDegree.find(\"Engineer's\") != -1 or schoolDegree.find('B.Tech') != -1 or schoolDegree.find(' BSc') != -1 or schoolDegree.find('BCA')!= -1 or \n",
    "           schoolDegree.find('بكالوريوس') != -1 or  schoolDegree.find('Bechelor')!= -1 or schoolDegree.find('Software Engineering')!= -1 or \n",
    "           schoolDegree2.find('Bachelor') != -1 or schoolDegree2.find('البكالوريوس') != -1 or schoolDegree2.find('B.S.') != -1 or schoolDegree2.find('B.E') != -1 or schoolDegree2.find('BCS')!= -1 or \n",
    "          schoolDegree2.find('BS') != -1 or schoolDegree2.find(\"Engineer's\") != -1 or schoolDegree2.find('B.Tech') != -1 or schoolDegree2.find(' BSc') != -1 or schoolDegree2.find('BCA')!= -1 or \n",
    "           schoolDegree2.find('بكالوريوس')!= -1 or  schoolDegree2.find('Bechelor')!= -1 or schoolDegree2.find('Software Engineering')!= -1 or schoolDegree.find('Bachelo')!= -1 or \n",
    "            schoolDegree.find('bachelor')!= -1 or schoolDegree.find('Bachlor')!= -1):\n",
    "        rent = 'Bachelor'\n",
    "    else:\n",
    "        rent = 'Unkown'\n",
    "    return rent\n",
    "\n",
    "\n",
    "df.loc[:,'SchoolDegree'] = np.vectorize(schoolDegree, otypes=[\"O\"]) (df['schoolDegree'], df['schoolDegree2'])"
   ]
  },
  {
   "cell_type": "code",
   "execution_count": 237,
   "metadata": {},
   "outputs": [
    {
     "data": {
      "text/plain": [
       "Bachelor    60.117302\n",
       "Master      21.407625\n",
       "Unkown      12.707722\n",
       "Phd          5.767351\n",
       "Name: SchoolDegree, dtype: float64"
      ]
     },
     "execution_count": 237,
     "metadata": {},
     "output_type": "execute_result"
    }
   ],
   "source": [
    "# show value count with percentage \n",
    "Academicـdegrees = df['SchoolDegree'].value_counts(normalize=True)*100\n",
    "#Academicـdegrees = Academicـdegrees.drop(labels = ['Unkown']) \n",
    "Academicـdegrees"
   ]
  },
  {
   "cell_type": "code",
   "execution_count": 238,
   "metadata": {},
   "outputs": [
    {
     "data": {
      "text/html": [
       "<div>\n",
       "<style scoped>\n",
       "    .dataframe tbody tr th:only-of-type {\n",
       "        vertical-align: middle;\n",
       "    }\n",
       "\n",
       "    .dataframe tbody tr th {\n",
       "        vertical-align: top;\n",
       "    }\n",
       "\n",
       "    .dataframe thead th {\n",
       "        text-align: right;\n",
       "    }\n",
       "</style>\n",
       "<table border=\"1\" class=\"dataframe\">\n",
       "  <thead>\n",
       "    <tr style=\"text-align: right;\">\n",
       "      <th></th>\n",
       "      <th>SchoolDegree</th>\n",
       "      <th>index</th>\n",
       "    </tr>\n",
       "  </thead>\n",
       "  <tbody>\n",
       "    <tr>\n",
       "      <th>Bachelor</th>\n",
       "      <td>60.117302</td>\n",
       "      <td>Bachelor</td>\n",
       "    </tr>\n",
       "    <tr>\n",
       "      <th>Master</th>\n",
       "      <td>21.407625</td>\n",
       "      <td>Master</td>\n",
       "    </tr>\n",
       "    <tr>\n",
       "      <th>Unkown</th>\n",
       "      <td>12.707722</td>\n",
       "      <td>Unkown</td>\n",
       "    </tr>\n",
       "    <tr>\n",
       "      <th>Phd</th>\n",
       "      <td>5.767351</td>\n",
       "      <td>Phd</td>\n",
       "    </tr>\n",
       "  </tbody>\n",
       "</table>\n",
       "</div>"
      ],
      "text/plain": [
       "          SchoolDegree     index\n",
       "Bachelor     60.117302  Bachelor\n",
       "Master       21.407625    Master\n",
       "Unkown       12.707722    Unkown\n",
       "Phd           5.767351       Phd"
      ]
     },
     "execution_count": 238,
     "metadata": {},
     "output_type": "execute_result"
    }
   ],
   "source": [
    "# chnage type to dataframe \n",
    "Academicـdegrees = Academicـdegrees.to_frame()\n",
    "Academicـdegrees['index'] = Academicـdegrees.index\n",
    "Academicـdegrees\n"
   ]
  },
  {
   "cell_type": "code",
   "execution_count": 239,
   "metadata": {},
   "outputs": [
    {
     "data": {
      "image/png": "[encoded data removed]",
      "text/plain": [
       "<Figure size 720x360 with 1 Axes>"
      ]
     },
     "metadata": {},
     "output_type": "display_data"
    }
   ],
   "source": [
    "# plot1 real \n",
    "fig, ax= plt.subplots(figsize =(10,5))\n",
    "#ns.set_style('whitegrid')\n",
    "sns.set_context('notebook')\n",
    "sns.set(font_scale=1)\n",
    "plt.fontsize =(16)\n",
    "\n",
    "ax=sns.barplot(palette=\"Blues_r\",ax=ax,\n",
    "\n",
    "            x=Academicـdegrees['SchoolDegree'],y=Academicـdegrees['index'])\n",
    "total=len(Academicـdegrees['index'])\n",
    "for p in ax.patches:\n",
    "    percentage ='{:,.0f}%'.format(p.get_width())\n",
    "    width, height =p.get_width(),p.get_height()\n",
    "    x=p.get_x()+width+0.02\n",
    "    y=p.get_y()+height/2\n",
    "    ax.annotate(percentage,(x,y))\n",
    "\n",
    "plt.xticks(rotation =0,fontsize =10)\n",
    "plt.yticks(rotation =0,fontsize =13)\n",
    "\n",
    "plt.title('Most frequent academic degrees',\n",
    "         fontsize =16\n",
    "         )\n",
    "plt.xlabel ('',fontsize =16)\n",
    "plt.ylabel ('scientific stage',fontsize =16)\n",
    "\n",
    "plt.show ()"
   ]
  },
  {
   "cell_type": "markdown",
   "metadata": {},
   "source": [
    "What are the most frequent departments?"
   ]
  },
  {
   "cell_type": "code",
   "execution_count": 240,
   "metadata": {},
   "outputs": [],
   "source": [
    "# A function that returns the names of the departments\n",
    "def schoolDegree(schoolDegree,schoolDegree2):\n",
    "    schoolDegree =  str(schoolDegree)\n",
    "    schoolDegree2 =  str(schoolDegree2)\n",
    "    #schoolDegree2 =  str(schoolDegree2)\n",
    "    rent = \"Unkown\" \n",
    "    if( schoolDegree.find(' Management Information Systems') != -1 or schoolDegree.find('MIS') != -1 or schoolDegree.find('mis') != -1 or schoolDegree.find('Management information system') != -1\n",
    "     or schoolDegree2.find('MIS') != -1 or schoolDegree2.find('mis') != -1 or schoolDegree2.find('Phd') != -1 or schoolDegree2.find('Phd') != -1 or schoolDegree2.find('Management information system') != -1\n",
    "     or schoolDegree2.find('Management Information Systems') != -1 or schoolDegree2.find('Management information Systems') != -1 or schoolDegree.find('Management information Systems') != -1): \n",
    "     rent = 'Management Information Systems'  \n",
    "\n",
    "    elif( schoolDegree.find('Information Systems') != -1 or  schoolDegree.find('Information systems') != -1 or schoolDegree.find('computer information system') != -1  \n",
    "    or schoolDegree.find('information systems') != -1  or schoolDegree.find('Computer Information Systems') != -1 or schoolDegree.find('نظم المعلومات') != -1 \n",
    "    or schoolDegree.find('computer Information Systems') != -1  or  schoolDegree.find('Information System') != -1 or schoolDegree.find('computer information system') != -1 \n",
    "    or schoolDegree.find('IS') != -1 or schoolDegree.find('is') != -1 or schoolDegree2.find('Information Systems') != -1 \n",
    "    or schoolDegree2.find('IS') != -1  or schoolDegree2.find('Information systems') != -1 or schoolDegree2.find('is') != -1 \n",
    "    or schoolDegree2.find('Computer Information Systems') != -1 or schoolDegree2.find('computer Information Systems') != -1 or \n",
    "    schoolDegree2.find('Computer and Information Sciences') != -1 or schoolDegree.find('Computer and Information Sciences') != -1 \n",
    "    or schoolDegree2.find('computer information system') != -1  or schoolDegree2.find('نظم المعلومات') != -1 or schoolDegree2.find('Information systems') != -1 \n",
    "    or schoolDegree.find('Information systems') != -1 or schoolDegree.find('Information system') != -1 or schoolDegree2.find('Information system') != -1  or schoolDegree2.find('information system') != -1 \n",
    "    or schoolDegree.find('Computer information system') != -1  or schoolDegree2.find('Computer information system') != -1 or schoolDegree2.find('Information System') != -1 \n",
    "    or schoolDegree.find('information System') != -1  or schoolDegree2.find('information System') != -1 or schoolDegree.find('Computer Informtion Systems') != -1  \n",
    "    or schoolDegree.find('informatin systems') != -1 or schoolDegree.find('information system') != -1):\n",
    "        rent = 'Information Systems'   \n",
    "      \n",
    "    elif( schoolDegree.find('Computer Science') != -1 or schoolDegree.find('Computer science') != -1 or  schoolDegree.find('Computer sciences') != -1 \n",
    "         or schoolDegree.find('Computer sciences') != -1  \n",
    "         or schoolDegree.find('computer science') != -1 or schoolDegree.find('C.S')!= -1 or schoolDegree2.find('Computer sciences') != -1 or \n",
    "           schoolDegree2.find('Computer Science') != -1 or schoolDegree2.find('computer science') != -1 or schoolDegree2.find('C.S') != -1 or \n",
    "           schoolDegree2.find('Computer sciences') != -1  or schoolDegree2.find('علوم الحاسب الآلي') != -1 or schoolDegree.find('علوم الحاسب الآلي') != -1 or \n",
    "           schoolDegree2.find(' Computer science') != -1 or schoolDegree2.find(' computer Science') != -1 or schoolDegree.find(' computer Science') != -1\n",
    "           or schoolDegree.find('Compter Science') != -1  or schoolDegree2.find('Compter Science') != -1):\n",
    "        rent = 'Computer Science' \n",
    "\n",
    "    elif( schoolDegree.find('Software Engineering') != -1 or schoolDegree.find('software engineering') != -1 or schoolDegree.find('S.E.')!= -1 or\n",
    "         schoolDegree.find('Software engineering') != -1 or schoolDegree2.find('Software engineering') != -1 or schoolDegree.find('Software engineering') != -1 or \n",
    "           schoolDegree2.find('Software Engineering') != -1 or schoolDegree2.find('computer science') != -1 or schoolDegree2.find('C.S') != -1 or schoolDegree2.find('Software engineering') != -1 ):\n",
    "        rent = 'Software Engineeringe'  \n",
    "     \n",
    "    elif( schoolDegree.find('Information Technology') != -1  or schoolDegree.find(' information technology') != -1 or schoolDegree.find('IT')!= -1 or\n",
    "           schoolDegree2.find('Information Technology') != -1 or schoolDegree2.find('information technology') != -1 or schoolDegree2.find('IT') != -1\n",
    "           or schoolDegree2.find('تقنية المعلومات') != -1 or schoolDegree.find('تقنية المعلومات') != -1 ):\n",
    "        rent = 'Information Technology'\n",
    "    \n",
    "    elif( schoolDegree.find('Computer Engineering') != -1 or schoolDegree.find('computer engineering') != -1 or schoolDegree.find('C.E')!= -1 or schoolDegree.find('C.E.')!= -1 or\n",
    "           schoolDegree2.find('Computer Engineering') != -1 or schoolDegree2.find('computer engineering') != -1 or schoolDegree2.find('C.E') != -1 or schoolDegree2.find('C.E.') != -1 or \n",
    "           schoolDegree2.find('هندسة الحاسب الآلي') != -1 or schoolDegree2.find('𝐂𝐨𝐦𝐩𝐮𝐭𝐞𝐫 𝐄𝐧𝐠𝐢𝐧𝐞𝐞𝐫𝐢𝐧𝐠') != -1):\n",
    "        rent = 'Computer Engineering'\n",
    "        \n",
    "    else:\n",
    "        rent = 'Unkown'\n",
    "    return rent\n",
    "\n",
    "\n",
    "df.loc[:,'SchoolDegree'] = np.vectorize(schoolDegree, otypes=[\"O\"]) (df['schoolDegree'], df['schoolDegree2'])"
   ]
  },
  {
   "cell_type": "code",
   "execution_count": 241,
   "metadata": {},
   "outputs": [],
   "source": [
    "# Save the departmetns with percentage \n",
    "top_specialties = df['SchoolDegree'].value_counts(normalize=True)*100"
   ]
  },
  {
   "cell_type": "code",
   "execution_count": 242,
   "metadata": {},
   "outputs": [],
   "source": [
    "#Variable type conversion\n",
    "top_specialties = top_specialties.to_frame()\n"
   ]
  },
  {
   "cell_type": "code",
   "execution_count": 243,
   "metadata": {},
   "outputs": [],
   "source": [
    "#Add a column in the dataframe and delete Udacity\n",
    "#top_specialties['per']= top_specialties "
   ]
  },
  {
   "cell_type": "code",
   "execution_count": 244,
   "metadata": {},
   "outputs": [
    {
     "data": {
      "text/html": [
       "<div>\n",
       "<style scoped>\n",
       "    .dataframe tbody tr th:only-of-type {\n",
       "        vertical-align: middle;\n",
       "    }\n",
       "\n",
       "    .dataframe tbody tr th {\n",
       "        vertical-align: top;\n",
       "    }\n",
       "\n",
       "    .dataframe thead th {\n",
       "        text-align: right;\n",
       "    }\n",
       "</style>\n",
       "<table border=\"1\" class=\"dataframe\">\n",
       "  <thead>\n",
       "    <tr style=\"text-align: right;\">\n",
       "      <th></th>\n",
       "      <th>SchoolDegree</th>\n",
       "    </tr>\n",
       "  </thead>\n",
       "  <tbody>\n",
       "    <tr>\n",
       "      <th>Information Systems</th>\n",
       "      <td>31.133920</td>\n",
       "    </tr>\n",
       "    <tr>\n",
       "      <th>Computer Science</th>\n",
       "      <td>24.633431</td>\n",
       "    </tr>\n",
       "    <tr>\n",
       "      <th>Unkown</th>\n",
       "      <td>24.633431</td>\n",
       "    </tr>\n",
       "    <tr>\n",
       "      <th>Information Technology</th>\n",
       "      <td>6.989247</td>\n",
       "    </tr>\n",
       "    <tr>\n",
       "      <th>Management Information Systems</th>\n",
       "      <td>6.158358</td>\n",
       "    </tr>\n",
       "  </tbody>\n",
       "</table>\n",
       "</div>"
      ],
      "text/plain": [
       "                                SchoolDegree\n",
       "Information Systems                31.133920\n",
       "Computer Science                   24.633431\n",
       "Unkown                             24.633431\n",
       "Information Technology              6.989247\n",
       "Management Information Systems      6.158358"
      ]
     },
     "execution_count": 244,
     "metadata": {},
     "output_type": "execute_result"
    }
   ],
   "source": [
    "top_specialties.head()"
   ]
  },
  {
   "cell_type": "code",
   "execution_count": 245,
   "metadata": {},
   "outputs": [
    {
     "data": {
      "text/html": [
       "<div>\n",
       "<style scoped>\n",
       "    .dataframe tbody tr th:only-of-type {\n",
       "        vertical-align: middle;\n",
       "    }\n",
       "\n",
       "    .dataframe tbody tr th {\n",
       "        vertical-align: top;\n",
       "    }\n",
       "\n",
       "    .dataframe thead th {\n",
       "        text-align: right;\n",
       "    }\n",
       "</style>\n",
       "<table border=\"1\" class=\"dataframe\">\n",
       "  <thead>\n",
       "    <tr style=\"text-align: right;\">\n",
       "      <th></th>\n",
       "      <th>SchoolDegree</th>\n",
       "      <th>index</th>\n",
       "    </tr>\n",
       "  </thead>\n",
       "  <tbody>\n",
       "    <tr>\n",
       "      <th>Information Systems</th>\n",
       "      <td>31.133920</td>\n",
       "      <td>Information Systems</td>\n",
       "    </tr>\n",
       "    <tr>\n",
       "      <th>Computer Science</th>\n",
       "      <td>24.633431</td>\n",
       "      <td>Computer Science</td>\n",
       "    </tr>\n",
       "    <tr>\n",
       "      <th>Unkown</th>\n",
       "      <td>24.633431</td>\n",
       "      <td>Unkown</td>\n",
       "    </tr>\n",
       "    <tr>\n",
       "      <th>Information Technology</th>\n",
       "      <td>6.989247</td>\n",
       "      <td>Information Technology</td>\n",
       "    </tr>\n",
       "    <tr>\n",
       "      <th>Management Information Systems</th>\n",
       "      <td>6.158358</td>\n",
       "      <td>Management Information Systems</td>\n",
       "    </tr>\n",
       "    <tr>\n",
       "      <th>Software Engineeringe</th>\n",
       "      <td>4.056696</td>\n",
       "      <td>Software Engineeringe</td>\n",
       "    </tr>\n",
       "    <tr>\n",
       "      <th>Computer Engineering</th>\n",
       "      <td>2.394917</td>\n",
       "      <td>Computer Engineering</td>\n",
       "    </tr>\n",
       "  </tbody>\n",
       "</table>\n",
       "</div>"
      ],
      "text/plain": [
       "                                SchoolDegree                           index\n",
       "Information Systems                31.133920             Information Systems\n",
       "Computer Science                   24.633431                Computer Science\n",
       "Unkown                             24.633431                          Unkown\n",
       "Information Technology              6.989247          Information Technology\n",
       "Management Information Systems      6.158358  Management Information Systems\n",
       "Software Engineeringe               4.056696           Software Engineeringe\n",
       "Computer Engineering                2.394917            Computer Engineering"
      ]
     },
     "execution_count": 245,
     "metadata": {},
     "output_type": "execute_result"
    }
   ],
   "source": [
    "# \n",
    "top_specialties['index']= top_specialties.index\n",
    "top_specialties"
   ]
  },
  {
   "cell_type": "code",
   "execution_count": 246,
   "metadata": {},
   "outputs": [
    {
     "data": {
      "image/png": "[encoded data removed]",
      "text/plain": [
       "<Figure size 864x360 with 1 Axes>"
      ]
     },
     "metadata": {},
     "output_type": "display_data"
    }
   ],
   "source": [
    "# plot1 real \n",
    "\n",
    "fig, ax= plt.subplots(figsize =(12,5))\n",
    "#ns.set_style('whitegrid')\n",
    "sns.set_context('notebook')\n",
    "sns.set(font_scale=1)\n",
    "plt.fontsize =(16)\n",
    "# Choose column names\n",
    "ax=sns.barplot(palette=\"Blues_r\",ax=ax,\n",
    "\n",
    "            x=top_specialties['SchoolDegree'],y=top_specialties['index'])\n",
    "total=len(top_specialties['index'])\n",
    "for p in ax.patches:\n",
    "    percentage ='{:,.0f}%'.format(p.get_width())\n",
    "    width, height =p.get_width(),p.get_height()\n",
    "    x=p.get_x()+width+0.02\n",
    "    y=p.get_y()+height/2\n",
    "    ax.annotate(percentage,(x,y))\n",
    "\n",
    "plt.xticks(rotation =0,fontsize =10)\n",
    "plt.yticks(rotation =0,fontsize =13)\n",
    "\n",
    "plt.title('The most frequent departments',\n",
    "         fontsize =16\n",
    "         ) \n",
    "plt.xlabel ('',fontsize =16)\n",
    "plt.ylabel ('departments',fontsize =16)\n",
    "\n",
    "plt.show ()"
   ]
  },
  {
   "cell_type": "code",
   "execution_count": null,
   "metadata": {},
   "outputs": [],
   "source": []
  },
  {
   "cell_type": "code",
   "execution_count": null,
   "metadata": {},
   "outputs": [],
   "source": []
  },
  {
   "cell_type": "code",
   "execution_count": 247,
   "metadata": {},
   "outputs": [
    {
     "data": {
      "text/plain": [
       "0    Project Management\n",
       "1         Data Analysis\n",
       "2      Microsoft Office\n",
       "3         Data Analysis\n",
       "4                   SQL\n",
       "dtype: object"
      ]
     },
     "execution_count": 247,
     "metadata": {},
     "output_type": "execute_result"
    }
   ],
   "source": [
    "# concat all columns for skills \n",
    "skills= pd.concat(([df[\"skill1\"],df[\"skill2\"],df[\"skill3\"],df[\"skill4\"],df[\"skill5\"],df[\"skill6\"]]),ignore_index=True, sort=False)\n",
    "#skills= skills.replace('python','Python')\n",
    "skills.head()"
   ]
  },
  {
   "cell_type": "code",
   "execution_count": 248,
   "metadata": {},
   "outputs": [],
   "source": [
    "#skills.replace({'Python(Programming Language)':'Python'},inplace=True)\n",
    "\n"
   ]
  },
  {
   "cell_type": "code",
   "execution_count": 249,
   "metadata": {},
   "outputs": [],
   "source": [
    "# change type to dataframe \n",
    "skills = skills.to_frame()"
   ]
  },
  {
   "cell_type": "code",
   "execution_count": 250,
   "metadata": {},
   "outputs": [],
   "source": [
    "# concat all columns for skills \n",
    "\n",
    "skills['s']= pd.concat(([df[\"skill1\"],df[\"skill2\"],df[\"skill3\"],df[\"skill4\"],df[\"skill5\"],df[\"skill6\"]]),ignore_index=True, sort=False)\n"
   ]
  },
  {
   "cell_type": "code",
   "execution_count": 251,
   "metadata": {},
   "outputs": [
    {
     "data": {
      "text/html": [
       "<div>\n",
       "<style scoped>\n",
       "    .dataframe tbody tr th:only-of-type {\n",
       "        vertical-align: middle;\n",
       "    }\n",
       "\n",
       "    .dataframe tbody tr th {\n",
       "        vertical-align: top;\n",
       "    }\n",
       "\n",
       "    .dataframe thead th {\n",
       "        text-align: right;\n",
       "    }\n",
       "</style>\n",
       "<table border=\"1\" class=\"dataframe\">\n",
       "  <thead>\n",
       "    <tr style=\"text-align: right;\">\n",
       "      <th></th>\n",
       "      <th>0</th>\n",
       "      <th>s</th>\n",
       "    </tr>\n",
       "  </thead>\n",
       "  <tbody>\n",
       "    <tr>\n",
       "      <th>0</th>\n",
       "      <td>Project Management</td>\n",
       "      <td>Project Management</td>\n",
       "    </tr>\n",
       "    <tr>\n",
       "      <th>1</th>\n",
       "      <td>Data Analysis</td>\n",
       "      <td>Data Analysis</td>\n",
       "    </tr>\n",
       "    <tr>\n",
       "      <th>2</th>\n",
       "      <td>Microsoft Office</td>\n",
       "      <td>Microsoft Office</td>\n",
       "    </tr>\n",
       "    <tr>\n",
       "      <th>3</th>\n",
       "      <td>Data Analysis</td>\n",
       "      <td>Data Analysis</td>\n",
       "    </tr>\n",
       "    <tr>\n",
       "      <th>4</th>\n",
       "      <td>SQL</td>\n",
       "      <td>SQL</td>\n",
       "    </tr>\n",
       "  </tbody>\n",
       "</table>\n",
       "</div>"
      ],
      "text/plain": [
       "                    0                   s\n",
       "0  Project Management  Project Management\n",
       "1       Data Analysis       Data Analysis\n",
       "2    Microsoft Office    Microsoft Office\n",
       "3       Data Analysis       Data Analysis\n",
       "4                 SQL                 SQL"
      ]
     },
     "execution_count": 251,
     "metadata": {},
     "output_type": "execute_result"
    }
   ],
   "source": [
    "skills.head()"
   ]
  },
  {
   "cell_type": "code",
   "execution_count": 252,
   "metadata": {},
   "outputs": [],
   "source": [
    "# A function \n",
    "def find_skills(s):\n",
    "    if( s.find('SQL') != -1 or s.find('Java') != -1  or s.find('R ') != -1 or s.find('C++') != -1 or s.find('Python') != -1 or  \n",
    "        s.find('MySQL') != -1 or s.find('C#') != -1 or s.find('PHP') != -1 or  s.find('R (Programming Language)') != -1 \n",
    "         or s.find('PL/SQL') != -1 or s.find('ASP.NET') != -1 or s.find('React.js') != -1 or s.find('java') != -1 or\n",
    "         s.find('Flutter') != -1 or s.find('.NET') != -1 or s.find('.NET') != -1 or s.find('R Programing') != -1 or s.find('JavaScript') != -1):  \n",
    "        return 'programming languages'\n",
    "    # elif( s.find('Microsoft Office') != -1 or s.find('Tableau') != -1  or s.find('Microsoft SQL Server') != -1 or s.find('Microsoft Excel') != -1 or s.find('Matlab') != -1 \n",
    "      #  or s.find('Kubernetes') != -1 or s.find('SAS') != -1 or s.find('Amazon S3') != -1 or s.find('Linux') != -1 or  s.find('Databases') != -1 \n",
    "      #   or s.find('User Experience (UX)') != -1 or s.find('SDLC') != -1 or s.find('Machine Learning') != -1 or s.find('Data Visualization') != -1 or\n",
    "      #   s.find('Data Science') != -1 or s.find('Data Analysis') != -1 or s.find('Data Mining') != -1 or s.find('Business Intelligence') != -1 \n",
    "      #   or s.find('Research') != -1 or s.find('Enterprise Project Management (EPM)') != -1 or s.find('ERP)') != -1 or s.find('Artificial intelligence (AI)') != -1\n",
    "      #   or s.find('Cloud Computing') != -1 or s.find('Deep Learning') != -1 or s.find('Cybersecurity') != -1 or s.find('Statistics') != -1 or s.find(' Web Scraping') != -1\n",
    "      #   or s.find('Information Security') != -1 or s.find('Internet of Things') != -1 or s.find('Geophysics') != -1 or s.find('AWS IoT') != -1 or s.find('SPSS') != -1\n",
    "      #   or s.find('Web Development') != -1 or s.find('Big Data Analytics') != -1 or s.find('Computer Vision') != -1 or s.find('NLP') != -1 or s.find('Power pi') != -1\n",
    "      #   or s.find('Microsoft Power BI') != -1 or s.find('ETL') != -1 ): \n",
    "      #  return 'technical concepts' \n",
    "    \n",
    "    \n",
    "    elif( s.find('Communication skills') != -1 or s.find('Management') != -1  or s.find('Public Speaking') != -1 or s.find('Teamwork') != -1 or s.find('Problem Solving') != -1 \n",
    "        or s.find('Time management') != -1 or s.find('Problem Solving') != -1 or s.find('Leadership') != -1 or s.find('Team Leadership') != -1 or  s.find('statistical reports') != -1 \n",
    "         or s.find('Research') != -1 or s.find('Project Management') != -1 or s.find('Self Learning') != -1 or s.find('Critical Thinking') != -1 ): \n",
    "        return 'Soft skills'\n",
    "    \n",
    "    else:\n",
    "        return 'Unkown'"
   ]
  },
  {
   "cell_type": "code",
   "execution_count": 253,
   "metadata": {},
   "outputs": [],
   "source": [
    "# Create a column in skills and make it string\n",
    "skills['s']= skills['s'].astype(str)\n"
   ]
  },
  {
   "cell_type": "code",
   "execution_count": 254,
   "metadata": {},
   "outputs": [],
   "source": [
    "# apply funtion \n",
    "skills['Type'] = skills['s'].apply(find_skills) "
   ]
  },
  {
   "cell_type": "code",
   "execution_count": 255,
   "metadata": {},
   "outputs": [],
   "source": [
    "# this apply the function in Dataframe \n",
    "df['type_skills'] = skills['s'].apply(find_skills) "
   ]
  },
  {
   "cell_type": "code",
   "execution_count": 256,
   "metadata": {},
   "outputs": [
    {
     "data": {
      "text/html": [
       "<div>\n",
       "<style scoped>\n",
       "    .dataframe tbody tr th:only-of-type {\n",
       "        vertical-align: middle;\n",
       "    }\n",
       "\n",
       "    .dataframe tbody tr th {\n",
       "        vertical-align: top;\n",
       "    }\n",
       "\n",
       "    .dataframe thead th {\n",
       "        text-align: right;\n",
       "    }\n",
       "</style>\n",
       "<table border=\"1\" class=\"dataframe\">\n",
       "  <thead>\n",
       "    <tr style=\"text-align: right;\">\n",
       "      <th></th>\n",
       "      <th>0</th>\n",
       "      <th>s</th>\n",
       "      <th>Type</th>\n",
       "    </tr>\n",
       "  </thead>\n",
       "  <tbody>\n",
       "    <tr>\n",
       "      <th>0</th>\n",
       "      <td>Project Management</td>\n",
       "      <td>Project Management</td>\n",
       "      <td>Soft skills</td>\n",
       "    </tr>\n",
       "    <tr>\n",
       "      <th>1</th>\n",
       "      <td>Data Analysis</td>\n",
       "      <td>Data Analysis</td>\n",
       "      <td>Unkown</td>\n",
       "    </tr>\n",
       "    <tr>\n",
       "      <th>2</th>\n",
       "      <td>Microsoft Office</td>\n",
       "      <td>Microsoft Office</td>\n",
       "      <td>Unkown</td>\n",
       "    </tr>\n",
       "    <tr>\n",
       "      <th>3</th>\n",
       "      <td>Data Analysis</td>\n",
       "      <td>Data Analysis</td>\n",
       "      <td>Unkown</td>\n",
       "    </tr>\n",
       "    <tr>\n",
       "      <th>4</th>\n",
       "      <td>SQL</td>\n",
       "      <td>SQL</td>\n",
       "      <td>programming languages</td>\n",
       "    </tr>\n",
       "  </tbody>\n",
       "</table>\n",
       "</div>"
      ],
      "text/plain": [
       "                    0                   s                   Type\n",
       "0  Project Management  Project Management            Soft skills\n",
       "1       Data Analysis       Data Analysis                 Unkown\n",
       "2    Microsoft Office    Microsoft Office                 Unkown\n",
       "3       Data Analysis       Data Analysis                 Unkown\n",
       "4                 SQL                 SQL  programming languages"
      ]
     },
     "execution_count": 256,
     "metadata": {},
     "output_type": "execute_result"
    }
   ],
   "source": [
    "skills.head()"
   ]
  },
  {
   "cell_type": "code",
   "execution_count": 257,
   "metadata": {},
   "outputs": [
    {
     "data": {
      "text/plain": [
       "Unkown                   9237\n",
       "Soft skills              1589\n",
       "programming languages    1450\n",
       "Name: Type, dtype: int64"
      ]
     },
     "execution_count": 257,
     "metadata": {},
     "output_type": "execute_result"
    }
   ],
   "source": [
    "skills['Type'].value_counts()"
   ]
  },
  {
   "cell_type": "code",
   "execution_count": 258,
   "metadata": {},
   "outputs": [
    {
     "data": {
      "text/html": [
       "<div>\n",
       "<style scoped>\n",
       "    .dataframe tbody tr th:only-of-type {\n",
       "        vertical-align: middle;\n",
       "    }\n",
       "\n",
       "    .dataframe tbody tr th {\n",
       "        vertical-align: top;\n",
       "    }\n",
       "\n",
       "    .dataframe thead th {\n",
       "        text-align: right;\n",
       "    }\n",
       "</style>\n",
       "<table border=\"1\" class=\"dataframe\">\n",
       "  <thead>\n",
       "    <tr style=\"text-align: right;\">\n",
       "      <th></th>\n",
       "      <th>0</th>\n",
       "      <th>s</th>\n",
       "      <th>Type</th>\n",
       "    </tr>\n",
       "  </thead>\n",
       "  <tbody>\n",
       "    <tr>\n",
       "      <th>4</th>\n",
       "      <td>SQL</td>\n",
       "      <td>SQL</td>\n",
       "      <td>programming languages</td>\n",
       "    </tr>\n",
       "    <tr>\n",
       "      <th>12</th>\n",
       "      <td>Microsoft SQL Server</td>\n",
       "      <td>Microsoft SQL Server</td>\n",
       "      <td>programming languages</td>\n",
       "    </tr>\n",
       "    <tr>\n",
       "      <th>20</th>\n",
       "      <td>Microsoft SQL Server</td>\n",
       "      <td>Microsoft SQL Server</td>\n",
       "      <td>programming languages</td>\n",
       "    </tr>\n",
       "    <tr>\n",
       "      <th>35</th>\n",
       "      <td>Microsoft SQL Server</td>\n",
       "      <td>Microsoft SQL Server</td>\n",
       "      <td>programming languages</td>\n",
       "    </tr>\n",
       "    <tr>\n",
       "      <th>51</th>\n",
       "      <td>Python</td>\n",
       "      <td>Python</td>\n",
       "      <td>programming languages</td>\n",
       "    </tr>\n",
       "    <tr>\n",
       "      <th>66</th>\n",
       "      <td>Python</td>\n",
       "      <td>Python</td>\n",
       "      <td>programming languages</td>\n",
       "    </tr>\n",
       "    <tr>\n",
       "      <th>68</th>\n",
       "      <td>Python</td>\n",
       "      <td>Python</td>\n",
       "      <td>programming languages</td>\n",
       "    </tr>\n",
       "    <tr>\n",
       "      <th>71</th>\n",
       "      <td>Python (Programming Language)</td>\n",
       "      <td>Python (Programming Language)</td>\n",
       "      <td>programming languages</td>\n",
       "    </tr>\n",
       "    <tr>\n",
       "      <th>79</th>\n",
       "      <td>SQL</td>\n",
       "      <td>SQL</td>\n",
       "      <td>programming languages</td>\n",
       "    </tr>\n",
       "    <tr>\n",
       "      <th>87</th>\n",
       "      <td>Java</td>\n",
       "      <td>Java</td>\n",
       "      <td>programming languages</td>\n",
       "    </tr>\n",
       "  </tbody>\n",
       "</table>\n",
       "</div>"
      ],
      "text/plain": [
       "                                0                              s  \\\n",
       "4                             SQL                            SQL   \n",
       "12           Microsoft SQL Server           Microsoft SQL Server   \n",
       "20           Microsoft SQL Server           Microsoft SQL Server   \n",
       "35           Microsoft SQL Server           Microsoft SQL Server   \n",
       "51                         Python                         Python   \n",
       "66                         Python                         Python   \n",
       "68                         Python                         Python   \n",
       "71  Python (Programming Language)  Python (Programming Language)   \n",
       "79                            SQL                            SQL   \n",
       "87                           Java                           Java   \n",
       "\n",
       "                     Type  \n",
       "4   programming languages  \n",
       "12  programming languages  \n",
       "20  programming languages  \n",
       "35  programming languages  \n",
       "51  programming languages  \n",
       "66  programming languages  \n",
       "68  programming languages  \n",
       "71  programming languages  \n",
       "79  programming languages  \n",
       "87  programming languages  "
      ]
     },
     "execution_count": 258,
     "metadata": {},
     "output_type": "execute_result"
    }
   ],
   "source": [
    "# select only the programming languages\n",
    "programming_languages = skills[skills['Type']=='programming languages'] \n",
    "programming_languages.head(10) "
   ]
  },
  {
   "cell_type": "code",
   "execution_count": 259,
   "metadata": {},
   "outputs": [],
   "source": [
    "# Determine the most used programming languages\n",
    "top_skills = (programming_languages['s'].value_counts(normalize=True)*100).head(10)"
   ]
  },
  {
   "cell_type": "code",
   "execution_count": 260,
   "metadata": {},
   "outputs": [],
   "source": [
    "#change the type to data frame \n",
    "top_skills = top_skills.to_frame()\n",
    "top_skills['index']=top_skills.index"
   ]
  },
  {
   "cell_type": "code",
   "execution_count": 261,
   "metadata": {},
   "outputs": [
    {
     "data": {
      "text/html": [
       "<div>\n",
       "<style scoped>\n",
       "    .dataframe tbody tr th:only-of-type {\n",
       "        vertical-align: middle;\n",
       "    }\n",
       "\n",
       "    .dataframe tbody tr th {\n",
       "        vertical-align: top;\n",
       "    }\n",
       "\n",
       "    .dataframe thead th {\n",
       "        text-align: right;\n",
       "    }\n",
       "</style>\n",
       "<table border=\"1\" class=\"dataframe\">\n",
       "  <thead>\n",
       "    <tr style=\"text-align: right;\">\n",
       "      <th></th>\n",
       "      <th>s</th>\n",
       "      <th>index</th>\n",
       "    </tr>\n",
       "  </thead>\n",
       "  <tbody>\n",
       "    <tr>\n",
       "      <th>Python (Programming Language)</th>\n",
       "      <td>19.724138</td>\n",
       "      <td>Python (Programming Language)</td>\n",
       "    </tr>\n",
       "    <tr>\n",
       "      <th>SQL</th>\n",
       "      <td>19.172414</td>\n",
       "      <td>SQL</td>\n",
       "    </tr>\n",
       "    <tr>\n",
       "      <th>Java</th>\n",
       "      <td>15.103448</td>\n",
       "      <td>Java</td>\n",
       "    </tr>\n",
       "    <tr>\n",
       "      <th>Python</th>\n",
       "      <td>14.551724</td>\n",
       "      <td>Python</td>\n",
       "    </tr>\n",
       "    <tr>\n",
       "      <th>C++</th>\n",
       "      <td>5.103448</td>\n",
       "      <td>C++</td>\n",
       "    </tr>\n",
       "    <tr>\n",
       "      <th>JavaScript</th>\n",
       "      <td>4.896552</td>\n",
       "      <td>JavaScript</td>\n",
       "    </tr>\n",
       "    <tr>\n",
       "      <th>Microsoft SQL Server</th>\n",
       "      <td>3.034483</td>\n",
       "      <td>Microsoft SQL Server</td>\n",
       "    </tr>\n",
       "    <tr>\n",
       "      <th>MySQL</th>\n",
       "      <td>2.827586</td>\n",
       "      <td>MySQL</td>\n",
       "    </tr>\n",
       "    <tr>\n",
       "      <th>PHP</th>\n",
       "      <td>2.137931</td>\n",
       "      <td>PHP</td>\n",
       "    </tr>\n",
       "    <tr>\n",
       "      <th>C#</th>\n",
       "      <td>2.137931</td>\n",
       "      <td>C#</td>\n",
       "    </tr>\n",
       "  </tbody>\n",
       "</table>\n",
       "</div>"
      ],
      "text/plain": [
       "                                       s                          index\n",
       "Python (Programming Language)  19.724138  Python (Programming Language)\n",
       "SQL                            19.172414                            SQL\n",
       "Java                           15.103448                           Java\n",
       "Python                         14.551724                         Python\n",
       "C++                             5.103448                            C++\n",
       "JavaScript                      4.896552                     JavaScript\n",
       "Microsoft SQL Server            3.034483           Microsoft SQL Server\n",
       "MySQL                           2.827586                          MySQL\n",
       "PHP                             2.137931                            PHP\n",
       "C#                              2.137931                             C#"
      ]
     },
     "execution_count": 261,
     "metadata": {},
     "output_type": "execute_result"
    }
   ],
   "source": [
    "top_skills"
   ]
  },
  {
   "cell_type": "code",
   "execution_count": 262,
   "metadata": {},
   "outputs": [
    {
     "data": {
      "image/png": "[encoded data removed]",
      "text/plain": [
       "<Figure size 864x360 with 1 Axes>"
      ]
     },
     "metadata": {},
     "output_type": "display_data"
    }
   ],
   "source": [
    "# plot1 real \n",
    "\n",
    "fig, ax= plt.subplots(figsize =(12,5))\n",
    "#ns.set_style('whitegrid')\n",
    "sns.set_context('notebook')\n",
    "sns.set(font_scale=1)\n",
    "plt.fontsize =(16)\n",
    "\n",
    "ax=sns.barplot(palette=\"Blues_r\",ax=ax,\n",
    "\n",
    "            x=top_skills['s'],y=top_skills['index'])\n",
    "total=len(top_specialties['index'])\n",
    "for p in ax.patches:\n",
    "    percentage ='{:,.0f}%'.format(p.get_width())\n",
    "    width, height =p.get_width(),p.get_height()\n",
    "    x=p.get_x()+width+0.02\n",
    "    y=p.get_y()+height/2\n",
    "    ax.annotate(percentage,(x,y))\n",
    "\n",
    "plt.xticks(rotation =0,fontsize =10)\n",
    "plt.yticks(rotation =0,fontsize =13)\n",
    "# title \n",
    "plt.title('The most frequently programming language',\n",
    "         fontsize =16\n",
    "         )\n",
    "plt.xlabel ('',fontsize =16)\n",
    "plt.ylabel ('programming language',fontsize =16)\n",
    "\n",
    "plt.show ()"
   ]
  },
  {
   "cell_type": "code",
   "execution_count": 263,
   "metadata": {},
   "outputs": [
    {
     "data": {
      "text/html": [
       "<div>\n",
       "<style scoped>\n",
       "    .dataframe tbody tr th:only-of-type {\n",
       "        vertical-align: middle;\n",
       "    }\n",
       "\n",
       "    .dataframe tbody tr th {\n",
       "        vertical-align: top;\n",
       "    }\n",
       "\n",
       "    .dataframe thead th {\n",
       "        text-align: right;\n",
       "    }\n",
       "</style>\n",
       "<table border=\"1\" class=\"dataframe\">\n",
       "  <thead>\n",
       "    <tr style=\"text-align: right;\">\n",
       "      <th></th>\n",
       "      <th>0</th>\n",
       "      <th>s</th>\n",
       "      <th>Type</th>\n",
       "    </tr>\n",
       "  </thead>\n",
       "  <tbody>\n",
       "    <tr>\n",
       "      <th>0</th>\n",
       "      <td>Project Management</td>\n",
       "      <td>Project Management</td>\n",
       "      <td>Soft skills</td>\n",
       "    </tr>\n",
       "    <tr>\n",
       "      <th>7</th>\n",
       "      <td>Product Management</td>\n",
       "      <td>Product Management</td>\n",
       "      <td>Soft skills</td>\n",
       "    </tr>\n",
       "    <tr>\n",
       "      <th>11</th>\n",
       "      <td>Self Learning</td>\n",
       "      <td>Self Learning</td>\n",
       "      <td>Soft skills</td>\n",
       "    </tr>\n",
       "    <tr>\n",
       "      <th>21</th>\n",
       "      <td>Public Speaking</td>\n",
       "      <td>Public Speaking</td>\n",
       "      <td>Soft skills</td>\n",
       "    </tr>\n",
       "    <tr>\n",
       "      <th>26</th>\n",
       "      <td>Critical Thinking</td>\n",
       "      <td>Critical Thinking</td>\n",
       "      <td>Soft skills</td>\n",
       "    </tr>\n",
       "    <tr>\n",
       "      <th>38</th>\n",
       "      <td>Communication skills</td>\n",
       "      <td>Communication skills</td>\n",
       "      <td>Soft skills</td>\n",
       "    </tr>\n",
       "    <tr>\n",
       "      <th>44</th>\n",
       "      <td>Research</td>\n",
       "      <td>Research</td>\n",
       "      <td>Soft skills</td>\n",
       "    </tr>\n",
       "    <tr>\n",
       "      <th>45</th>\n",
       "      <td>Management</td>\n",
       "      <td>Management</td>\n",
       "      <td>Soft skills</td>\n",
       "    </tr>\n",
       "    <tr>\n",
       "      <th>46</th>\n",
       "      <td>Public Speaking</td>\n",
       "      <td>Public Speaking</td>\n",
       "      <td>Soft skills</td>\n",
       "    </tr>\n",
       "    <tr>\n",
       "      <th>47</th>\n",
       "      <td>Teamwork</td>\n",
       "      <td>Teamwork</td>\n",
       "      <td>Soft skills</td>\n",
       "    </tr>\n",
       "  </tbody>\n",
       "</table>\n",
       "</div>"
      ],
      "text/plain": [
       "                       0                     s         Type\n",
       "0     Project Management    Project Management  Soft skills\n",
       "7     Product Management    Product Management  Soft skills\n",
       "11         Self Learning         Self Learning  Soft skills\n",
       "21       Public Speaking       Public Speaking  Soft skills\n",
       "26     Critical Thinking     Critical Thinking  Soft skills\n",
       "38  Communication skills  Communication skills  Soft skills\n",
       "44              Research              Research  Soft skills\n",
       "45            Management            Management  Soft skills\n",
       "46       Public Speaking       Public Speaking  Soft skills\n",
       "47              Teamwork              Teamwork  Soft skills"
      ]
     },
     "execution_count": 263,
     "metadata": {},
     "output_type": "execute_result"
    }
   ],
   "source": [
    "# select only the soft skills\n",
    "Soft_skills = skills[skills['Type']=='Soft skills'] \n",
    "Soft_skills.head(10) "
   ]
  },
  {
   "cell_type": "code",
   "execution_count": 264,
   "metadata": {},
   "outputs": [],
   "source": [
    "# Determine the most used soft skills\n",
    "\n",
    "top_Soft_skills = (Soft_skills['s'].value_counts(normalize=True)*100).head(10)"
   ]
  },
  {
   "cell_type": "code",
   "execution_count": 265,
   "metadata": {},
   "outputs": [],
   "source": [
    "# change the output to data frame \n",
    "top_Soft_skills = top_Soft_skills.to_frame()\n",
    "top_Soft_skills['index']=top_Soft_skills.index"
   ]
  },
  {
   "cell_type": "code",
   "execution_count": 266,
   "metadata": {},
   "outputs": [
    {
     "data": {
      "image/png": "[encoded data removed]",
      "text/plain": [
       "<Figure size 864x360 with 1 Axes>"
      ]
     },
     "metadata": {},
     "output_type": "display_data"
    }
   ],
   "source": [
    "# plot1 real \n",
    "\n",
    "fig, ax= plt.subplots(figsize =(12,5))\n",
    "#ns.set_style('whitegrid')\n",
    "sns.set_context('notebook')\n",
    "sns.set(font_scale=1)\n",
    "plt.fontsize =(16)\n",
    "#Choose columns\n",
    "ax=sns.barplot(palette=\"Blues_r\",ax=ax,\n",
    "\n",
    "            x=top_Soft_skills['s'],y=top_Soft_skills['index'])\n",
    "total=len(top_specialties['index'])\n",
    "for p in ax.patches:\n",
    "    percentage ='{:,.0f}%'.format(p.get_width())\n",
    "    width, height =p.get_width(),p.get_height()\n",
    "    x=p.get_x()+width+0.02\n",
    "    y=p.get_y()+height/2\n",
    "    ax.annotate(percentage,(x,y))\n",
    "\n",
    "plt.xticks(rotation =0,fontsize =10)\n",
    "plt.yticks(rotation =0,fontsize =13)\n",
    "\n",
    "plt.title('The most frequently soft skills',\n",
    "         fontsize =16\n",
    "         )\n",
    "plt.xlabel ('',fontsize =16)\n",
    "plt.ylabel ('soft skills',fontsize =16)\n",
    "\n",
    "plt.show ()"
   ]
  },
  {
   "cell_type": "code",
   "execution_count": 267,
   "metadata": {},
   "outputs": [],
   "source": [
    "#Convert letters to lowercase\n",
    "df['company'] = df['company'].str.lower()"
   ]
  },
  {
   "cell_type": "code",
   "execution_count": 268,
   "metadata": {},
   "outputs": [],
   "source": [
    "# replace aramco to saudi aramco \n",
    "df['company']= df['company'].str.replace('aramco','saudi aramco')\n"
   ]
  },
  {
   "cell_type": "code",
   "execution_count": 269,
   "metadata": {},
   "outputs": [],
   "source": [
    "# value counts\n",
    "top_comp = df['company'].value_counts()\n"
   ]
  },
  {
   "cell_type": "code",
   "execution_count": 270,
   "metadata": {},
   "outputs": [],
   "source": [
    "top_comp= top_comp.to_string"
   ]
  },
  {
   "cell_type": "code",
   "execution_count": null,
   "metadata": {},
   "outputs": [],
   "source": []
  },
  {
   "cell_type": "code",
   "execution_count": 271,
   "metadata": {},
   "outputs": [],
   "source": [
    "#Mobily = df[df['company']=='mobily'] \n",
    "#Mobily"
   ]
  },
  {
   "cell_type": "code",
   "execution_count": 272,
   "metadata": {},
   "outputs": [
    {
     "data": {
      "text/plain": [
       "sdaia | سدايا    8.425832\n",
       "stc              3.884965\n",
       "confidential     3.481332\n",
       "saudi aramco     2.119072\n",
       "sabic            1.664985\n",
       "Name: company, dtype: float64"
      ]
     },
     "execution_count": 272,
     "metadata": {},
     "output_type": "execute_result"
    }
   ],
   "source": [
    "company = (df['company'].value_counts(normalize=True)*100).head(8)\n",
    "company = company.drop(labels = ['sdaia academy','general assembly','saudi digital academy']) \n",
    "\n",
    "company"
   ]
  },
  {
   "cell_type": "code",
   "execution_count": 273,
   "metadata": {},
   "outputs": [],
   "source": [
    "company = company.to_frame()\n",
    "company['index']=company.index"
   ]
  },
  {
   "cell_type": "code",
   "execution_count": 274,
   "metadata": {},
   "outputs": [
    {
     "data": {
      "text/html": [
       "<div>\n",
       "<style scoped>\n",
       "    .dataframe tbody tr th:only-of-type {\n",
       "        vertical-align: middle;\n",
       "    }\n",
       "\n",
       "    .dataframe tbody tr th {\n",
       "        vertical-align: top;\n",
       "    }\n",
       "\n",
       "    .dataframe thead th {\n",
       "        text-align: right;\n",
       "    }\n",
       "</style>\n",
       "<table border=\"1\" class=\"dataframe\">\n",
       "  <thead>\n",
       "    <tr style=\"text-align: right;\">\n",
       "      <th></th>\n",
       "      <th>company</th>\n",
       "      <th>index</th>\n",
       "    </tr>\n",
       "  </thead>\n",
       "  <tbody>\n",
       "    <tr>\n",
       "      <th>sdaia | سدايا</th>\n",
       "      <td>8.425832</td>\n",
       "      <td>sdaia | سدايا</td>\n",
       "    </tr>\n",
       "    <tr>\n",
       "      <th>stc</th>\n",
       "      <td>3.884965</td>\n",
       "      <td>stc</td>\n",
       "    </tr>\n",
       "    <tr>\n",
       "      <th>confidential</th>\n",
       "      <td>3.481332</td>\n",
       "      <td>confidential</td>\n",
       "    </tr>\n",
       "    <tr>\n",
       "      <th>saudi aramco</th>\n",
       "      <td>2.119072</td>\n",
       "      <td>saudi aramco</td>\n",
       "    </tr>\n",
       "    <tr>\n",
       "      <th>sabic</th>\n",
       "      <td>1.664985</td>\n",
       "      <td>sabic</td>\n",
       "    </tr>\n",
       "  </tbody>\n",
       "</table>\n",
       "</div>"
      ],
      "text/plain": [
       "                company          index\n",
       "sdaia | سدايا  8.425832  sdaia | سدايا\n",
       "stc            3.884965            stc\n",
       "confidential   3.481332   confidential\n",
       "saudi aramco   2.119072   saudi aramco\n",
       "sabic          1.664985          sabic"
      ]
     },
     "execution_count": 274,
     "metadata": {},
     "output_type": "execute_result"
    }
   ],
   "source": [
    "company"
   ]
  },
  {
   "cell_type": "code",
   "execution_count": 275,
   "metadata": {},
   "outputs": [
    {
     "data": {
      "image/png": "[encoded data removed]",
      "text/plain": [
       "<Figure size 720x360 with 1 Axes>"
      ]
     },
     "metadata": {},
     "output_type": "display_data"
    }
   ],
   "source": [
    "# plot1 real \n",
    "\n",
    "fig, ax= plt.subplots(figsize =(10,5))\n",
    "#ns.set_style('whitegrid')\n",
    "sns.set_context('notebook')\n",
    "sns.set(font_scale=1)\n",
    "plt.fontsize =(16)\n",
    "\n",
    "ax=sns.barplot(palette=\"Blues_r\",ax=ax,\n",
    "\n",
    "            x=company['company'],y=company['index'])\n",
    "total=len(company['index'])\n",
    "for p in ax.patches:\n",
    "    percentage ='{:,.0f}%'.format(p.get_width())\n",
    "    width, height =p.get_width(),p.get_height()\n",
    "    x=p.get_x()+width+0.02\n",
    "    y=p.get_y()+height/2\n",
    "    ax.annotate(percentage,(x,y))\n",
    "\n",
    "plt.xticks(rotation =0,fontsize =10)\n",
    "plt.yticks(rotation =0,fontsize =13)\n",
    "\n",
    "plt.title('The most frequently companies',\n",
    "         fontsize =16\n",
    "         ) \n",
    "plt.xlabel ('',fontsize =16)\n",
    "plt.ylabel ('Companies',fontsize =16)\n",
    "\n",
    "plt.show ()"
   ]
  },
  {
   "cell_type": "code",
   "execution_count": null,
   "metadata": {},
   "outputs": [],
   "source": []
  },
  {
   "cell_type": "code",
   "execution_count": null,
   "metadata": {},
   "outputs": [],
   "source": []
  },
  {
   "cell_type": "code",
   "execution_count": 276,
   "metadata": {},
   "outputs": [],
   "source": [
    "# Choose only the 5 most repeat companies and convert the output into a data frame\n",
    "top_job_title = (df['jobTitle'].value_counts(normalize=True)*100).head()\n",
    "top_job_title.head(5)\n",
    "top_job_title= top_job_title.to_frame()\n",
    "top_job_title['index']=top_job_title.index"
   ]
  },
  {
   "cell_type": "code",
   "execution_count": 277,
   "metadata": {},
   "outputs": [
    {
     "data": {
      "text/html": [
       "<div>\n",
       "<style scoped>\n",
       "    .dataframe tbody tr th:only-of-type {\n",
       "        vertical-align: middle;\n",
       "    }\n",
       "\n",
       "    .dataframe tbody tr th {\n",
       "        vertical-align: top;\n",
       "    }\n",
       "\n",
       "    .dataframe thead th {\n",
       "        text-align: right;\n",
       "    }\n",
       "</style>\n",
       "<table border=\"1\" class=\"dataframe\">\n",
       "  <thead>\n",
       "    <tr style=\"text-align: right;\">\n",
       "      <th></th>\n",
       "      <th>jobTitle</th>\n",
       "      <th>index</th>\n",
       "    </tr>\n",
       "  </thead>\n",
       "  <tbody>\n",
       "    <tr>\n",
       "      <th>Data Analyst</th>\n",
       "      <td>17.255298</td>\n",
       "      <td>Data Analyst</td>\n",
       "    </tr>\n",
       "    <tr>\n",
       "      <th>Data Scientist</th>\n",
       "      <td>11.755802</td>\n",
       "      <td>Data Scientist</td>\n",
       "    </tr>\n",
       "    <tr>\n",
       "      <th>Junior Data Scientist</th>\n",
       "      <td>3.430878</td>\n",
       "      <td>Junior Data Scientist</td>\n",
       "    </tr>\n",
       "    <tr>\n",
       "      <th>Senior Data Analyst</th>\n",
       "      <td>1.866801</td>\n",
       "      <td>Senior Data Analyst</td>\n",
       "    </tr>\n",
       "    <tr>\n",
       "      <th>Senior Data Scientist</th>\n",
       "      <td>1.463169</td>\n",
       "      <td>Senior Data Scientist</td>\n",
       "    </tr>\n",
       "  </tbody>\n",
       "</table>\n",
       "</div>"
      ],
      "text/plain": [
       "                        jobTitle                  index\n",
       "Data Analyst           17.255298           Data Analyst\n",
       "Data Scientist         11.755802         Data Scientist\n",
       "Junior Data Scientist   3.430878  Junior Data Scientist\n",
       "Senior Data Analyst     1.866801    Senior Data Analyst\n",
       "Senior Data Scientist   1.463169  Senior Data Scientist"
      ]
     },
     "execution_count": 277,
     "metadata": {},
     "output_type": "execute_result"
    }
   ],
   "source": [
    "top_job_title.head()"
   ]
  },
  {
   "cell_type": "code",
   "execution_count": 278,
   "metadata": {},
   "outputs": [
    {
     "data": {
      "image/png": "[encoded data removed]",
      "text/plain": [
       "<Figure size 864x360 with 1 Axes>"
      ]
     },
     "metadata": {},
     "output_type": "display_data"
    }
   ],
   "source": [
    "# plot1 real \n",
    "\n",
    "fig, ax= plt.subplots(figsize =(12,5))\n",
    "#ns.set_style('whitegrid')\n",
    "sns.set_context('notebook')\n",
    "sns.set(font_scale=1)\n",
    "plt.fontsize =(16)\n",
    "\n",
    "ax=sns.barplot(palette=\"Blues_r\",ax=ax,\n",
    "\n",
    "            x=top_job_title['jobTitle'],y=top_job_title['index'])\n",
    "total=len(top_specialties['index'])\n",
    "for p in ax.patches:\n",
    "    percentage ='{:,.0f}%'.format(p.get_width())\n",
    "    width, height =p.get_width(),p.get_height()\n",
    "    x=p.get_x()+width+0.02\n",
    "    y=p.get_y()+height/2\n",
    "    ax.annotate(percentage,(x,y))\n",
    "\n",
    "plt.xticks(rotation =0,fontsize =10)\n",
    "plt.yticks(rotation =0,fontsize =13)\n",
    "\n",
    "plt.title('Most frequntly Job Titles',\n",
    "         fontsize =16\n",
    "         )\n",
    "plt.xlabel ('',fontsize =16)\n",
    "plt.ylabel ('job titles',fontsize =16)\n",
    "\n",
    "plt.show ()"
   ]
  },
  {
   "cell_type": "code",
   "execution_count": null,
   "metadata": {},
   "outputs": [],
   "source": []
  },
  {
   "cell_type": "code",
   "execution_count": null,
   "metadata": {},
   "outputs": [],
   "source": []
  },
  {
   "cell_type": "code",
   "execution_count": 279,
   "metadata": {},
   "outputs": [],
   "source": [
    "df.to_csv('data.csv')"
   ]
  },
  {
   "cell_type": "code",
   "execution_count": null,
   "metadata": {},
   "outputs": [],
   "source": []
  },
  {
   "cell_type": "code",
   "execution_count": null,
   "metadata": {},
   "outputs": [],
   "source": []
  },
  {
   "cell_type": "code",
   "execution_count": null,
   "metadata": {},
   "outputs": [],
   "source": []
  },
  {
   "cell_type": "code",
   "execution_count": null,
   "metadata": {},
   "outputs": [],
   "source": []
  }
 ],
 "metadata": {
  "interpreter": {
   "hash": "4d9dacf5232f5bbf23e7b3f8d99a419d8afafc63fe2b6c766cc36fbd53e02ce0"
  },
  "kernelspec": {
   "display_name": "Python 3.9.7 ('base')",
   "language": "python",
   "name": "python3"
  },
  "language_info": {
   "codemirror_mode": {
    "name": "ipython",
    "version": 3
   },
   "file_extension": ".py",
   "mimetype": "text/x-python",
   "name": "python",
   "nbconvert_exporter": "python",
   "pygments_lexer": "ipython3",
   "version": "3.9.7"
  },
  "orig_nbformat": 4
 },
 "nbformat": 4,
 "nbformat_minor": 2
}
