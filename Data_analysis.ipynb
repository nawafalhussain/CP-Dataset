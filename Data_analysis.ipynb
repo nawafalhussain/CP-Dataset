{
 "cells": [
  {
   "cell_type": "markdown",
   "metadata": {},
   "source": []
  },
  {
   "cell_type": "markdown",
   "metadata": {},
   "source": [
    "After I finish exploring the data, I would like to make a comparison between some companies and universities"
   ]
  },
  {
   "cell_type": "code",
   "execution_count": 159,
   "metadata": {},
   "outputs": [],
   "source": [
    "# import library \n",
    "import pandas as pd \n",
    "import numpy as np\n",
    "import seaborn as sns\n",
    "import matplotlib.pyplot as plt"
   ]
  },
  {
   "cell_type": "code",
   "execution_count": 160,
   "metadata": {},
   "outputs": [],
   "source": [
    "# ready the data set \n",
    "df=pd.read_csv('data.csv')"
   ]
  },
  {
   "cell_type": "code",
   "execution_count": 161,
   "metadata": {},
   "outputs": [
    {
     "data": {
      "text/plain": [
       "Index(['Unnamed: 0', 'userId', 'company', 'jobTitle', 'company2', 'jobTitle2',\n",
       "       'school', 'schoolDegree', 'schoolDegree2', 'skill1', 'skill2', 'skill3',\n",
       "       'skill4', 'skill5', 'skill6', 'jobLocation2', 'SchoolDegree',\n",
       "       'type_skills'],\n",
       "      dtype='object')"
      ]
     },
     "execution_count": 161,
     "metadata": {},
     "output_type": "execute_result"
    }
   ],
   "source": [
    "#show the columns \n",
    "df.columns"
   ]
  },
  {
   "cell_type": "code",
   "execution_count": 162,
   "metadata": {},
   "outputs": [],
   "source": [
    "# drop \n",
    "df.drop(columns=['Unnamed: 0'],inplace=True)"
   ]
  },
  {
   "cell_type": "markdown",
   "metadata": {},
   "source": [
    "Choosing Saudi Aramco"
   ]
  },
  {
   "cell_type": "code",
   "execution_count": 163,
   "metadata": {},
   "outputs": [],
   "source": [
    "# variable to save only Saudi Aramco employees\n",
    "saudi_aramco = df[df['company']=='saudi aramco'] \n"
   ]
  },
  {
   "cell_type": "code",
   "execution_count": 164,
   "metadata": {},
   "outputs": [
    {
     "name": "stderr",
     "output_type": "stream",
     "text": [
      "/var/folders/q9/r2j6s5gj6vqbgwbptm3ztjsc0000gn/T/ipykernel_1891/2168153571.py:2: SettingWithCopyWarning: \n",
      "A value is trying to be set on a copy of a slice from a DataFrame.\n",
      "Try using .loc[row_indexer,col_indexer] = value instead\n",
      "\n",
      "See the caveats in the documentation: https://pandas.pydata.org/pandas-docs/stable/user_guide/indexing.html#returning-a-view-versus-a-copy\n",
      "  saudi_aramco['school']= saudi_aramco['school'].str.replace('king fahd university of petroleum & minerals - kfupm','king fahd university of petroleum & minerals')\n",
      "/var/folders/q9/r2j6s5gj6vqbgwbptm3ztjsc0000gn/T/ipykernel_1891/2168153571.py:3: SettingWithCopyWarning: \n",
      "A value is trying to be set on a copy of a slice from a DataFrame.\n",
      "Try using .loc[row_indexer,col_indexer] = value instead\n",
      "\n",
      "See the caveats in the documentation: https://pandas.pydata.org/pandas-docs/stable/user_guide/indexing.html#returning-a-view-versus-a-copy\n",
      "  saudi_aramco['school']= saudi_aramco['school'].str.replace('king fahd university of petroleum and minerals','king fahd university of petroleum & minerals')\n"
     ]
    }
   ],
   "source": [
    "# To replace the name of the university\n",
    "saudi_aramco['school']= saudi_aramco['school'].str.replace('king fahd university of petroleum & minerals - kfupm','king fahd university of petroleum & minerals')\n",
    "saudi_aramco['school']= saudi_aramco['school'].str.replace('king fahd university of petroleum and minerals','king fahd university of petroleum & minerals')"
   ]
  },
  {
   "cell_type": "code",
   "execution_count": 165,
   "metadata": {},
   "outputs": [],
   "source": [
    "#top_skills['index'] = top_skills['index'].str.replace('Python','Python (Programming Language)',regex=True)"
   ]
  },
  {
   "cell_type": "markdown",
   "metadata": {},
   "source": [
    "What are the universities that graduate people working in Aramco ?"
   ]
  },
  {
   "cell_type": "code",
   "execution_count": 166,
   "metadata": {},
   "outputs": [
    {
     "data": {
      "text/plain": [
       "king fahd university of petroleum & minerals                  11.904762\n",
       "imam abdulrahman bin faisal university                        11.904762\n",
       "kaust (king abdullah university of science and technology)     4.761905\n",
       "king faisal university                                         4.761905\n",
       "university of colorado boulder                                 4.761905\n",
       "Name: school, dtype: float64"
      ]
     },
     "execution_count": 166,
     "metadata": {},
     "output_type": "execute_result"
    }
   ],
   "source": [
    "#What are the universities that graduate people working in Aramco?\n",
    "saudi_aramco_uni = (saudi_aramco['school'].value_counts(normalize=True)*100).head(6)\n",
    "saudi_aramco_uni = saudi_aramco_uni.drop(labels = ['udacity']) \n",
    "\n",
    "saudi_aramco_uni"
   ]
  },
  {
   "cell_type": "code",
   "execution_count": 167,
   "metadata": {},
   "outputs": [
    {
     "data": {
      "text/html": [
       "<div>\n",
       "<style scoped>\n",
       "    .dataframe tbody tr th:only-of-type {\n",
       "        vertical-align: middle;\n",
       "    }\n",
       "\n",
       "    .dataframe tbody tr th {\n",
       "        vertical-align: top;\n",
       "    }\n",
       "\n",
       "    .dataframe thead th {\n",
       "        text-align: right;\n",
       "    }\n",
       "</style>\n",
       "<table border=\"1\" class=\"dataframe\">\n",
       "  <thead>\n",
       "    <tr style=\"text-align: right;\">\n",
       "      <th></th>\n",
       "      <th>school</th>\n",
       "      <th>index</th>\n",
       "    </tr>\n",
       "  </thead>\n",
       "  <tbody>\n",
       "    <tr>\n",
       "      <th>king fahd university of petroleum &amp; minerals</th>\n",
       "      <td>11.904762</td>\n",
       "      <td>king fahd university of petroleum &amp; minerals</td>\n",
       "    </tr>\n",
       "    <tr>\n",
       "      <th>imam abdulrahman bin faisal university</th>\n",
       "      <td>11.904762</td>\n",
       "      <td>imam abdulrahman bin faisal university</td>\n",
       "    </tr>\n",
       "    <tr>\n",
       "      <th>kaust (king abdullah university of science and technology)</th>\n",
       "      <td>4.761905</td>\n",
       "      <td>kaust (king abdullah university of science and...</td>\n",
       "    </tr>\n",
       "    <tr>\n",
       "      <th>king faisal university</th>\n",
       "      <td>4.761905</td>\n",
       "      <td>king faisal university</td>\n",
       "    </tr>\n",
       "    <tr>\n",
       "      <th>university of colorado boulder</th>\n",
       "      <td>4.761905</td>\n",
       "      <td>university of colorado boulder</td>\n",
       "    </tr>\n",
       "  </tbody>\n",
       "</table>\n",
       "</div>"
      ],
      "text/plain": [
       "                                                       school  \\\n",
       "king fahd university of petroleum & minerals        11.904762   \n",
       "imam abdulrahman bin faisal university              11.904762   \n",
       "kaust (king abdullah university of science and ...   4.761905   \n",
       "king faisal university                               4.761905   \n",
       "university of colorado boulder                       4.761905   \n",
       "\n",
       "                                                                                                index  \n",
       "king fahd university of petroleum & minerals             king fahd university of petroleum & minerals  \n",
       "imam abdulrahman bin faisal university                         imam abdulrahman bin faisal university  \n",
       "kaust (king abdullah university of science and ...  kaust (king abdullah university of science and...  \n",
       "king faisal university                                                         king faisal university  \n",
       "university of colorado boulder                                         university of colorado boulder  "
      ]
     },
     "execution_count": 167,
     "metadata": {},
     "output_type": "execute_result"
    }
   ],
   "source": [
    "# Save the output in the data frame and add a variable in which the index is saved\n",
    "saudi_aramco_uni = saudi_aramco_uni.to_frame()\n",
    "saudi_aramco_uni['index'] = saudi_aramco_uni.index\n",
    "saudi_aramco_uni"
   ]
  },
  {
   "cell_type": "code",
   "execution_count": 168,
   "metadata": {},
   "outputs": [
    {
     "data": {
      "image/png": "[encoded data removed]",
      "text/plain": [
       "<Figure size 720x360 with 1 Axes>"
      ]
     },
     "metadata": {},
     "output_type": "display_data"
    }
   ],
   "source": [
    "# plot1 real \n",
    "\n",
    "fig, ax= plt.subplots(figsize =(10,5))\n",
    "#ns.set_style('whitegrid')\n",
    "sns.set_context('notebook')\n",
    "sns.set(font_scale=1)\n",
    "plt.fontsize =(16)\n",
    "\n",
    "ax=sns.barplot(palette=\"Blues_r\",ax=ax,\n",
    "\n",
    "            x=saudi_aramco_uni['school'],y=saudi_aramco_uni['index'])\n",
    "total=len(saudi_aramco_uni['index'])\n",
    "for p in ax.patches:\n",
    "    percentage ='{:,.0f}%'.format(p.get_width())\n",
    "    width, height =p.get_width(),p.get_height()\n",
    "    x=p.get_x()+width+0.02\n",
    "    y=p.get_y()+height/2\n",
    "    ax.annotate(percentage,(x,y))\n",
    "\n",
    "plt.xticks(rotation =0,fontsize =10)\n",
    "plt.yticks(rotation =0,fontsize =13)\n",
    "\n",
    "plt.title('The 5 most universities graduate people working in Saudi Aramco',\n",
    "         fontsize =16\n",
    "         )\n",
    "plt.xlabel ('',fontsize =16)\n",
    "plt.ylabel ('Universities names',fontsize =16)\n",
    "\n",
    "plt.show ()"
   ]
  },
  {
   "cell_type": "code",
   "execution_count": 169,
   "metadata": {},
   "outputs": [
    {
     "data": {
      "text/plain": [
       "Computer Science                  28.571429\n",
       "Information Systems               11.904762\n",
       "Computer Engineering               9.523810\n",
       "Management Information Systems     7.142857\n",
       "Information Technology             7.142857\n",
       "Software Engineeringe              4.761905\n",
       "Name: SchoolDegree, dtype: float64"
      ]
     },
     "execution_count": 169,
     "metadata": {},
     "output_type": "execute_result"
    }
   ],
   "source": [
    "# Departments of employees of Aramco\n",
    "#Determine the frequency of departments\n",
    "saudi_aramco_degree = saudi_aramco['SchoolDegree'].value_counts(normalize=True)*100\n",
    "saudi_aramco_degree = saudi_aramco_degree.drop(labels = ['Unkown']) \n",
    "saudi_aramco_degree"
   ]
  },
  {
   "cell_type": "code",
   "execution_count": 170,
   "metadata": {},
   "outputs": [
    {
     "data": {
      "text/html": [
       "<div>\n",
       "<style scoped>\n",
       "    .dataframe tbody tr th:only-of-type {\n",
       "        vertical-align: middle;\n",
       "    }\n",
       "\n",
       "    .dataframe tbody tr th {\n",
       "        vertical-align: top;\n",
       "    }\n",
       "\n",
       "    .dataframe thead th {\n",
       "        text-align: right;\n",
       "    }\n",
       "</style>\n",
       "<table border=\"1\" class=\"dataframe\">\n",
       "  <thead>\n",
       "    <tr style=\"text-align: right;\">\n",
       "      <th></th>\n",
       "      <th>SchoolDegree</th>\n",
       "      <th>index</th>\n",
       "    </tr>\n",
       "  </thead>\n",
       "  <tbody>\n",
       "    <tr>\n",
       "      <th>Computer Science</th>\n",
       "      <td>28.571429</td>\n",
       "      <td>Computer Science</td>\n",
       "    </tr>\n",
       "    <tr>\n",
       "      <th>Information Systems</th>\n",
       "      <td>11.904762</td>\n",
       "      <td>Information Systems</td>\n",
       "    </tr>\n",
       "    <tr>\n",
       "      <th>Computer Engineering</th>\n",
       "      <td>9.523810</td>\n",
       "      <td>Computer Engineering</td>\n",
       "    </tr>\n",
       "    <tr>\n",
       "      <th>Management Information Systems</th>\n",
       "      <td>7.142857</td>\n",
       "      <td>Management Information Systems</td>\n",
       "    </tr>\n",
       "    <tr>\n",
       "      <th>Information Technology</th>\n",
       "      <td>7.142857</td>\n",
       "      <td>Information Technology</td>\n",
       "    </tr>\n",
       "    <tr>\n",
       "      <th>Software Engineeringe</th>\n",
       "      <td>4.761905</td>\n",
       "      <td>Software Engineeringe</td>\n",
       "    </tr>\n",
       "  </tbody>\n",
       "</table>\n",
       "</div>"
      ],
      "text/plain": [
       "                                SchoolDegree                           index\n",
       "Computer Science                   28.571429                Computer Science\n",
       "Information Systems                11.904762             Information Systems\n",
       "Computer Engineering                9.523810            Computer Engineering\n",
       "Management Information Systems      7.142857  Management Information Systems\n",
       "Information Technology              7.142857          Information Technology\n",
       "Software Engineeringe               4.761905           Software Engineeringe"
      ]
     },
     "execution_count": 170,
     "metadata": {},
     "output_type": "execute_result"
    }
   ],
   "source": [
    "# change the type saudi_aramco_degree ro data frame \n",
    "saudi_aramco_degree = saudi_aramco_degree.to_frame()\n",
    "saudi_aramco_degree['index'] = saudi_aramco_degree.index\n",
    "saudi_aramco_degree\n"
   ]
  },
  {
   "cell_type": "code",
   "execution_count": 171,
   "metadata": {},
   "outputs": [
    {
     "data": {
      "image/png": "[encoded data removed]",
      "text/plain": [
       "<Figure size 720x360 with 1 Axes>"
      ]
     },
     "metadata": {},
     "output_type": "display_data"
    }
   ],
   "source": [
    "# plot1 real \n",
    "\n",
    "fig, ax= plt.subplots(figsize =(10,5))\n",
    "#ns.set_style('whitegrid')\n",
    "sns.set_context('notebook')\n",
    "sns.set(font_scale=1)\n",
    "plt.fontsize =(16)\n",
    "# Determine the columns\n",
    "ax=sns.barplot(palette=\"Blues_r\",ax=ax,\n",
    "\n",
    "            x=saudi_aramco_degree['SchoolDegree'],y=saudi_aramco_degree['index'])\n",
    "total=len(saudi_aramco_degree['index'])\n",
    "for p in ax.patches:\n",
    "    percentage ='{:,.0f}%'.format(p.get_width())\n",
    "    width, height =p.get_width(),p.get_height()\n",
    "    x=p.get_x()+width+0.02\n",
    "    y=p.get_y()+height/2\n",
    "    ax.annotate(percentage,(x,y))\n",
    "\n",
    "plt.xticks(rotation =0,fontsize =10)\n",
    "plt.yticks(rotation =0,fontsize =13)\n",
    "#title\n",
    "plt.title('Departments of employees of Saudi Aramco',\n",
    "         fontsize =16\n",
    "         )\n",
    "plt.xlabel ('',fontsize =16)\n",
    "plt.ylabel ('Departments',fontsize =16)\n",
    "\n",
    "plt.show ()"
   ]
  },
  {
   "cell_type": "code",
   "execution_count": 172,
   "metadata": {},
   "outputs": [],
   "source": [
    "# Concatenate all the skills of Aramco employees\n",
    "skills= pd.concat(([saudi_aramco[\"skill1\"],saudi_aramco[\"skill2\"],saudi_aramco[\"skill3\"],saudi_aramco[\"skill4\"],saudi_aramco[\"skill5\"],saudi_aramco[\"skill6\"]]),ignore_index=True, sort=False)\n"
   ]
  },
  {
   "cell_type": "code",
   "execution_count": 173,
   "metadata": {},
   "outputs": [
    {
     "data": {
      "text/plain": [
       "0          Machine Learning\n",
       "1      Software Engineering\n",
       "2          Microsoft Office\n",
       "3                  Teamwork\n",
       "4             Data Analysis\n",
       "               ...         \n",
       "247                     NaN\n",
       "248         Problem Solving\n",
       "249                     NaN\n",
       "250      Data Visualization\n",
       "251                     NaN\n",
       "Length: 252, dtype: object"
      ]
     },
     "execution_count": 173,
     "metadata": {},
     "output_type": "execute_result"
    }
   ],
   "source": [
    "skills"
   ]
  },
  {
   "cell_type": "code",
   "execution_count": null,
   "metadata": {},
   "outputs": [],
   "source": []
  },
  {
   "cell_type": "code",
   "execution_count": 174,
   "metadata": {},
   "outputs": [
    {
     "data": {
      "text/plain": [
       "pandas.core.series.Series"
      ]
     },
     "execution_count": 174,
     "metadata": {},
     "output_type": "execute_result"
    }
   ],
   "source": [
    "type(skills)"
   ]
  },
  {
   "cell_type": "code",
   "execution_count": 175,
   "metadata": {},
   "outputs": [],
   "source": [
    "# Convert a variable's type to a data frame\n",
    "skills = skills.to_frame() "
   ]
  },
  {
   "cell_type": "code",
   "execution_count": null,
   "metadata": {},
   "outputs": [],
   "source": []
  },
  {
   "cell_type": "code",
   "execution_count": 176,
   "metadata": {},
   "outputs": [],
   "source": [
    "#Create a variable to save all skills\n",
    "skills['s']= pd.concat(([saudi_aramco[\"skill1\"],saudi_aramco[\"skill2\"],saudi_aramco[\"skill3\"],saudi_aramco[\"skill4\"],saudi_aramco[\"skill5\"],saudi_aramco[\"skill6\"]]),ignore_index=True, sort=False)\n",
    "#skills= skills['s'].str.replace('Python','Python (Programming Language)')\n"
   ]
  },
  {
   "cell_type": "code",
   "execution_count": 177,
   "metadata": {},
   "outputs": [],
   "source": [
    "# A function that returns the type of a skill. Is it a programming language or a soft skill?\n",
    "def find_skills(s):\n",
    "    if( s.find('SQL') != -1 or s.find('Java') != -1  or s.find('R ') != -1 or s.find('C++') != -1 or s.find('Python') != -1 or \n",
    "        s.find('MySQL') != -1 or s.find('C#') != -1 or s.find('PHP') != -1 or  s.find('R (Programming Language)') != -1 \n",
    "         or s.find('PL/SQL') != -1 or s.find('ASP.NET') != -1 or s.find('React.js') != -1 or s.find('java') != -1 or\n",
    "         s.find('Flutter') != -1 or s.find('.NET') != -1 or s.find('.NET') != -1 or s.find('R Programing') != -1 or s.find('JavaScript') != -1):  \n",
    "        return 'programming languages'\n",
    "    # elif( s.find('Microsoft Office') != -1 or s.find('Tableau') != -1  or s.find('Microsoft SQL Server') != -1 or s.find('Microsoft Excel') != -1 or s.find('Matlab') != -1 \n",
    "      #  or s.find('Kubernetes') != -1 or s.find('SAS') != -1 or s.find('Amazon S3') != -1 or s.find('Linux') != -1 or  s.find('Databases') != -1 \n",
    "      #   or s.find('User Experience (UX)') != -1 or s.find('SDLC') != -1 or s.find('Machine Learning') != -1 or s.find('Data Visualization') != -1 or\n",
    "      #   s.find('Data Science') != -1 or s.find('Data Analysis') != -1 or s.find('Data Mining') != -1 or s.find('Business Intelligence') != -1 \n",
    "      #   or s.find('Research') != -1 or s.find('Enterprise Project Management (EPM)') != -1 or s.find('ERP)') != -1 or s.find('Artificial intelligence (AI)') != -1\n",
    "      #   or s.find('Cloud Computing') != -1 or s.find('Deep Learning') != -1 or s.find('Cybersecurity') != -1 or s.find('Statistics') != -1 or s.find(' Web Scraping') != -1\n",
    "      #   or s.find('Information Security') != -1 or s.find('Internet of Things') != -1 or s.find('Geophysics') != -1 or s.find('AWS IoT') != -1 or s.find('SPSS') != -1\n",
    "      #   or s.find('Web Development') != -1 or s.find('Big Data Analytics') != -1 or s.find('Computer Vision') != -1 or s.find('NLP') != -1 or s.find('Power pi') != -1\n",
    "      #   or s.find('Microsoft Power BI') != -1 or s.find('ETL') != -1 ): \n",
    "      #  return 'technical concepts' \n",
    "    \n",
    "    \n",
    "    elif( s.find('Communication skills') != -1 or s.find('Management') != -1  or s.find('Public Speaking') != -1 or s.find('Teamwork') != -1 or s.find('Problem Solving') != -1 \n",
    "        or s.find('Time management') != -1 or s.find('Problem Solving') != -1 or s.find('Leadership') != -1 or s.find('Team Leadership') != -1 or  s.find('statistical reports') != -1 \n",
    "         or s.find('Research') != -1 or s.find('Project Management') != -1 or s.find('Self Learning') != -1 or s.find('Critical Thinking') != -1 ): \n",
    "        return 'Soft skills'\n",
    "    \n",
    "    else:\n",
    "        return 'Unkown'"
   ]
  },
  {
   "cell_type": "code",
   "execution_count": 178,
   "metadata": {},
   "outputs": [
    {
     "data": {
      "text/html": [
       "<div>\n",
       "<style scoped>\n",
       "    .dataframe tbody tr th:only-of-type {\n",
       "        vertical-align: middle;\n",
       "    }\n",
       "\n",
       "    .dataframe tbody tr th {\n",
       "        vertical-align: top;\n",
       "    }\n",
       "\n",
       "    .dataframe thead th {\n",
       "        text-align: right;\n",
       "    }\n",
       "</style>\n",
       "<table border=\"1\" class=\"dataframe\">\n",
       "  <thead>\n",
       "    <tr style=\"text-align: right;\">\n",
       "      <th></th>\n",
       "      <th>0</th>\n",
       "      <th>s</th>\n",
       "    </tr>\n",
       "  </thead>\n",
       "  <tbody>\n",
       "    <tr>\n",
       "      <th>0</th>\n",
       "      <td>Machine Learning</td>\n",
       "      <td>Machine Learning</td>\n",
       "    </tr>\n",
       "    <tr>\n",
       "      <th>1</th>\n",
       "      <td>Software Engineering</td>\n",
       "      <td>Software Engineering</td>\n",
       "    </tr>\n",
       "    <tr>\n",
       "      <th>2</th>\n",
       "      <td>Microsoft Office</td>\n",
       "      <td>Microsoft Office</td>\n",
       "    </tr>\n",
       "    <tr>\n",
       "      <th>3</th>\n",
       "      <td>Teamwork</td>\n",
       "      <td>Teamwork</td>\n",
       "    </tr>\n",
       "    <tr>\n",
       "      <th>4</th>\n",
       "      <td>Data Analysis</td>\n",
       "      <td>Data Analysis</td>\n",
       "    </tr>\n",
       "  </tbody>\n",
       "</table>\n",
       "</div>"
      ],
      "text/plain": [
       "                      0                     s\n",
       "0      Machine Learning      Machine Learning\n",
       "1  Software Engineering  Software Engineering\n",
       "2      Microsoft Office      Microsoft Office\n",
       "3              Teamwork              Teamwork\n",
       "4         Data Analysis         Data Analysis"
      ]
     },
     "execution_count": 178,
     "metadata": {},
     "output_type": "execute_result"
    }
   ],
   "source": [
    "skills.head()\n"
   ]
  },
  {
   "cell_type": "code",
   "execution_count": 179,
   "metadata": {},
   "outputs": [],
   "source": [
    "# change the type of varible \n",
    "skills['s']= skills['s'].astype(str)\n"
   ]
  },
  {
   "cell_type": "code",
   "execution_count": 180,
   "metadata": {},
   "outputs": [],
   "source": [
    "# apply the function \n",
    "skills['Type'] = skills['s'].apply(find_skills) "
   ]
  },
  {
   "cell_type": "code",
   "execution_count": 181,
   "metadata": {},
   "outputs": [
    {
     "data": {
      "text/html": [
       "<div>\n",
       "<style scoped>\n",
       "    .dataframe tbody tr th:only-of-type {\n",
       "        vertical-align: middle;\n",
       "    }\n",
       "\n",
       "    .dataframe tbody tr th {\n",
       "        vertical-align: top;\n",
       "    }\n",
       "\n",
       "    .dataframe thead th {\n",
       "        text-align: right;\n",
       "    }\n",
       "</style>\n",
       "<table border=\"1\" class=\"dataframe\">\n",
       "  <thead>\n",
       "    <tr style=\"text-align: right;\">\n",
       "      <th></th>\n",
       "      <th>0</th>\n",
       "      <th>s</th>\n",
       "      <th>Type</th>\n",
       "    </tr>\n",
       "  </thead>\n",
       "  <tbody>\n",
       "    <tr>\n",
       "      <th>13</th>\n",
       "      <td>Python (Programming Language)</td>\n",
       "      <td>Python (Programming Language)</td>\n",
       "      <td>programming languages</td>\n",
       "    </tr>\n",
       "    <tr>\n",
       "      <th>16</th>\n",
       "      <td>Python</td>\n",
       "      <td>Python</td>\n",
       "      <td>programming languages</td>\n",
       "    </tr>\n",
       "    <tr>\n",
       "      <th>22</th>\n",
       "      <td>Python</td>\n",
       "      <td>Python</td>\n",
       "      <td>programming languages</td>\n",
       "    </tr>\n",
       "    <tr>\n",
       "      <th>27</th>\n",
       "      <td>Python</td>\n",
       "      <td>Python</td>\n",
       "      <td>programming languages</td>\n",
       "    </tr>\n",
       "    <tr>\n",
       "      <th>42</th>\n",
       "      <td>C++</td>\n",
       "      <td>C++</td>\n",
       "      <td>programming languages</td>\n",
       "    </tr>\n",
       "    <tr>\n",
       "      <th>55</th>\n",
       "      <td>C++</td>\n",
       "      <td>C++</td>\n",
       "      <td>programming languages</td>\n",
       "    </tr>\n",
       "    <tr>\n",
       "      <th>70</th>\n",
       "      <td>Python (Programming Language)</td>\n",
       "      <td>Python (Programming Language)</td>\n",
       "      <td>programming languages</td>\n",
       "    </tr>\n",
       "    <tr>\n",
       "      <th>97</th>\n",
       "      <td>SQL</td>\n",
       "      <td>SQL</td>\n",
       "      <td>programming languages</td>\n",
       "    </tr>\n",
       "    <tr>\n",
       "      <th>106</th>\n",
       "      <td>Java</td>\n",
       "      <td>Java</td>\n",
       "      <td>programming languages</td>\n",
       "    </tr>\n",
       "    <tr>\n",
       "      <th>110</th>\n",
       "      <td>Java</td>\n",
       "      <td>Java</td>\n",
       "      <td>programming languages</td>\n",
       "    </tr>\n",
       "  </tbody>\n",
       "</table>\n",
       "</div>"
      ],
      "text/plain": [
       "                                 0                              s  \\\n",
       "13   Python (Programming Language)  Python (Programming Language)   \n",
       "16                          Python                         Python   \n",
       "22                          Python                         Python   \n",
       "27                          Python                         Python   \n",
       "42                             C++                            C++   \n",
       "55                             C++                            C++   \n",
       "70   Python (Programming Language)  Python (Programming Language)   \n",
       "97                             SQL                            SQL   \n",
       "106                           Java                           Java   \n",
       "110                           Java                           Java   \n",
       "\n",
       "                      Type  \n",
       "13   programming languages  \n",
       "16   programming languages  \n",
       "22   programming languages  \n",
       "27   programming languages  \n",
       "42   programming languages  \n",
       "55   programming languages  \n",
       "70   programming languages  \n",
       "97   programming languages  \n",
       "106  programming languages  \n",
       "110  programming languages  "
      ]
     },
     "execution_count": 181,
     "metadata": {},
     "output_type": "execute_result"
    }
   ],
   "source": [
    "# Select only programming languages\n",
    "programming_languages = skills[skills['Type']=='programming languages'] \n",
    "\n",
    "programming_languages.head(10) "
   ]
  },
  {
   "cell_type": "code",
   "execution_count": 182,
   "metadata": {},
   "outputs": [],
   "source": [
    "# Select only the most frequent languages\n",
    "#top_skills = (programming_languages['s'].value_counts(normalize=True)*100).head(10)\n"
   ]
  },
  {
   "cell_type": "code",
   "execution_count": null,
   "metadata": {},
   "outputs": [],
   "source": []
  },
  {
   "cell_type": "code",
   "execution_count": 183,
   "metadata": {},
   "outputs": [
    {
     "data": {
      "text/html": [
       "<div>\n",
       "<style scoped>\n",
       "    .dataframe tbody tr th:only-of-type {\n",
       "        vertical-align: middle;\n",
       "    }\n",
       "\n",
       "    .dataframe tbody tr th {\n",
       "        vertical-align: top;\n",
       "    }\n",
       "\n",
       "    .dataframe thead th {\n",
       "        text-align: right;\n",
       "    }\n",
       "</style>\n",
       "<table border=\"1\" class=\"dataframe\">\n",
       "  <thead>\n",
       "    <tr style=\"text-align: right;\">\n",
       "      <th></th>\n",
       "      <th>s</th>\n",
       "      <th>index</th>\n",
       "    </tr>\n",
       "  </thead>\n",
       "  <tbody>\n",
       "    <tr>\n",
       "      <th>Python</th>\n",
       "      <td>23.809524</td>\n",
       "      <td>Python</td>\n",
       "    </tr>\n",
       "    <tr>\n",
       "      <th>Java</th>\n",
       "      <td>23.809524</td>\n",
       "      <td>Java</td>\n",
       "    </tr>\n",
       "    <tr>\n",
       "      <th>Python (Programming Language)</th>\n",
       "      <td>19.047619</td>\n",
       "      <td>Python (Programming Language)</td>\n",
       "    </tr>\n",
       "    <tr>\n",
       "      <th>C++</th>\n",
       "      <td>14.285714</td>\n",
       "      <td>C++</td>\n",
       "    </tr>\n",
       "    <tr>\n",
       "      <th>SQL</th>\n",
       "      <td>9.523810</td>\n",
       "      <td>SQL</td>\n",
       "    </tr>\n",
       "    <tr>\n",
       "      <th>PHP</th>\n",
       "      <td>4.761905</td>\n",
       "      <td>PHP</td>\n",
       "    </tr>\n",
       "    <tr>\n",
       "      <th>MySQL</th>\n",
       "      <td>4.761905</td>\n",
       "      <td>MySQL</td>\n",
       "    </tr>\n",
       "  </tbody>\n",
       "</table>\n",
       "</div>"
      ],
      "text/plain": [
       "                                       s                          index\n",
       "Python                         23.809524                         Python\n",
       "Java                           23.809524                           Java\n",
       "Python (Programming Language)  19.047619  Python (Programming Language)\n",
       "C++                            14.285714                            C++\n",
       "SQL                             9.523810                            SQL\n",
       "PHP                             4.761905                            PHP\n",
       "MySQL                           4.761905                          MySQL"
      ]
     },
     "execution_count": 183,
     "metadata": {},
     "output_type": "execute_result"
    }
   ],
   "source": [
    "top_skills = (programming_languages['s'].value_counts(normalize=True)*100).head(10)\n",
    "top_skills = top_skills.to_frame()\n",
    "top_skills['index']=top_skills.index\n",
    "\n",
    "top_skills"
   ]
  },
  {
   "cell_type": "code",
   "execution_count": 184,
   "metadata": {},
   "outputs": [
    {
     "data": {
      "image/png": "[encoded data removed]",
      "text/plain": [
       "<Figure size 864x360 with 1 Axes>"
      ]
     },
     "metadata": {},
     "output_type": "display_data"
    }
   ],
   "source": [
    "# plot1 real \n",
    "\n",
    "fig, ax= plt.subplots(figsize =(12,5))\n",
    "#ns.set_style('whitegrid')\n",
    "sns.set_context('notebook')\n",
    "sns.set(font_scale=1)\n",
    "plt.fontsize =(16)\n",
    "# choose the varible and color\n",
    "ax=sns.barplot(palette=\"Blues_r\",ax=ax,\n",
    "\n",
    "            x=top_skills['s'],y=top_skills['index'])\n",
    "total=len(top_skills['index'])\n",
    "# To create proportions on the graph\n",
    "for p in ax.patches:\n",
    "    percentage ='{:,.0f}%'.format(p.get_width())\n",
    "    width, height =p.get_width(),p.get_height()\n",
    "    x=p.get_x()+width+0.02\n",
    "    y=p.get_y()+height/2\n",
    "    ax.annotate(percentage,(x,y))\n",
    "# Rotation ratio and font size in axes\n",
    "plt.xticks(rotation =0,fontsize =10)\n",
    "plt.yticks(rotation =0,fontsize =13)\n",
    "# titile \n",
    "plt.title('The most frequently  programming languages for Saudi Aramco employees',\n",
    "         fontsize =16\n",
    "         )\n",
    "plt.xlabel ('',fontsize =16)\n",
    "plt.ylabel ('programming languages',fontsize =16)\n",
    "\n",
    "plt.show ()"
   ]
  },
  {
   "cell_type": "code",
   "execution_count": 185,
   "metadata": {},
   "outputs": [
    {
     "data": {
      "text/html": [
       "<div>\n",
       "<style scoped>\n",
       "    .dataframe tbody tr th:only-of-type {\n",
       "        vertical-align: middle;\n",
       "    }\n",
       "\n",
       "    .dataframe tbody tr th {\n",
       "        vertical-align: top;\n",
       "    }\n",
       "\n",
       "    .dataframe thead th {\n",
       "        text-align: right;\n",
       "    }\n",
       "</style>\n",
       "<table border=\"1\" class=\"dataframe\">\n",
       "  <thead>\n",
       "    <tr style=\"text-align: right;\">\n",
       "      <th></th>\n",
       "      <th>0</th>\n",
       "      <th>s</th>\n",
       "      <th>Type</th>\n",
       "    </tr>\n",
       "  </thead>\n",
       "  <tbody>\n",
       "    <tr>\n",
       "      <th>3</th>\n",
       "      <td>Teamwork</td>\n",
       "      <td>Teamwork</td>\n",
       "      <td>Soft skills</td>\n",
       "    </tr>\n",
       "    <tr>\n",
       "      <th>19</th>\n",
       "      <td>Public Speaking</td>\n",
       "      <td>Public Speaking</td>\n",
       "      <td>Soft skills</td>\n",
       "    </tr>\n",
       "    <tr>\n",
       "      <th>20</th>\n",
       "      <td>Reservoir Management</td>\n",
       "      <td>Reservoir Management</td>\n",
       "      <td>Soft skills</td>\n",
       "    </tr>\n",
       "    <tr>\n",
       "      <th>23</th>\n",
       "      <td>Self Learning</td>\n",
       "      <td>Self Learning</td>\n",
       "      <td>Soft skills</td>\n",
       "    </tr>\n",
       "    <tr>\n",
       "      <th>24</th>\n",
       "      <td>Public Speaking</td>\n",
       "      <td>Public Speaking</td>\n",
       "      <td>Soft skills</td>\n",
       "    </tr>\n",
       "    <tr>\n",
       "      <th>38</th>\n",
       "      <td>Leadership</td>\n",
       "      <td>Leadership</td>\n",
       "      <td>Soft skills</td>\n",
       "    </tr>\n",
       "    <tr>\n",
       "      <th>44</th>\n",
       "      <td>Research</td>\n",
       "      <td>Research</td>\n",
       "      <td>Soft skills</td>\n",
       "    </tr>\n",
       "    <tr>\n",
       "      <th>53</th>\n",
       "      <td>Self Learning</td>\n",
       "      <td>Self Learning</td>\n",
       "      <td>Soft skills</td>\n",
       "    </tr>\n",
       "    <tr>\n",
       "      <th>65</th>\n",
       "      <td>Problem Solving</td>\n",
       "      <td>Problem Solving</td>\n",
       "      <td>Soft skills</td>\n",
       "    </tr>\n",
       "    <tr>\n",
       "      <th>73</th>\n",
       "      <td>Data Management</td>\n",
       "      <td>Data Management</td>\n",
       "      <td>Soft skills</td>\n",
       "    </tr>\n",
       "  </tbody>\n",
       "</table>\n",
       "</div>"
      ],
      "text/plain": [
       "                       0                     s         Type\n",
       "3               Teamwork              Teamwork  Soft skills\n",
       "19       Public Speaking       Public Speaking  Soft skills\n",
       "20  Reservoir Management  Reservoir Management  Soft skills\n",
       "23         Self Learning         Self Learning  Soft skills\n",
       "24       Public Speaking       Public Speaking  Soft skills\n",
       "38            Leadership            Leadership  Soft skills\n",
       "44              Research              Research  Soft skills\n",
       "53         Self Learning         Self Learning  Soft skills\n",
       "65       Problem Solving       Problem Solving  Soft skills\n",
       "73       Data Management       Data Management  Soft skills"
      ]
     },
     "execution_count": 185,
     "metadata": {},
     "output_type": "execute_result"
    }
   ],
   "source": [
    "# # Select only soft skills \n",
    "Soft_skills = skills[skills['Type']=='Soft skills'] \n",
    "Soft_skills.head(10) "
   ]
  },
  {
   "cell_type": "code",
   "execution_count": 186,
   "metadata": {},
   "outputs": [],
   "source": [
    "# # Save 10 recurrent skills\n",
    "top_skills = (Soft_skills['s'].value_counts(normalize=True)*100).head(10)"
   ]
  },
  {
   "cell_type": "code",
   "execution_count": 187,
   "metadata": {},
   "outputs": [],
   "source": [
    "# Create a variable to save the index\n",
    "top_skills = top_skills.to_frame()\n",
    "top_skills['index']=top_skills.index"
   ]
  },
  {
   "cell_type": "code",
   "execution_count": 188,
   "metadata": {},
   "outputs": [
    {
     "data": {
      "image/png": "[encoded data removed]",
      "text/plain": [
       "<Figure size 864x360 with 1 Axes>"
      ]
     },
     "metadata": {},
     "output_type": "display_data"
    }
   ],
   "source": [
    "# plot1 real \n",
    "\n",
    "fig, ax= plt.subplots(figsize =(12,5))\n",
    "#ns.set_style('whitegrid')\n",
    "sns.set_context('notebook')\n",
    "sns.set(font_scale=1)\n",
    "plt.fontsize =(16)\n",
    "\n",
    "ax=sns.barplot(palette=\"Blues_r\",ax=ax,\n",
    "\n",
    "            x=top_skills['s'],y=top_skills['index'])\n",
    "total=len(top_skills['index'])\n",
    "for p in ax.patches:\n",
    "    percentage ='{:,.0f}%'.format(p.get_width())\n",
    "    width, height =p.get_width(),p.get_height()\n",
    "    x=p.get_x()+width+0.02\n",
    "    y=p.get_y()+height/2\n",
    "    ax.annotate(percentage,(x,y))\n",
    "\n",
    "plt.xticks(rotation =0,fontsize =10)\n",
    "plt.yticks(rotation =0,fontsize =13)\n",
    "\n",
    "plt.title('The most frequently soft skills for Saudi Aramco employees',\n",
    "         fontsize =16\n",
    "         )\n",
    "plt.xlabel ('',fontsize =16)\n",
    "plt.ylabel ('Soft Skills',fontsize =16)\n",
    "\n",
    "plt.show ()"
   ]
  },
  {
   "cell_type": "code",
   "execution_count": 189,
   "metadata": {},
   "outputs": [
    {
     "name": "stderr",
     "output_type": "stream",
     "text": [
      "/var/folders/q9/r2j6s5gj6vqbgwbptm3ztjsc0000gn/T/ipykernel_1891/1433988851.py:26: SettingWithCopyWarning: \n",
      "A value is trying to be set on a copy of a slice from a DataFrame.\n",
      "Try using .loc[row_indexer,col_indexer] = value instead\n",
      "\n",
      "See the caveats in the documentation: https://pandas.pydata.org/pandas-docs/stable/user_guide/indexing.html#returning-a-view-versus-a-copy\n",
      "  saudi_aramco.loc[:,'SchoolDegree'] = np.vectorize(schoolDegree, otypes=[\"O\"]) (saudi_aramco['schoolDegree'], saudi_aramco['schoolDegree2'])\n"
     ]
    }
   ],
   "source": [
    "# A function that returns degrees\n",
    "def schoolDegree(schoolDegree,schoolDegree2):\n",
    "    schoolDegree =  str(schoolDegree)\n",
    "    schoolDegree2 =  str(schoolDegree2)\n",
    "    #schoolDegree2 =  str(schoolDegree2)\n",
    "    rent = \"Unkown\" \n",
    "    if( schoolDegree.find('Doctor') != -1 or schoolDegree.find('Phd') != -1 or schoolDegree.find('Phd') != -1 or schoolDegree.find('PhD') != -1 or schoolDegree.find('Ph.D.') != -1 \n",
    "    or schoolDegree.find('Ph.D') != -1 or schoolDegree2.find('Ph.D') != -1 or schoolDegree2.find('Doctor') != -1 or schoolDegree2.find('Phd') != -1 or schoolDegree2.find('Phd') != -1\n",
    "     or schoolDegree2.find('PhD') != -1): \n",
    "     rent = 'Phd'\n",
    "    elif( schoolDegree.find('Master') != -1 or schoolDegree2.find('Master') != -1):\n",
    "        rent = 'Master' \n",
    "    elif( schoolDegree.find('Bachelor') != -1 or schoolDegree.find('البكالوريوس') != -1 or schoolDegree.find('B.S.')!= -1 or schoolDegree.find('B.E')!= -1 or schoolDegree.find('BCS') != -1 or \n",
    "          schoolDegree.find('BS') != -1 or schoolDegree.find(\"Engineer's\") != -1 or schoolDegree.find('B.Tech') != -1 or schoolDegree.find(' BSc') != -1 or schoolDegree.find('BCA')!= -1 or \n",
    "           schoolDegree.find('بكالوريوس') != -1 or  schoolDegree.find('Bechelor')!= -1 or schoolDegree.find('Software Engineering')!= -1 or \n",
    "           schoolDegree2.find('Bachelor') != -1 or schoolDegree2.find('البكالوريوس') != -1 or schoolDegree2.find('B.S.') != -1 or schoolDegree2.find('B.E') != -1 or schoolDegree2.find('BCS')!= -1 or \n",
    "          schoolDegree2.find('BS') != -1 or schoolDegree2.find(\"Engineer's\") != -1 or schoolDegree2.find('B.Tech') != -1 or schoolDegree2.find(' BSc') != -1 or schoolDegree2.find('BCA')!= -1 or \n",
    "           schoolDegree2.find('بكالوريوس')!= -1 or  schoolDegree2.find('Bechelor')!= -1 or schoolDegree2.find('Software Engineering')!= -1 or schoolDegree.find('Bachelo')!= -1 or \n",
    "            schoolDegree.find('bachelor')!= -1 or schoolDegree.find('Bachlor')!= -1):\n",
    "        rent = 'Bachelor'\n",
    "    else:\n",
    "        rent = 'Unkown'\n",
    "    return rent\n",
    "\n",
    "\n",
    "saudi_aramco.loc[:,'SchoolDegree'] = np.vectorize(schoolDegree, otypes=[\"O\"]) (saudi_aramco['schoolDegree'], saudi_aramco['schoolDegree2'])"
   ]
  },
  {
   "cell_type": "code",
   "execution_count": 190,
   "metadata": {},
   "outputs": [
    {
     "data": {
      "text/plain": [
       "Bachelor    42.857143\n",
       "Master      35.714286\n",
       "Phd         14.285714\n",
       "Name: SchoolDegree, dtype: float64"
      ]
     },
     "execution_count": 190,
     "metadata": {},
     "output_type": "execute_result"
    }
   ],
   "source": [
    "# Returning academic degrees to Saudi Aramco employees\n",
    "Academicـdegrees = saudi_aramco['SchoolDegree'].value_counts(normalize=True)*100\n",
    "Academicـdegrees = Academicـdegrees.drop(labels = ['Unkown']) \n",
    "Academicـdegrees"
   ]
  },
  {
   "cell_type": "code",
   "execution_count": 191,
   "metadata": {},
   "outputs": [
    {
     "data": {
      "text/html": [
       "<div>\n",
       "<style scoped>\n",
       "    .dataframe tbody tr th:only-of-type {\n",
       "        vertical-align: middle;\n",
       "    }\n",
       "\n",
       "    .dataframe tbody tr th {\n",
       "        vertical-align: top;\n",
       "    }\n",
       "\n",
       "    .dataframe thead th {\n",
       "        text-align: right;\n",
       "    }\n",
       "</style>\n",
       "<table border=\"1\" class=\"dataframe\">\n",
       "  <thead>\n",
       "    <tr style=\"text-align: right;\">\n",
       "      <th></th>\n",
       "      <th>SchoolDegree</th>\n",
       "      <th>index</th>\n",
       "    </tr>\n",
       "  </thead>\n",
       "  <tbody>\n",
       "    <tr>\n",
       "      <th>Bachelor</th>\n",
       "      <td>42.857143</td>\n",
       "      <td>Bachelor</td>\n",
       "    </tr>\n",
       "    <tr>\n",
       "      <th>Master</th>\n",
       "      <td>35.714286</td>\n",
       "      <td>Master</td>\n",
       "    </tr>\n",
       "    <tr>\n",
       "      <th>Phd</th>\n",
       "      <td>14.285714</td>\n",
       "      <td>Phd</td>\n",
       "    </tr>\n",
       "  </tbody>\n",
       "</table>\n",
       "</div>"
      ],
      "text/plain": [
       "          SchoolDegree     index\n",
       "Bachelor     42.857143  Bachelor\n",
       "Master       35.714286    Master\n",
       "Phd          14.285714       Phd"
      ]
     },
     "execution_count": 191,
     "metadata": {},
     "output_type": "execute_result"
    }
   ],
   "source": [
    "# Convert the output to a data frame. And index preservation \n",
    "Academicـdegrees = Academicـdegrees.to_frame()\n",
    "Academicـdegrees['index'] = Academicـdegrees.index\n",
    "Academicـdegrees\n"
   ]
  },
  {
   "cell_type": "code",
   "execution_count": 192,
   "metadata": {},
   "outputs": [
    {
     "data": {
      "image/png": "[encoded data removed]",
      "text/plain": [
       "<Figure size 720x360 with 1 Axes>"
      ]
     },
     "metadata": {},
     "output_type": "display_data"
    }
   ],
   "source": [
    "# plot1 real \n",
    "\n",
    "fig, ax= plt.subplots(figsize =(10,5))\n",
    "#ns.set_style('whitegrid')\n",
    "sns.set_context('notebook')\n",
    "sns.set(font_scale=1)\n",
    "plt.fontsize =(16)\n",
    "\n",
    "ax=sns.barplot(palette=\"Blues_r\",ax=ax,\n",
    "\n",
    "            x=Academicـdegrees['SchoolDegree'],y=Academicـdegrees['index'])\n",
    "total=len(Academicـdegrees['index'])\n",
    "for p in ax.patches:\n",
    "    percentage ='{:,.0f}%'.format(p.get_width())\n",
    "    width, height =p.get_width(),p.get_height()\n",
    "    x=p.get_x()+width+0.02\n",
    "    y=p.get_y()+height/2\n",
    "    ax.annotate(percentage,(x,y))\n",
    "\n",
    "plt.xticks(rotation =0,fontsize =10)\n",
    "plt.yticks(rotation =0,fontsize =13)\n",
    "\n",
    "plt.title('Academic degrees for Saudi Aramco employees',\n",
    "         fontsize =16\n",
    "         )\n",
    "plt.xlabel ('',fontsize =16)\n",
    "plt.ylabel ('Academic degrees',fontsize =16)\n",
    "\n",
    "plt.show ()"
   ]
  },
  {
   "cell_type": "markdown",
   "metadata": {},
   "source": [
    "# Sabic company "
   ]
  },
  {
   "cell_type": "code",
   "execution_count": 193,
   "metadata": {},
   "outputs": [
    {
     "data": {
      "text/plain": [
       "(33, 17)"
      ]
     },
     "execution_count": 193,
     "metadata": {},
     "output_type": "execute_result"
    }
   ],
   "source": [
    "sabic = df[df['company']=='sabic'] \n",
    "sabic.shape"
   ]
  },
  {
   "cell_type": "code",
   "execution_count": 194,
   "metadata": {},
   "outputs": [
    {
     "name": "stderr",
     "output_type": "stream",
     "text": [
      "/var/folders/q9/r2j6s5gj6vqbgwbptm3ztjsc0000gn/T/ipykernel_1891/1450876884.py:1: SettingWithCopyWarning: \n",
      "A value is trying to be set on a copy of a slice from a DataFrame.\n",
      "Try using .loc[row_indexer,col_indexer] = value instead\n",
      "\n",
      "See the caveats in the documentation: https://pandas.pydata.org/pandas-docs/stable/user_guide/indexing.html#returning-a-view-versus-a-copy\n",
      "  sabic['school']= sabic['school'].str.replace('king fahd university of petroleum & minerals - kfupm','king fahd university of petroleum & minerals')\n",
      "/var/folders/q9/r2j6s5gj6vqbgwbptm3ztjsc0000gn/T/ipykernel_1891/1450876884.py:2: SettingWithCopyWarning: \n",
      "A value is trying to be set on a copy of a slice from a DataFrame.\n",
      "Try using .loc[row_indexer,col_indexer] = value instead\n",
      "\n",
      "See the caveats in the documentation: https://pandas.pydata.org/pandas-docs/stable/user_guide/indexing.html#returning-a-view-versus-a-copy\n",
      "  sabic['school']= sabic['school'].str.replace('king fahd university of petroleum and minerals','king fahd university of petroleum & minerals')\n"
     ]
    }
   ],
   "source": [
    "sabic['school']= sabic['school'].str.replace('king fahd university of petroleum & minerals - kfupm','king fahd university of petroleum & minerals')\n",
    "sabic['school']= sabic['school'].str.replace('king fahd university of petroleum and minerals','king fahd university of petroleum & minerals')"
   ]
  },
  {
   "cell_type": "code",
   "execution_count": 195,
   "metadata": {},
   "outputs": [
    {
     "data": {
      "text/plain": [
       "king fahd university of petroleum & minerals    24.242424\n",
       "king faisal university                          12.121212\n",
       "imam abdulrahman bin faisal university           9.090909\n",
       "king saud university                             9.090909\n",
       "jubail university college                        6.060606\n",
       "Name: school, dtype: float64"
      ]
     },
     "execution_count": 195,
     "metadata": {},
     "output_type": "execute_result"
    }
   ],
   "source": [
    "# Universities that graduated SABIC employees\n",
    "sabic_uni = (sabic['school'].value_counts(normalize=True)*100).head()\n",
    "sabic_uni "
   ]
  },
  {
   "cell_type": "code",
   "execution_count": 196,
   "metadata": {},
   "outputs": [
    {
     "data": {
      "text/html": [
       "<div>\n",
       "<style scoped>\n",
       "    .dataframe tbody tr th:only-of-type {\n",
       "        vertical-align: middle;\n",
       "    }\n",
       "\n",
       "    .dataframe tbody tr th {\n",
       "        vertical-align: top;\n",
       "    }\n",
       "\n",
       "    .dataframe thead th {\n",
       "        text-align: right;\n",
       "    }\n",
       "</style>\n",
       "<table border=\"1\" class=\"dataframe\">\n",
       "  <thead>\n",
       "    <tr style=\"text-align: right;\">\n",
       "      <th></th>\n",
       "      <th>school</th>\n",
       "      <th>index</th>\n",
       "    </tr>\n",
       "  </thead>\n",
       "  <tbody>\n",
       "    <tr>\n",
       "      <th>king fahd university of petroleum &amp; minerals</th>\n",
       "      <td>24.242424</td>\n",
       "      <td>king fahd university of petroleum &amp; minerals</td>\n",
       "    </tr>\n",
       "    <tr>\n",
       "      <th>king faisal university</th>\n",
       "      <td>12.121212</td>\n",
       "      <td>king faisal university</td>\n",
       "    </tr>\n",
       "    <tr>\n",
       "      <th>imam abdulrahman bin faisal university</th>\n",
       "      <td>9.090909</td>\n",
       "      <td>imam abdulrahman bin faisal university</td>\n",
       "    </tr>\n",
       "    <tr>\n",
       "      <th>king saud university</th>\n",
       "      <td>9.090909</td>\n",
       "      <td>king saud university</td>\n",
       "    </tr>\n",
       "    <tr>\n",
       "      <th>jubail university college</th>\n",
       "      <td>6.060606</td>\n",
       "      <td>jubail university college</td>\n",
       "    </tr>\n",
       "  </tbody>\n",
       "</table>\n",
       "</div>"
      ],
      "text/plain": [
       "                                                 school  \\\n",
       "king fahd university of petroleum & minerals  24.242424   \n",
       "king faisal university                        12.121212   \n",
       "imam abdulrahman bin faisal university         9.090909   \n",
       "king saud university                           9.090909   \n",
       "jubail university college                      6.060606   \n",
       "\n",
       "                                                                                     index  \n",
       "king fahd university of petroleum & minerals  king fahd university of petroleum & minerals  \n",
       "king faisal university                                              king faisal university  \n",
       "imam abdulrahman bin faisal university              imam abdulrahman bin faisal university  \n",
       "king saud university                                                  king saud university  \n",
       "jubail university college                                        jubail university college  "
      ]
     },
     "execution_count": 196,
     "metadata": {},
     "output_type": "execute_result"
    }
   ],
   "source": [
    "# Save the output in the data frame and add a variable in which the index is saved\n",
    "sabic_uni = sabic_uni.to_frame()\n",
    "sabic_uni['index'] = sabic_uni.index\n",
    "sabic_uni"
   ]
  },
  {
   "cell_type": "code",
   "execution_count": 197,
   "metadata": {},
   "outputs": [
    {
     "data": {
      "image/png": "[encoded data removed]",
      "text/plain": [
       "<Figure size 720x360 with 1 Axes>"
      ]
     },
     "metadata": {},
     "output_type": "display_data"
    }
   ],
   "source": [
    "# plot1 real \n",
    "\n",
    "fig, ax= plt.subplots(figsize =(10,5))\n",
    "#ns.set_style('whitegrid')\n",
    "sns.set_context('notebook')\n",
    "sns.set(font_scale=1)\n",
    "plt.fontsize =(16)\n",
    "\n",
    "ax=sns.barplot(palette=\"Blues_r\",ax=ax,\n",
    "\n",
    "            x=sabic_uni['school'],y=sabic_uni['index'])\n",
    "total=len(sabic_uni['index'])\n",
    "for p in ax.patches:\n",
    "    percentage ='{:,.0f}%'.format(p.get_width())\n",
    "    width, height =p.get_width(),p.get_height()\n",
    "    x=p.get_x()+width+0.02\n",
    "    y=p.get_y()+height/2\n",
    "    ax.annotate(percentage,(x,y))\n",
    "\n",
    "plt.xticks(rotation =0,fontsize =10)\n",
    "plt.yticks(rotation =0,fontsize =13)\n",
    "\n",
    "plt.title('The 5 most universities graduate people working in Sabic',\n",
    "         fontsize =16\n",
    "         )\n",
    "plt.xlabel ('',fontsize =16)\n",
    "plt.ylabel ('Universities names',fontsize =16)\n",
    "\n",
    "plt.show ()"
   ]
  },
  {
   "cell_type": "code",
   "execution_count": 198,
   "metadata": {},
   "outputs": [
    {
     "data": {
      "text/plain": [
       "Computer Science         42.424242\n",
       "Information Systems      27.272727\n",
       "Software Engineeringe    21.212121\n",
       "Unkown                    9.090909\n",
       "Name: SchoolDegree, dtype: float64"
      ]
     },
     "execution_count": 198,
     "metadata": {},
     "output_type": "execute_result"
    }
   ],
   "source": [
    "# Departments of employees of Aramco\n",
    "sabic_degree = sabic['SchoolDegree'].value_counts(normalize=True)*100\n",
    "#sabic_degree = sabic_degree.drop(labels = ['Unkown']) \n",
    "sabic_degree "
   ]
  },
  {
   "cell_type": "code",
   "execution_count": 199,
   "metadata": {},
   "outputs": [
    {
     "data": {
      "text/html": [
       "<div>\n",
       "<style scoped>\n",
       "    .dataframe tbody tr th:only-of-type {\n",
       "        vertical-align: middle;\n",
       "    }\n",
       "\n",
       "    .dataframe tbody tr th {\n",
       "        vertical-align: top;\n",
       "    }\n",
       "\n",
       "    .dataframe thead th {\n",
       "        text-align: right;\n",
       "    }\n",
       "</style>\n",
       "<table border=\"1\" class=\"dataframe\">\n",
       "  <thead>\n",
       "    <tr style=\"text-align: right;\">\n",
       "      <th></th>\n",
       "      <th>SchoolDegree</th>\n",
       "      <th>index</th>\n",
       "    </tr>\n",
       "  </thead>\n",
       "  <tbody>\n",
       "    <tr>\n",
       "      <th>Computer Science</th>\n",
       "      <td>42.424242</td>\n",
       "      <td>Computer Science</td>\n",
       "    </tr>\n",
       "    <tr>\n",
       "      <th>Information Systems</th>\n",
       "      <td>27.272727</td>\n",
       "      <td>Information Systems</td>\n",
       "    </tr>\n",
       "    <tr>\n",
       "      <th>Software Engineeringe</th>\n",
       "      <td>21.212121</td>\n",
       "      <td>Software Engineeringe</td>\n",
       "    </tr>\n",
       "    <tr>\n",
       "      <th>Unkown</th>\n",
       "      <td>9.090909</td>\n",
       "      <td>Unkown</td>\n",
       "    </tr>\n",
       "  </tbody>\n",
       "</table>\n",
       "</div>"
      ],
      "text/plain": [
       "                       SchoolDegree                  index\n",
       "Computer Science          42.424242       Computer Science\n",
       "Information Systems       27.272727    Information Systems\n",
       "Software Engineeringe     21.212121  Software Engineeringe\n",
       "Unkown                     9.090909                 Unkown"
      ]
     },
     "execution_count": 199,
     "metadata": {},
     "output_type": "execute_result"
    }
   ],
   "source": [
    "# change the type saudi_aramco_degree ro data frame \n",
    "sabic_degree = sabic_degree.to_frame()\n",
    "sabic_degree['index'] = sabic_degree.index\n",
    "sabic_degree\n"
   ]
  },
  {
   "cell_type": "code",
   "execution_count": 200,
   "metadata": {},
   "outputs": [
    {
     "data": {
      "image/png": "[encoded data removed]",
      "text/plain": [
       "<Figure size 720x360 with 1 Axes>"
      ]
     },
     "metadata": {},
     "output_type": "display_data"
    }
   ],
   "source": [
    "# plot1 real \n",
    "\n",
    "fig, ax= plt.subplots(figsize =(10,5))\n",
    "#ns.set_style('whitegrid')\n",
    "sns.set_context('notebook')\n",
    "sns.set(font_scale=1)\n",
    "plt.fontsize =(16)\n",
    "# Determine the columns\n",
    "ax=sns.barplot(palette=\"Blues_r\",ax=ax,\n",
    "\n",
    "            x=sabic_degree['SchoolDegree'],y=sabic_degree['index'])\n",
    "total=len(sabic_degree['index'])\n",
    "for p in ax.patches:\n",
    "    percentage ='{:,.0f}%'.format(p.get_width())\n",
    "    width, height =p.get_width(),p.get_height()\n",
    "    x=p.get_x()+width+0.02\n",
    "    y=p.get_y()+height/2\n",
    "    ax.annotate(percentage,(x,y))\n",
    "\n",
    "plt.xticks(rotation =0,fontsize =10)\n",
    "plt.yticks(rotation =0,fontsize =13)\n",
    "#title\n",
    "plt.title('Departments of employees of Sabic',\n",
    "         fontsize =16\n",
    "         )\n",
    "plt.xlabel ('',fontsize =16)\n",
    "plt.ylabel ('Departments',fontsize =16)\n",
    "\n",
    "plt.show ()"
   ]
  },
  {
   "cell_type": "code",
   "execution_count": 201,
   "metadata": {},
   "outputs": [],
   "source": [
    "# Merge all skills\n",
    "skills= pd.concat(([sabic[\"skill1\"],sabic[\"skill2\"],sabic[\"skill3\"],sabic[\"skill4\"],sabic[\"skill5\"],sabic[\"skill6\"]]),ignore_index=True, sort=False)"
   ]
  },
  {
   "cell_type": "code",
   "execution_count": 202,
   "metadata": {},
   "outputs": [],
   "source": [
    "# Convert the output to a data frame\n",
    "skills = skills.to_frame()"
   ]
  },
  {
   "cell_type": "code",
   "execution_count": 203,
   "metadata": {},
   "outputs": [],
   "source": [
    "# Save all skills in a new varible\n",
    "skills['s']= pd.concat(([sabic[\"skill1\"],sabic[\"skill2\"],sabic[\"skill3\"],sabic[\"skill4\"],sabic[\"skill5\"],sabic[\"skill6\"]]),ignore_index=True, sort=False)"
   ]
  },
  {
   "cell_type": "code",
   "execution_count": 204,
   "metadata": {},
   "outputs": [],
   "source": [
    "## Convert the output to a str\n",
    "skills['s']= skills['s'].astype(str)"
   ]
  },
  {
   "cell_type": "code",
   "execution_count": 205,
   "metadata": {},
   "outputs": [],
   "source": [
    "# apply finction find_skills\n",
    "skills['Type'] = skills['s'].apply(find_skills) "
   ]
  },
  {
   "cell_type": "code",
   "execution_count": 206,
   "metadata": {},
   "outputs": [
    {
     "data": {
      "text/html": [
       "<div>\n",
       "<style scoped>\n",
       "    .dataframe tbody tr th:only-of-type {\n",
       "        vertical-align: middle;\n",
       "    }\n",
       "\n",
       "    .dataframe tbody tr th {\n",
       "        vertical-align: top;\n",
       "    }\n",
       "\n",
       "    .dataframe thead th {\n",
       "        text-align: right;\n",
       "    }\n",
       "</style>\n",
       "<table border=\"1\" class=\"dataframe\">\n",
       "  <thead>\n",
       "    <tr style=\"text-align: right;\">\n",
       "      <th></th>\n",
       "      <th>0</th>\n",
       "      <th>s</th>\n",
       "      <th>Type</th>\n",
       "    </tr>\n",
       "  </thead>\n",
       "  <tbody>\n",
       "    <tr>\n",
       "      <th>0</th>\n",
       "      <td>Microsoft Office</td>\n",
       "      <td>Microsoft Office</td>\n",
       "      <td>Unkown</td>\n",
       "    </tr>\n",
       "    <tr>\n",
       "      <th>1</th>\n",
       "      <td>Data Analysis</td>\n",
       "      <td>Data Analysis</td>\n",
       "      <td>Unkown</td>\n",
       "    </tr>\n",
       "    <tr>\n",
       "      <th>2</th>\n",
       "      <td>Java</td>\n",
       "      <td>Java</td>\n",
       "      <td>programming languages</td>\n",
       "    </tr>\n",
       "    <tr>\n",
       "      <th>3</th>\n",
       "      <td>Big Data</td>\n",
       "      <td>Big Data</td>\n",
       "      <td>Unkown</td>\n",
       "    </tr>\n",
       "    <tr>\n",
       "      <th>4</th>\n",
       "      <td>Software Engineering</td>\n",
       "      <td>Software Engineering</td>\n",
       "      <td>Unkown</td>\n",
       "    </tr>\n",
       "  </tbody>\n",
       "</table>\n",
       "</div>"
      ],
      "text/plain": [
       "                      0                     s                   Type\n",
       "0      Microsoft Office      Microsoft Office                 Unkown\n",
       "1         Data Analysis         Data Analysis                 Unkown\n",
       "2                  Java                  Java  programming languages\n",
       "3              Big Data              Big Data                 Unkown\n",
       "4  Software Engineering  Software Engineering                 Unkown"
      ]
     },
     "execution_count": 206,
     "metadata": {},
     "output_type": "execute_result"
    }
   ],
   "source": [
    "skills.head()"
   ]
  },
  {
   "cell_type": "code",
   "execution_count": 207,
   "metadata": {},
   "outputs": [
    {
     "data": {
      "text/html": [
       "<div>\n",
       "<style scoped>\n",
       "    .dataframe tbody tr th:only-of-type {\n",
       "        vertical-align: middle;\n",
       "    }\n",
       "\n",
       "    .dataframe tbody tr th {\n",
       "        vertical-align: top;\n",
       "    }\n",
       "\n",
       "    .dataframe thead th {\n",
       "        text-align: right;\n",
       "    }\n",
       "</style>\n",
       "<table border=\"1\" class=\"dataframe\">\n",
       "  <thead>\n",
       "    <tr style=\"text-align: right;\">\n",
       "      <th></th>\n",
       "      <th>0</th>\n",
       "      <th>s</th>\n",
       "      <th>Type</th>\n",
       "    </tr>\n",
       "  </thead>\n",
       "  <tbody>\n",
       "    <tr>\n",
       "      <th>2</th>\n",
       "      <td>Java</td>\n",
       "      <td>Java</td>\n",
       "      <td>programming languages</td>\n",
       "    </tr>\n",
       "    <tr>\n",
       "      <th>11</th>\n",
       "      <td>Java</td>\n",
       "      <td>Java</td>\n",
       "      <td>programming languages</td>\n",
       "    </tr>\n",
       "    <tr>\n",
       "      <th>15</th>\n",
       "      <td>Python</td>\n",
       "      <td>Python</td>\n",
       "      <td>programming languages</td>\n",
       "    </tr>\n",
       "    <tr>\n",
       "      <th>18</th>\n",
       "      <td>SQL</td>\n",
       "      <td>SQL</td>\n",
       "      <td>programming languages</td>\n",
       "    </tr>\n",
       "    <tr>\n",
       "      <th>20</th>\n",
       "      <td>Java</td>\n",
       "      <td>Java</td>\n",
       "      <td>programming languages</td>\n",
       "    </tr>\n",
       "    <tr>\n",
       "      <th>33</th>\n",
       "      <td>Java</td>\n",
       "      <td>Java</td>\n",
       "      <td>programming languages</td>\n",
       "    </tr>\n",
       "    <tr>\n",
       "      <th>40</th>\n",
       "      <td>Python (Programming Language)</td>\n",
       "      <td>Python (Programming Language)</td>\n",
       "      <td>programming languages</td>\n",
       "    </tr>\n",
       "    <tr>\n",
       "      <th>44</th>\n",
       "      <td>SQL</td>\n",
       "      <td>SQL</td>\n",
       "      <td>programming languages</td>\n",
       "    </tr>\n",
       "    <tr>\n",
       "      <th>51</th>\n",
       "      <td>C#</td>\n",
       "      <td>C#</td>\n",
       "      <td>programming languages</td>\n",
       "    </tr>\n",
       "    <tr>\n",
       "      <th>55</th>\n",
       "      <td>C++</td>\n",
       "      <td>C++</td>\n",
       "      <td>programming languages</td>\n",
       "    </tr>\n",
       "  </tbody>\n",
       "</table>\n",
       "</div>"
      ],
      "text/plain": [
       "                                0                              s  \\\n",
       "2                            Java                           Java   \n",
       "11                           Java                           Java   \n",
       "15                         Python                         Python   \n",
       "18                            SQL                            SQL   \n",
       "20                           Java                           Java   \n",
       "33                           Java                           Java   \n",
       "40  Python (Programming Language)  Python (Programming Language)   \n",
       "44                            SQL                            SQL   \n",
       "51                             C#                             C#   \n",
       "55                            C++                            C++   \n",
       "\n",
       "                     Type  \n",
       "2   programming languages  \n",
       "11  programming languages  \n",
       "15  programming languages  \n",
       "18  programming languages  \n",
       "20  programming languages  \n",
       "33  programming languages  \n",
       "40  programming languages  \n",
       "44  programming languages  \n",
       "51  programming languages  \n",
       "55  programming languages  "
      ]
     },
     "execution_count": 207,
     "metadata": {},
     "output_type": "execute_result"
    }
   ],
   "source": [
    "#Determining programming language skills only\n",
    "programming_languages = skills[skills['Type']=='programming languages'] \n",
    "programming_languages.head(10) "
   ]
  },
  {
   "cell_type": "code",
   "execution_count": 208,
   "metadata": {},
   "outputs": [],
   "source": [
    "# Save the top 10 programming languages that have been repeated\n",
    "top_skills = (programming_languages['s'].value_counts(normalize=True)*100)\n",
    "top_skills = top_skills.to_frame()\n",
    "top_skills['index']=top_skills.index"
   ]
  },
  {
   "cell_type": "code",
   "execution_count": 209,
   "metadata": {},
   "outputs": [
    {
     "data": {
      "image/png": "[encoded data removed]",
      "text/plain": [
       "<Figure size 864x360 with 1 Axes>"
      ]
     },
     "metadata": {},
     "output_type": "display_data"
    }
   ],
   "source": [
    "# plot1 real \n",
    "\n",
    "fig, ax= plt.subplots(figsize =(12,5))\n",
    "#ns.set_style('whitegrid')\n",
    "sns.set_context('notebook')\n",
    "sns.set(font_scale=1)\n",
    "plt.fontsize =(16)\n",
    "\n",
    "ax=sns.barplot(palette=\"Blues_r\",ax=ax,\n",
    "\n",
    "            x=top_skills['s'],y=top_skills['index'])\n",
    "total=len(top_skills['index'])\n",
    "for p in ax.patches:\n",
    "    percentage ='{:,.0f}%'.format(p.get_width())\n",
    "    width, height =p.get_width(),p.get_height()\n",
    "    x=p.get_x()+width+0.02\n",
    "    y=p.get_y()+height/2\n",
    "    ax.annotate(percentage,(x,y))\n",
    "\n",
    "plt.xticks(rotation =0,fontsize =10)\n",
    "plt.yticks(rotation =0,fontsize =13)\n",
    "\n",
    "plt.title('The most frequently programming languages for sabic employees',\n",
    "         fontsize =16\n",
    "         )\n",
    "plt.xlabel ('',fontsize =16)\n",
    "plt.ylabel ('Programming Languages',fontsize =16)\n",
    "\n",
    "plt.show ()"
   ]
  },
  {
   "cell_type": "code",
   "execution_count": 210,
   "metadata": {},
   "outputs": [
    {
     "data": {
      "text/html": [
       "<div>\n",
       "<style scoped>\n",
       "    .dataframe tbody tr th:only-of-type {\n",
       "        vertical-align: middle;\n",
       "    }\n",
       "\n",
       "    .dataframe tbody tr th {\n",
       "        vertical-align: top;\n",
       "    }\n",
       "\n",
       "    .dataframe thead th {\n",
       "        text-align: right;\n",
       "    }\n",
       "</style>\n",
       "<table border=\"1\" class=\"dataframe\">\n",
       "  <thead>\n",
       "    <tr style=\"text-align: right;\">\n",
       "      <th></th>\n",
       "      <th>0</th>\n",
       "      <th>s</th>\n",
       "      <th>Type</th>\n",
       "    </tr>\n",
       "  </thead>\n",
       "  <tbody>\n",
       "    <tr>\n",
       "      <th>10</th>\n",
       "      <td>Project Management</td>\n",
       "      <td>Project Management</td>\n",
       "      <td>Soft skills</td>\n",
       "    </tr>\n",
       "    <tr>\n",
       "      <th>16</th>\n",
       "      <td>Team Leadership</td>\n",
       "      <td>Team Leadership</td>\n",
       "      <td>Soft skills</td>\n",
       "    </tr>\n",
       "    <tr>\n",
       "      <th>21</th>\n",
       "      <td>Teamwork</td>\n",
       "      <td>Teamwork</td>\n",
       "      <td>Soft skills</td>\n",
       "    </tr>\n",
       "    <tr>\n",
       "      <th>23</th>\n",
       "      <td>Project Management</td>\n",
       "      <td>Project Management</td>\n",
       "      <td>Soft skills</td>\n",
       "    </tr>\n",
       "    <tr>\n",
       "      <th>26</th>\n",
       "      <td>Leadership</td>\n",
       "      <td>Leadership</td>\n",
       "      <td>Soft skills</td>\n",
       "    </tr>\n",
       "    <tr>\n",
       "      <th>27</th>\n",
       "      <td>Project Management</td>\n",
       "      <td>Project Management</td>\n",
       "      <td>Soft skills</td>\n",
       "    </tr>\n",
       "    <tr>\n",
       "      <th>30</th>\n",
       "      <td>Project Management</td>\n",
       "      <td>Project Management</td>\n",
       "      <td>Soft skills</td>\n",
       "    </tr>\n",
       "    <tr>\n",
       "      <th>34</th>\n",
       "      <td>Project Management</td>\n",
       "      <td>Project Management</td>\n",
       "      <td>Soft skills</td>\n",
       "    </tr>\n",
       "    <tr>\n",
       "      <th>35</th>\n",
       "      <td>Teamwork</td>\n",
       "      <td>Teamwork</td>\n",
       "      <td>Soft skills</td>\n",
       "    </tr>\n",
       "    <tr>\n",
       "      <th>49</th>\n",
       "      <td>Project Management</td>\n",
       "      <td>Project Management</td>\n",
       "      <td>Soft skills</td>\n",
       "    </tr>\n",
       "  </tbody>\n",
       "</table>\n",
       "</div>"
      ],
      "text/plain": [
       "                     0                   s         Type\n",
       "10  Project Management  Project Management  Soft skills\n",
       "16     Team Leadership     Team Leadership  Soft skills\n",
       "21            Teamwork            Teamwork  Soft skills\n",
       "23  Project Management  Project Management  Soft skills\n",
       "26          Leadership          Leadership  Soft skills\n",
       "27  Project Management  Project Management  Soft skills\n",
       "30  Project Management  Project Management  Soft skills\n",
       "34  Project Management  Project Management  Soft skills\n",
       "35            Teamwork            Teamwork  Soft skills\n",
       "49  Project Management  Project Management  Soft skills"
      ]
     },
     "execution_count": 210,
     "metadata": {},
     "output_type": "execute_result"
    }
   ],
   "source": [
    "#Determining programming language skills only\n",
    "Soft_skills = skills[skills['Type']=='Soft skills'] \n",
    "Soft_skills.head(10) "
   ]
  },
  {
   "cell_type": "code",
   "execution_count": 211,
   "metadata": {},
   "outputs": [],
   "source": [
    "# Determine the most frequent soft skills\n",
    "top_skills = (Soft_skills['s'].value_counts(normalize=True)*100).head(10)\n",
    "top_skills = top_skills.to_frame()\n",
    "top_skills['index']=top_skills.index "
   ]
  },
  {
   "cell_type": "code",
   "execution_count": 212,
   "metadata": {},
   "outputs": [
    {
     "data": {
      "image/png": "[encoded data removed]",
      "text/plain": [
       "<Figure size 864x360 with 1 Axes>"
      ]
     },
     "metadata": {},
     "output_type": "display_data"
    }
   ],
   "source": [
    "# plot1 real \n",
    "\n",
    "fig, ax= plt.subplots(figsize =(12,5))\n",
    "#ns.set_style('whitegrid')\n",
    "sns.set_context('notebook')\n",
    "sns.set(font_scale=1)\n",
    "plt.fontsize =(16)\n",
    "\n",
    "ax=sns.barplot(palette=\"Blues_r\",ax=ax,\n",
    "\n",
    "            x=top_skills['s'],y=top_skills['index'])\n",
    "total=len(top_skills['index'])\n",
    "for p in ax.patches:\n",
    "    percentage ='{:,.0f}%'.format(p.get_width())\n",
    "    width, height =p.get_width(),p.get_height()\n",
    "    x=p.get_x()+width+0.02\n",
    "    y=p.get_y()+height/2\n",
    "    ax.annotate(percentage,(x,y))\n",
    "\n",
    "plt.xticks(rotation =0,fontsize =10)\n",
    "plt.yticks(rotation =0,fontsize =13)\n",
    "\n",
    "plt.title('frequently of Soft Skills',\n",
    "         fontsize =16\n",
    "         ) \n",
    "plt.xlabel ('',fontsize =16)\n",
    "plt.ylabel ('Soft Skills',fontsize =16)\n",
    "\n",
    "plt.show ()"
   ]
  },
  {
   "cell_type": "code",
   "execution_count": 213,
   "metadata": {},
   "outputs": [
    {
     "name": "stderr",
     "output_type": "stream",
     "text": [
      "/var/folders/q9/r2j6s5gj6vqbgwbptm3ztjsc0000gn/T/ipykernel_1891/4190698059.py:2: SettingWithCopyWarning: \n",
      "A value is trying to be set on a copy of a slice from a DataFrame.\n",
      "Try using .loc[row_indexer,col_indexer] = value instead\n",
      "\n",
      "See the caveats in the documentation: https://pandas.pydata.org/pandas-docs/stable/user_guide/indexing.html#returning-a-view-versus-a-copy\n",
      "  sabic.loc[:,'SchoolDegree'] = np.vectorize(schoolDegree, otypes=[\"O\"]) (sabic['schoolDegree'], sabic['schoolDegree2'])\n"
     ]
    }
   ],
   "source": [
    "# using vectorize from numpy \n",
    "sabic.loc[:,'SchoolDegree'] = np.vectorize(schoolDegree, otypes=[\"O\"]) (sabic['schoolDegree'], sabic['schoolDegree2'])"
   ]
  },
  {
   "cell_type": "code",
   "execution_count": 214,
   "metadata": {},
   "outputs": [
    {
     "data": {
      "text/plain": [
       "Bachelor    63.636364\n",
       "Master      27.272727\n",
       "Unkown       9.090909\n",
       "Name: SchoolDegree, dtype: float64"
      ]
     },
     "execution_count": 214,
     "metadata": {},
     "output_type": "execute_result"
    }
   ],
   "source": [
    "# Returning academic degrees to sabic employees\n",
    "Academicـdegrees = sabic['SchoolDegree'].value_counts(normalize=True)*100\n",
    "Academicـdegrees"
   ]
  },
  {
   "cell_type": "code",
   "execution_count": 215,
   "metadata": {},
   "outputs": [
    {
     "data": {
      "text/html": [
       "<div>\n",
       "<style scoped>\n",
       "    .dataframe tbody tr th:only-of-type {\n",
       "        vertical-align: middle;\n",
       "    }\n",
       "\n",
       "    .dataframe tbody tr th {\n",
       "        vertical-align: top;\n",
       "    }\n",
       "\n",
       "    .dataframe thead th {\n",
       "        text-align: right;\n",
       "    }\n",
       "</style>\n",
       "<table border=\"1\" class=\"dataframe\">\n",
       "  <thead>\n",
       "    <tr style=\"text-align: right;\">\n",
       "      <th></th>\n",
       "      <th>SchoolDegree</th>\n",
       "      <th>index</th>\n",
       "    </tr>\n",
       "  </thead>\n",
       "  <tbody>\n",
       "    <tr>\n",
       "      <th>Bachelor</th>\n",
       "      <td>63.636364</td>\n",
       "      <td>Bachelor</td>\n",
       "    </tr>\n",
       "    <tr>\n",
       "      <th>Master</th>\n",
       "      <td>27.272727</td>\n",
       "      <td>Master</td>\n",
       "    </tr>\n",
       "    <tr>\n",
       "      <th>Unkown</th>\n",
       "      <td>9.090909</td>\n",
       "      <td>Unkown</td>\n",
       "    </tr>\n",
       "  </tbody>\n",
       "</table>\n",
       "</div>"
      ],
      "text/plain": [
       "          SchoolDegree     index\n",
       "Bachelor     63.636364  Bachelor\n",
       "Master       27.272727    Master\n",
       "Unkown        9.090909    Unkown"
      ]
     },
     "execution_count": 215,
     "metadata": {},
     "output_type": "execute_result"
    }
   ],
   "source": [
    "# converty the output to data frame and save the index in new varible \n",
    "Academicـdegrees = Academicـdegrees.to_frame()\n",
    "Academicـdegrees['index'] = Academicـdegrees.index\n",
    "Academicـdegrees\n",
    "\n",
    "\n"
   ]
  },
  {
   "cell_type": "code",
   "execution_count": 216,
   "metadata": {},
   "outputs": [
    {
     "data": {
      "image/png": "[encoded data removed]",
      "text/plain": [
       "<Figure size 720x360 with 1 Axes>"
      ]
     },
     "metadata": {},
     "output_type": "display_data"
    }
   ],
   "source": [
    "# plot1 real \n",
    "\n",
    "fig, ax= plt.subplots(figsize =(10,5))\n",
    "#ns.set_style('whitegrid')\n",
    "sns.set_context('notebook')\n",
    "sns.set(font_scale=1)\n",
    "plt.fontsize =(16)\n",
    "\n",
    "ax=sns.barplot(palette=\"Blues_r\",ax=ax,\n",
    "\n",
    "            x=Academicـdegrees['SchoolDegree'],y=Academicـdegrees['index'])\n",
    "total=len(Academicـdegrees['index'])\n",
    "for p in ax.patches:\n",
    "    percentage ='{:,.0f}%'.format(p.get_width())\n",
    "    width, height =p.get_width(),p.get_height()\n",
    "    x=p.get_x()+width+0.02\n",
    "    y=p.get_y()+height/2\n",
    "    ax.annotate(percentage,(x,y))\n",
    "\n",
    "plt.xticks(rotation =0,fontsize =10)\n",
    "plt.yticks(rotation =0,fontsize =13)\n",
    "\n",
    "plt.title('Academic grades for Sabic employees',\n",
    "         fontsize =16\n",
    "         )\n",
    "plt.xlabel ('',fontsize =16)\n",
    "plt.ylabel ('scientific stage',fontsize =16)\n",
    "\n",
    "plt.show ()"
   ]
  },
  {
   "cell_type": "markdown",
   "metadata": {},
   "source": [
    "### I would like to know what skills a graduate of a particular university possesses? And what organizations do they join?"
   ]
  },
  {
   "cell_type": "code",
   "execution_count": 217,
   "metadata": {},
   "outputs": [],
   "source": [
    "#Choosing King Saud University\n",
    "ksu_student = df[df['school'] =='king saud university']"
   ]
  },
  {
   "cell_type": "code",
   "execution_count": 218,
   "metadata": {},
   "outputs": [],
   "source": [
    "ksu =(ksu_student['company2'].value_counts(normalize=True) *100).head(10)"
   ]
  },
  {
   "cell_type": "code",
   "execution_count": 219,
   "metadata": {},
   "outputs": [],
   "source": [
    "ksu\n",
    "ksu = ksu.drop(labels = ['SDAIA Academy','Saudi Digital Academy']) \n"
   ]
  },
  {
   "cell_type": "code",
   "execution_count": 220,
   "metadata": {},
   "outputs": [],
   "source": [
    "KSU = ksu.to_frame()\n"
   ]
  },
  {
   "cell_type": "code",
   "execution_count": 221,
   "metadata": {},
   "outputs": [],
   "source": [
    "KSU['index']=KSU.index"
   ]
  },
  {
   "cell_type": "code",
   "execution_count": 222,
   "metadata": {},
   "outputs": [
    {
     "data": {
      "image/png": "[encoded data removed]",
      "text/plain": [
       "<Figure size 864x360 with 1 Axes>"
      ]
     },
     "metadata": {},
     "output_type": "display_data"
    }
   ],
   "source": [
    "# plot1 real \n",
    "\n",
    "fig, ax= plt.subplots(figsize =(12,5))\n",
    "#ns.set_style('whitegrid')\n",
    "sns.set_context('notebook')\n",
    "sns.set(font_scale=1)\n",
    "plt.fontsize =(16)\n",
    "\n",
    "ax=sns.barplot(palette=\"Blues_r\",ax=ax,\n",
    "\n",
    "            x=KSU['company2'],y=KSU['index'])\n",
    "total=len(KSU['index'])\n",
    "for p in ax.patches:\n",
    "    percentage ='{:,.0f}%'.format(p.get_width())\n",
    "    width, height =p.get_width(),p.get_height()\n",
    "    x=p.get_x()+width+0.02\n",
    "    y=p.get_y()+height/2\n",
    "    ax.annotate(percentage,(x,y))\n",
    "\n",
    "plt.xticks(rotation =0,fontsize =10)\n",
    "plt.yticks(rotation =0,fontsize =13)\n",
    "\n",
    "plt.title('Graduates of King Saud University join these organizations',\n",
    "         fontsize =16\n",
    "         )  \n",
    "plt.xlabel ('',fontsize =16)\n",
    "plt.ylabel ('organizations',fontsize =16)\n",
    "\n",
    "plt.show ()"
   ]
  },
  {
   "cell_type": "code",
   "execution_count": 223,
   "metadata": {},
   "outputs": [],
   "source": [
    "skills= pd.concat(([ksu_student[\"skill1\"],ksu_student[\"skill2\"],ksu_student[\"skill3\"],ksu_student[\"skill4\"],ksu_student[\"skill5\"],ksu_student[\"skill6\"]]),ignore_index=True, sort=False)\n"
   ]
  },
  {
   "cell_type": "code",
   "execution_count": 224,
   "metadata": {},
   "outputs": [
    {
     "data": {
      "text/plain": [
       "0    Project Management\n",
       "1               Tableau\n",
       "2     Analytical Skills\n",
       "3         Data Analysis\n",
       "4         Data Analysis\n",
       "dtype: object"
      ]
     },
     "execution_count": 224,
     "metadata": {},
     "output_type": "execute_result"
    }
   ],
   "source": [
    "skills.head()"
   ]
  },
  {
   "cell_type": "code",
   "execution_count": 225,
   "metadata": {},
   "outputs": [],
   "source": [
    "skills = skills.to_frame() "
   ]
  },
  {
   "cell_type": "code",
   "execution_count": 226,
   "metadata": {},
   "outputs": [],
   "source": [
    "skills['s']= pd.concat(([ksu_student[\"skill1\"],ksu_student[\"skill2\"],ksu_student[\"skill3\"],ksu_student[\"skill4\"],ksu_student[\"skill5\"],ksu_student[\"skill6\"]]),ignore_index=True, sort=False)\n"
   ]
  },
  {
   "cell_type": "code",
   "execution_count": 227,
   "metadata": {},
   "outputs": [],
   "source": [
    "def find_skills(s):\n",
    "    if( s.find('SQL') != -1 or s.find('Java') != -1  or s.find('R ') != -1 or s.find('C++') != -1 or s.find('Python') != -1 or  \n",
    "        s.find('MySQL') != -1 or s.find('C#') != -1 or s.find('PHP') != -1 or  s.find('R (Programming Language)') != -1 \n",
    "         or s.find('PL/SQL') != -1 or s.find('ASP.NET') != -1 or s.find('React.js') != -1 or s.find('java') != -1 or\n",
    "         s.find('Flutter') != -1 or s.find('.NET') != -1 or s.find('.NET') != -1 or s.find('R Programing') != -1 or s.find('JavaScript') != -1):  \n",
    "        return 'programming languages'\n",
    "    # elif( s.find('Microsoft Office') != -1 or s.find('Tableau') != -1  or s.find('Microsoft SQL Server') != -1 or s.find('Microsoft Excel') != -1 or s.find('Matlab') != -1 \n",
    "      #  or s.find('Kubernetes') != -1 or s.find('SAS') != -1 or s.find('Amazon S3') != -1 or s.find('Linux') != -1 or  s.find('Databases') != -1 \n",
    "      #   or s.find('User Experience (UX)') != -1 or s.find('SDLC') != -1 or s.find('Machine Learning') != -1 or s.find('Data Visualization') != -1 or\n",
    "      #   s.find('Data Science') != -1 or s.find('Data Analysis') != -1 or s.find('Data Mining') != -1 or s.find('Business Intelligence') != -1 \n",
    "      #   or s.find('Research') != -1 or s.find('Enterprise Project Management (EPM)') != -1 or s.find('ERP)') != -1 or s.find('Artificial intelligence (AI)') != -1\n",
    "      #   or s.find('Cloud Computing') != -1 or s.find('Deep Learning') != -1 or s.find('Cybersecurity') != -1 or s.find('Statistics') != -1 or s.find(' Web Scraping') != -1\n",
    "      #   or s.find('Information Security') != -1 or s.find('Internet of Things') != -1 or s.find('Geophysics') != -1 or s.find('AWS IoT') != -1 or s.find('SPSS') != -1\n",
    "      #   or s.find('Web Development') != -1 or s.find('Big Data Analytics') != -1 or s.find('Computer Vision') != -1 or s.find('NLP') != -1 or s.find('Power pi') != -1\n",
    "      #   or s.find('Microsoft Power BI') != -1 or s.find('ETL') != -1 ): \n",
    "      #  return 'technical concepts' \n",
    "    \n",
    "    \n",
    "    elif( s.find('Communication skills') != -1 or s.find('Management') != -1  or s.find('Public Speaking') != -1 or s.find('Teamwork') != -1 or s.find('Problem Solving') != -1 \n",
    "        or s.find('Time management') != -1 or s.find('Problem Solving') != -1 or s.find('Leadership') != -1 or s.find('Team Leadership') != -1 or  s.find('statistical reports') != -1 \n",
    "         or s.find('Research') != -1 or s.find('Project Management') != -1 or s.find('Self Learning') != -1 or s.find('Critical Thinking') != -1 ): \n",
    "        return 'Soft skills'\n",
    "    \n",
    "    else:\n",
    "        return 'Unkown'"
   ]
  },
  {
   "cell_type": "code",
   "execution_count": 228,
   "metadata": {},
   "outputs": [],
   "source": [
    "skills['s']= skills['s'].astype(str)\n"
   ]
  },
  {
   "cell_type": "code",
   "execution_count": 229,
   "metadata": {},
   "outputs": [],
   "source": [
    "skills['Type'] = skills['s'].apply(find_skills) "
   ]
  },
  {
   "cell_type": "code",
   "execution_count": 230,
   "metadata": {},
   "outputs": [
    {
     "data": {
      "text/html": [
       "<div>\n",
       "<style scoped>\n",
       "    .dataframe tbody tr th:only-of-type {\n",
       "        vertical-align: middle;\n",
       "    }\n",
       "\n",
       "    .dataframe tbody tr th {\n",
       "        vertical-align: top;\n",
       "    }\n",
       "\n",
       "    .dataframe thead th {\n",
       "        text-align: right;\n",
       "    }\n",
       "</style>\n",
       "<table border=\"1\" class=\"dataframe\">\n",
       "  <thead>\n",
       "    <tr style=\"text-align: right;\">\n",
       "      <th></th>\n",
       "      <th>0</th>\n",
       "      <th>s</th>\n",
       "      <th>Type</th>\n",
       "    </tr>\n",
       "  </thead>\n",
       "  <tbody>\n",
       "    <tr>\n",
       "      <th>8</th>\n",
       "      <td>Python</td>\n",
       "      <td>Python</td>\n",
       "      <td>programming languages</td>\n",
       "    </tr>\n",
       "    <tr>\n",
       "      <th>15</th>\n",
       "      <td>SQL</td>\n",
       "      <td>SQL</td>\n",
       "      <td>programming languages</td>\n",
       "    </tr>\n",
       "    <tr>\n",
       "      <th>16</th>\n",
       "      <td>Python</td>\n",
       "      <td>Python</td>\n",
       "      <td>programming languages</td>\n",
       "    </tr>\n",
       "    <tr>\n",
       "      <th>25</th>\n",
       "      <td>Python (Programming Language)</td>\n",
       "      <td>Python (Programming Language)</td>\n",
       "      <td>programming languages</td>\n",
       "    </tr>\n",
       "    <tr>\n",
       "      <th>26</th>\n",
       "      <td>Python (Programming Language)</td>\n",
       "      <td>Python (Programming Language)</td>\n",
       "      <td>programming languages</td>\n",
       "    </tr>\n",
       "    <tr>\n",
       "      <th>32</th>\n",
       "      <td>Python (Programming Language)</td>\n",
       "      <td>Python (Programming Language)</td>\n",
       "      <td>programming languages</td>\n",
       "    </tr>\n",
       "    <tr>\n",
       "      <th>33</th>\n",
       "      <td>Python</td>\n",
       "      <td>Python</td>\n",
       "      <td>programming languages</td>\n",
       "    </tr>\n",
       "    <tr>\n",
       "      <th>37</th>\n",
       "      <td>Python</td>\n",
       "      <td>Python</td>\n",
       "      <td>programming languages</td>\n",
       "    </tr>\n",
       "    <tr>\n",
       "      <th>38</th>\n",
       "      <td>Java</td>\n",
       "      <td>Java</td>\n",
       "      <td>programming languages</td>\n",
       "    </tr>\n",
       "    <tr>\n",
       "      <th>44</th>\n",
       "      <td>Python (Programming Language)</td>\n",
       "      <td>Python (Programming Language)</td>\n",
       "      <td>programming languages</td>\n",
       "    </tr>\n",
       "  </tbody>\n",
       "</table>\n",
       "</div>"
      ],
      "text/plain": [
       "                                0                              s  \\\n",
       "8                          Python                         Python   \n",
       "15                            SQL                            SQL   \n",
       "16                         Python                         Python   \n",
       "25  Python (Programming Language)  Python (Programming Language)   \n",
       "26  Python (Programming Language)  Python (Programming Language)   \n",
       "32  Python (Programming Language)  Python (Programming Language)   \n",
       "33                         Python                         Python   \n",
       "37                         Python                         Python   \n",
       "38                           Java                           Java   \n",
       "44  Python (Programming Language)  Python (Programming Language)   \n",
       "\n",
       "                     Type  \n",
       "8   programming languages  \n",
       "15  programming languages  \n",
       "16  programming languages  \n",
       "25  programming languages  \n",
       "26  programming languages  \n",
       "32  programming languages  \n",
       "33  programming languages  \n",
       "37  programming languages  \n",
       "38  programming languages  \n",
       "44  programming languages  "
      ]
     },
     "execution_count": 230,
     "metadata": {},
     "output_type": "execute_result"
    }
   ],
   "source": [
    "programming_languages = skills[skills['Type']=='programming languages'] \n",
    "programming_languages.head(10) "
   ]
  },
  {
   "cell_type": "code",
   "execution_count": 231,
   "metadata": {},
   "outputs": [],
   "source": [
    "top_skills = (programming_languages['s'].value_counts(normalize=True)*100).head(10)"
   ]
  },
  {
   "cell_type": "code",
   "execution_count": 232,
   "metadata": {},
   "outputs": [],
   "source": [
    "top_skills = top_skills.to_frame()\n",
    "top_skills['index']=top_skills.index"
   ]
  },
  {
   "cell_type": "code",
   "execution_count": 233,
   "metadata": {},
   "outputs": [
    {
     "data": {
      "image/png": "[encoded data removed]",
      "text/plain": [
       "<Figure size 864x360 with 1 Axes>"
      ]
     },
     "metadata": {},
     "output_type": "display_data"
    }
   ],
   "source": [
    "# plot1 real \n",
    "\n",
    "fig, ax= plt.subplots(figsize =(12,5))\n",
    "#ns.set_style('whitegrid')\n",
    "sns.set_context('notebook')\n",
    "sns.set(font_scale=1)\n",
    "plt.fontsize =(16)\n",
    "\n",
    "ax=sns.barplot(palette=\"Blues_r\",ax=ax,\n",
    "\n",
    "            x=top_skills['s'],y=top_skills['index'])\n",
    "total=len(top_skills['index'])\n",
    "for p in ax.patches:\n",
    "    percentage ='{:,.0f}%'.format(p.get_width())\n",
    "    width, height =p.get_width(),p.get_height()\n",
    "    x=p.get_x()+width+0.02\n",
    "    y=p.get_y()+height/2\n",
    "    ax.annotate(percentage,(x,y))\n",
    "\n",
    "plt.xticks(rotation =0,fontsize =10)\n",
    "plt.yticks(rotation =0,fontsize =13)\n",
    "\n",
    "plt.title(\"The most frequently programming languages for King Saud University\",\n",
    "         fontsize =16\n",
    "         )\n",
    "plt.xlabel ('',fontsize =16)\n",
    "plt.ylabel ('programming languages',fontsize =16)\n",
    "\n",
    "plt.show ()"
   ]
  },
  {
   "cell_type": "code",
   "execution_count": 234,
   "metadata": {},
   "outputs": [
    {
     "data": {
      "text/html": [
       "<div>\n",
       "<style scoped>\n",
       "    .dataframe tbody tr th:only-of-type {\n",
       "        vertical-align: middle;\n",
       "    }\n",
       "\n",
       "    .dataframe tbody tr th {\n",
       "        vertical-align: top;\n",
       "    }\n",
       "\n",
       "    .dataframe thead th {\n",
       "        text-align: right;\n",
       "    }\n",
       "</style>\n",
       "<table border=\"1\" class=\"dataframe\">\n",
       "  <thead>\n",
       "    <tr style=\"text-align: right;\">\n",
       "      <th></th>\n",
       "      <th>0</th>\n",
       "      <th>s</th>\n",
       "      <th>Type</th>\n",
       "    </tr>\n",
       "  </thead>\n",
       "  <tbody>\n",
       "    <tr>\n",
       "      <th>0</th>\n",
       "      <td>Project Management</td>\n",
       "      <td>Project Management</td>\n",
       "      <td>Soft skills</td>\n",
       "    </tr>\n",
       "    <tr>\n",
       "      <th>10</th>\n",
       "      <td>Problem Solving</td>\n",
       "      <td>Problem Solving</td>\n",
       "      <td>Soft skills</td>\n",
       "    </tr>\n",
       "    <tr>\n",
       "      <th>14</th>\n",
       "      <td>Time management</td>\n",
       "      <td>Time management</td>\n",
       "      <td>Soft skills</td>\n",
       "    </tr>\n",
       "    <tr>\n",
       "      <th>17</th>\n",
       "      <td>Problem Solving</td>\n",
       "      <td>Problem Solving</td>\n",
       "      <td>Soft skills</td>\n",
       "    </tr>\n",
       "    <tr>\n",
       "      <th>28</th>\n",
       "      <td>Project Management</td>\n",
       "      <td>Project Management</td>\n",
       "      <td>Soft skills</td>\n",
       "    </tr>\n",
       "    <tr>\n",
       "      <th>34</th>\n",
       "      <td>Leadership</td>\n",
       "      <td>Leadership</td>\n",
       "      <td>Soft skills</td>\n",
       "    </tr>\n",
       "    <tr>\n",
       "      <th>43</th>\n",
       "      <td>Teamwork</td>\n",
       "      <td>Teamwork</td>\n",
       "      <td>Soft skills</td>\n",
       "    </tr>\n",
       "    <tr>\n",
       "      <th>53</th>\n",
       "      <td>Project Management</td>\n",
       "      <td>Project Management</td>\n",
       "      <td>Soft skills</td>\n",
       "    </tr>\n",
       "    <tr>\n",
       "      <th>67</th>\n",
       "      <td>Project Management</td>\n",
       "      <td>Project Management</td>\n",
       "      <td>Soft skills</td>\n",
       "    </tr>\n",
       "    <tr>\n",
       "      <th>70</th>\n",
       "      <td>Teamwork</td>\n",
       "      <td>Teamwork</td>\n",
       "      <td>Soft skills</td>\n",
       "    </tr>\n",
       "  </tbody>\n",
       "</table>\n",
       "</div>"
      ],
      "text/plain": [
       "                     0                   s         Type\n",
       "0   Project Management  Project Management  Soft skills\n",
       "10     Problem Solving     Problem Solving  Soft skills\n",
       "14     Time management     Time management  Soft skills\n",
       "17     Problem Solving     Problem Solving  Soft skills\n",
       "28  Project Management  Project Management  Soft skills\n",
       "34          Leadership          Leadership  Soft skills\n",
       "43            Teamwork            Teamwork  Soft skills\n",
       "53  Project Management  Project Management  Soft skills\n",
       "67  Project Management  Project Management  Soft skills\n",
       "70            Teamwork            Teamwork  Soft skills"
      ]
     },
     "execution_count": 234,
     "metadata": {},
     "output_type": "execute_result"
    }
   ],
   "source": [
    "programming_languages = skills[skills['Type']=='Soft skills'] \n",
    "programming_languages.head(10) "
   ]
  },
  {
   "cell_type": "code",
   "execution_count": 235,
   "metadata": {},
   "outputs": [],
   "source": [
    "top_skills = (programming_languages['s'].value_counts(normalize=True)*100).head(10)"
   ]
  },
  {
   "cell_type": "code",
   "execution_count": 236,
   "metadata": {},
   "outputs": [],
   "source": [
    "top_skills = top_skills.to_frame()\n",
    "top_skills['index']=top_skills.index"
   ]
  },
  {
   "cell_type": "code",
   "execution_count": 237,
   "metadata": {},
   "outputs": [
    {
     "data": {
      "image/png": "[encoded data removed]",
      "text/plain": [
       "<Figure size 864x360 with 1 Axes>"
      ]
     },
     "metadata": {},
     "output_type": "display_data"
    }
   ],
   "source": [
    "# plot1 real \n",
    "\n",
    "fig, ax= plt.subplots(figsize =(12,5))\n",
    "#ns.set_style('whitegrid')\n",
    "sns.set_context('notebook')\n",
    "sns.set(font_scale=1)\n",
    "plt.fontsize =(16)\n",
    "\n",
    "ax=sns.barplot(palette=\"Blues_r\",ax=ax,\n",
    "\n",
    "            x=top_skills['s'],y=top_skills['index'])\n",
    "total=len(top_skills['index'])\n",
    "for p in ax.patches:\n",
    "    percentage ='{:,.0f}%'.format(p.get_width())\n",
    "    width, height =p.get_width(),p.get_height()\n",
    "    x=p.get_x()+width+0.02\n",
    "    y=p.get_y()+height/2\n",
    "    ax.annotate(percentage,(x,y))\n",
    "\n",
    "plt.xticks(rotation =0,fontsize =10)\n",
    "plt.yticks(rotation =0,fontsize =13)\n",
    "\n",
    "plt.title(\"The most frequently Soft skills for King Saud University\",\n",
    "         fontsize =16\n",
    "         )\n",
    "plt.xlabel ('',fontsize =16)\n",
    "plt.ylabel ('Soft Skills',fontsize =16)\n",
    "\n",
    "plt.show ()"
   ]
  },
  {
   "cell_type": "code",
   "execution_count": null,
   "metadata": {},
   "outputs": [],
   "source": []
  }
 ],
 "metadata": {
  "interpreter": {
   "hash": "4d9dacf5232f5bbf23e7b3f8d99a419d8afafc63fe2b6c766cc36fbd53e02ce0"
  },
  "kernelspec": {
   "display_name": "Python 3.9.7 ('base')",
   "language": "python",
   "name": "python3"
  },
  "language_info": {
   "codemirror_mode": {
    "name": "ipython",
    "version": 3
   },
   "file_extension": ".py",
   "mimetype": "text/x-python",
   "name": "python",
   "nbconvert_exporter": "python",
   "pygments_lexer": "ipython3",
   "version": "3.9.7"
  },
  "orig_nbformat": 4
 },
 "nbformat": 4,
 "nbformat_minor": 2
}
